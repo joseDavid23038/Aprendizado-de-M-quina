{
 "cells": [
  {
   "cell_type": "markdown",
   "metadata": {},
   "source": [
    "<!DOCTYPE html>\n",
    "\n",
    "<html>\n",
    "\n",
    "<head>\n",
    "\n",
    "<title>Magos da Furadeira</title>\n",
    "\n",
    "</head>\n",
    "\n",
    "<body>\n",
    "\n",
    "<div style=\"display: flex; align-items: center;\">\n",
    "\n",
    "<a href=\"https://imagem.app/image/oX732y\"><img src=\"https://a.imagem.app/oX732y.th.png\" alt=\"oX732y.png\" border=\"0\" /></a>\n",
    "\n",
    "<p style=\"margin-left: 40px; font-size: 24px; font-weight: bold; border-bottom: 1px solid black;\">José David e Gabriel Torquarto - <br> Magos da Furadeira Bosch de Impacto </p>\n",
    "\n",
    "</div>\n",
    "\n",
    "</body>\n",
    "\n",
    "</html>\n",
    "\n",
    " "
   ]
  },
  {
   "cell_type": "markdown",
   "metadata": {},
   "source": [
    "<b><h3>As hipóteses reais</h3></b>\n",
    "\n",
    "<b>ID:</b> Modelos 04\n",
    "\n",
    "<b>Proponente:</b> Milu Iluminarius MLVI (rei do reino de Lumi. Diz a lenda que Milu Iluminarius I virou rei pois foi o único que conseguiu remover A Grande Espada da Luz da Lua que estava fincada em uma pedra. Essa história na verdade é uma grande balela e ele apenas virou rei pois seus pais eram detentores de terras).\n",
    "\n",
    "<b>Comentário:</b> O rei de Lumi está preocupado com um ataque iminente de um dragão e por conta disso (e pelo fato de ele ser o rei…) ele não postou esta tarefa no Mural de Missões mas sim delegou direto para todos vocês.\n",
    "\n",
    "<b>Objetivo:</b> O rei Iluminarius levantou as hipóteses abaixo durante sua última reunião com a cúpula de Ciência, Tecnologia e Encantamentos do reinado. Sua tarefa é responder ao menos 2 das hipóteses formuladas pelo rei. Para este trabalho, utilize o dataset de diamantes do seaborn (ouvi dizer que existe um pergaminho na Biblioteca Real que têm informações sobre este dataset!).\n",
    "\n",
    "1- Realizar normalização padrão dos atributos melhora a performance de modelos induzidos pelo algoritmo de k-vizinhos mais próximos\n",
    "\n",
    "2- Realizar normalização padrão dos atributos melhora a performance de modelos induzidos pelo algoritmo de árvore de decisão\n",
    "\n",
    "3- Reduzir a dimensinalidade do problema utilizando PCA melhora a performance de modelos induzidos pelo algoritmo de k-vizinhos mais próximos\n",
    "\n",
    "4- Reduzir a dimensinalidade do problema utilizando PCA melhora a performance de modelos induzidos pelo algoritmo de árvore de decisão\n",
    "\n",
    "<b>Comentários adicionais:</b> não é necessário realizar um teste de hipóteses estatístico neste exercício. Podem testar as hipóteses apenas checando o que ocorre e elaborando uma conclusão razoável pontuada com bom-senso. Mas se quiserem usar testes de hipóteses (aqueles com p-valor e tal) fiquem à vontade também, só não é um requerimento.\n",
    "\n",
    "<b>Pontuação máxima:</b> 50 pontos. Iluminarius MLVI irá ficar muito contente se observar o uso de pipelines do scikit-learn na entrega. Aproveitem, essa é a última tarefa do semestre (fora o trabalho de conclusão, claro) :)"
   ]
  },
  {
   "cell_type": "markdown",
   "metadata": {},
   "source": [
    "Inicialmente, importo a biblioteca Seaborn para carregar o dataset e a biblioteca pandas para fazer uso da função columns para pegar uma lista com os títulos das colunas. Assim, defino uma variável para armanezar os nomes das colunas em uma lista."
   ]
  },
  {
   "cell_type": "code",
   "execution_count": 950,
   "metadata": {},
   "outputs": [
    {
     "data": {
      "text/plain": [
       "['carat', 'cut', 'color', 'clarity', 'depth', 'table', 'price', 'x', 'y', 'z']"
      ]
     },
     "metadata": {},
     "output_type": "display_data"
    }
   ],
   "source": [
    "import seaborn as sns\n",
    "import pandas as pd\n",
    "\n",
    "DATASET_NAME = 'diamonds'\n",
    "df = sns.load_dataset(DATASET_NAME)\n",
    "colunas_do_dataset = pd.DataFrame(df).columns.to_list()\n",
    "display(colunas_do_dataset)"
   ]
  },
  {
   "cell_type": "code",
   "execution_count": 951,
   "metadata": {},
   "outputs": [
    {
     "data": {
      "text/html": [
       "<div>\n",
       "<style scoped>\n",
       "    .dataframe tbody tr th:only-of-type {\n",
       "        vertical-align: middle;\n",
       "    }\n",
       "\n",
       "    .dataframe tbody tr th {\n",
       "        vertical-align: top;\n",
       "    }\n",
       "\n",
       "    .dataframe thead th {\n",
       "        text-align: right;\n",
       "    }\n",
       "</style>\n",
       "<table border=\"1\" class=\"dataframe\">\n",
       "  <thead>\n",
       "    <tr style=\"text-align: right;\">\n",
       "      <th></th>\n",
       "      <th>carat</th>\n",
       "      <th>cut</th>\n",
       "      <th>color</th>\n",
       "      <th>clarity</th>\n",
       "      <th>depth</th>\n",
       "      <th>table</th>\n",
       "      <th>price</th>\n",
       "      <th>x</th>\n",
       "      <th>y</th>\n",
       "      <th>z</th>\n",
       "    </tr>\n",
       "  </thead>\n",
       "  <tbody>\n",
       "    <tr>\n",
       "      <th>0</th>\n",
       "      <td>0.23</td>\n",
       "      <td>Ideal</td>\n",
       "      <td>E</td>\n",
       "      <td>SI2</td>\n",
       "      <td>61.5</td>\n",
       "      <td>55.0</td>\n",
       "      <td>326</td>\n",
       "      <td>3.95</td>\n",
       "      <td>3.98</td>\n",
       "      <td>2.43</td>\n",
       "    </tr>\n",
       "    <tr>\n",
       "      <th>1</th>\n",
       "      <td>0.21</td>\n",
       "      <td>Premium</td>\n",
       "      <td>E</td>\n",
       "      <td>SI1</td>\n",
       "      <td>59.8</td>\n",
       "      <td>61.0</td>\n",
       "      <td>326</td>\n",
       "      <td>3.89</td>\n",
       "      <td>3.84</td>\n",
       "      <td>2.31</td>\n",
       "    </tr>\n",
       "    <tr>\n",
       "      <th>2</th>\n",
       "      <td>0.23</td>\n",
       "      <td>Good</td>\n",
       "      <td>E</td>\n",
       "      <td>VS1</td>\n",
       "      <td>56.9</td>\n",
       "      <td>65.0</td>\n",
       "      <td>327</td>\n",
       "      <td>4.05</td>\n",
       "      <td>4.07</td>\n",
       "      <td>2.31</td>\n",
       "    </tr>\n",
       "    <tr>\n",
       "      <th>3</th>\n",
       "      <td>0.29</td>\n",
       "      <td>Premium</td>\n",
       "      <td>I</td>\n",
       "      <td>VS2</td>\n",
       "      <td>62.4</td>\n",
       "      <td>58.0</td>\n",
       "      <td>334</td>\n",
       "      <td>4.20</td>\n",
       "      <td>4.23</td>\n",
       "      <td>2.63</td>\n",
       "    </tr>\n",
       "    <tr>\n",
       "      <th>4</th>\n",
       "      <td>0.31</td>\n",
       "      <td>Good</td>\n",
       "      <td>J</td>\n",
       "      <td>SI2</td>\n",
       "      <td>63.3</td>\n",
       "      <td>58.0</td>\n",
       "      <td>335</td>\n",
       "      <td>4.34</td>\n",
       "      <td>4.35</td>\n",
       "      <td>2.75</td>\n",
       "    </tr>\n",
       "    <tr>\n",
       "      <th>...</th>\n",
       "      <td>...</td>\n",
       "      <td>...</td>\n",
       "      <td>...</td>\n",
       "      <td>...</td>\n",
       "      <td>...</td>\n",
       "      <td>...</td>\n",
       "      <td>...</td>\n",
       "      <td>...</td>\n",
       "      <td>...</td>\n",
       "      <td>...</td>\n",
       "    </tr>\n",
       "    <tr>\n",
       "      <th>53935</th>\n",
       "      <td>0.72</td>\n",
       "      <td>Ideal</td>\n",
       "      <td>D</td>\n",
       "      <td>SI1</td>\n",
       "      <td>60.8</td>\n",
       "      <td>57.0</td>\n",
       "      <td>2757</td>\n",
       "      <td>5.75</td>\n",
       "      <td>5.76</td>\n",
       "      <td>3.50</td>\n",
       "    </tr>\n",
       "    <tr>\n",
       "      <th>53936</th>\n",
       "      <td>0.72</td>\n",
       "      <td>Good</td>\n",
       "      <td>D</td>\n",
       "      <td>SI1</td>\n",
       "      <td>63.1</td>\n",
       "      <td>55.0</td>\n",
       "      <td>2757</td>\n",
       "      <td>5.69</td>\n",
       "      <td>5.75</td>\n",
       "      <td>3.61</td>\n",
       "    </tr>\n",
       "    <tr>\n",
       "      <th>53937</th>\n",
       "      <td>0.70</td>\n",
       "      <td>Very Good</td>\n",
       "      <td>D</td>\n",
       "      <td>SI1</td>\n",
       "      <td>62.8</td>\n",
       "      <td>60.0</td>\n",
       "      <td>2757</td>\n",
       "      <td>5.66</td>\n",
       "      <td>5.68</td>\n",
       "      <td>3.56</td>\n",
       "    </tr>\n",
       "    <tr>\n",
       "      <th>53938</th>\n",
       "      <td>0.86</td>\n",
       "      <td>Premium</td>\n",
       "      <td>H</td>\n",
       "      <td>SI2</td>\n",
       "      <td>61.0</td>\n",
       "      <td>58.0</td>\n",
       "      <td>2757</td>\n",
       "      <td>6.15</td>\n",
       "      <td>6.12</td>\n",
       "      <td>3.74</td>\n",
       "    </tr>\n",
       "    <tr>\n",
       "      <th>53939</th>\n",
       "      <td>0.75</td>\n",
       "      <td>Ideal</td>\n",
       "      <td>D</td>\n",
       "      <td>SI2</td>\n",
       "      <td>62.2</td>\n",
       "      <td>55.0</td>\n",
       "      <td>2757</td>\n",
       "      <td>5.83</td>\n",
       "      <td>5.87</td>\n",
       "      <td>3.64</td>\n",
       "    </tr>\n",
       "  </tbody>\n",
       "</table>\n",
       "<p>53940 rows × 10 columns</p>\n",
       "</div>"
      ],
      "text/plain": [
       "       carat        cut color clarity  depth  table  price     x     y     z\n",
       "0       0.23      Ideal     E     SI2   61.5   55.0    326  3.95  3.98  2.43\n",
       "1       0.21    Premium     E     SI1   59.8   61.0    326  3.89  3.84  2.31\n",
       "2       0.23       Good     E     VS1   56.9   65.0    327  4.05  4.07  2.31\n",
       "3       0.29    Premium     I     VS2   62.4   58.0    334  4.20  4.23  2.63\n",
       "4       0.31       Good     J     SI2   63.3   58.0    335  4.34  4.35  2.75\n",
       "...      ...        ...   ...     ...    ...    ...    ...   ...   ...   ...\n",
       "53935   0.72      Ideal     D     SI1   60.8   57.0   2757  5.75  5.76  3.50\n",
       "53936   0.72       Good     D     SI1   63.1   55.0   2757  5.69  5.75  3.61\n",
       "53937   0.70  Very Good     D     SI1   62.8   60.0   2757  5.66  5.68  3.56\n",
       "53938   0.86    Premium     H     SI2   61.0   58.0   2757  6.15  6.12  3.74\n",
       "53939   0.75      Ideal     D     SI2   62.2   55.0   2757  5.83  5.87  3.64\n",
       "\n",
       "[53940 rows x 10 columns]"
      ]
     },
     "metadata": {},
     "output_type": "display_data"
    }
   ],
   "source": [
    "#Apenas o dataframe para conferir \n",
    "display(df)"
   ]
  },
  {
   "cell_type": "code",
   "execution_count": 952,
   "metadata": {},
   "outputs": [
    {
     "data": {
      "text/plain": [
       "carat       Float64\n",
       "cut        category\n",
       "color      category\n",
       "clarity    category\n",
       "depth       Float64\n",
       "table       Float64\n",
       "price         Int64\n",
       "x           Float64\n",
       "y           Float64\n",
       "z           Float64\n",
       "dtype: object"
      ]
     },
     "execution_count": 952,
     "metadata": {},
     "output_type": "execute_result"
    }
   ],
   "source": [
    "#Faço a conversão de dtypes e já exibo os tipos de cada coluna com o .dtypes\n",
    "df.convert_dtypes().dtypes"
   ]
  },
  {
   "cell_type": "markdown",
   "metadata": {},
   "source": [
    "<p align='justify'>Considerando que as colunas 'cut','color', 'clarity' são categóricas ordinais, recorremos à referência 1, a qual explica bem como funcionam e como organizar por qualidade o corte, a claridade e a cor do diamente. Aparentemente, seria estranho tentar ordenar cores numéricamente, como \"vermelho é melhor que amarelo\", mas neste caso, um diamente com coloração D(muito translúcido), vale mais que um diamante J(levemente amarelado). Assim, criamos a célula abaixo para substituir as variáveis categóricas para numéricas.<sup>[1]</sup>  <p>"
   ]
  },
  {
   "cell_type": "code",
   "execution_count": 953,
   "metadata": {},
   "outputs": [],
   "source": [
    "substituicao_cut = {\n",
    "    'Ideal': 5,\n",
    "    'Premium': 4,\n",
    "    'Very Good': 3,\n",
    "    'Good': 2,\n",
    "    'Fair': 1\n",
    "}\n",
    "\n",
    "df['cut'] = df['cut'].replace(substituicao_cut)\n",
    "\n",
    "\n",
    "substituicao_clarity = {\n",
    "    'IF': 8,\n",
    "    'VVS1': 7,\n",
    "    'VVS2': 6,\n",
    "    'VS1': 5,\n",
    "    'VS2': 4,\n",
    "    'SI1': 3,\n",
    "    'SI2': 2,\n",
    "    'I1': 1\n",
    "}\n",
    "\n",
    "df['clarity'] = df['clarity'].replace(substituicao_clarity)\n",
    "\n",
    "substituicao_color = {\n",
    "    'J': 7,\n",
    "    'I': 6,\n",
    "    'H':5,\n",
    "    'G': 4,\n",
    "    'F': 3,\n",
    "    'E': 2,\n",
    "    'D': 1\n",
    "}\n",
    "\n",
    "df['color'] = df['color'].replace(substituicao_color)"
   ]
  },
  {
   "cell_type": "markdown",
   "metadata": {},
   "source": [
    "Depois disso, defino as features e o target. Nessa parte que eu aproveita aquela lista com os títulos das colunas. Basicamente, as features são essas listas, com excessão do 'price', o qual será o target e por isso é removido das features caso ele estaja nelas."
   ]
  },
  {
   "cell_type": "code",
   "execution_count": 954,
   "metadata": {},
   "outputs": [
    {
     "name": "stdout",
     "output_type": "stream",
     "text": [
      "As features são: ['carat', 'cut', 'color', 'clarity', 'depth', 'table', 'x', 'y', 'z']\n",
      "O target é: ['price']\n"
     ]
    }
   ],
   "source": [
    "FEATURES = colunas_do_dataset\n",
    "if 'price' in colunas_do_dataset:\n",
    "    FEATURES.remove('price')\n",
    "TARGET = ['price']\n",
    "\n",
    "print(f'As features são: {FEATURES}')\n",
    "print(f'O target é: {TARGET}')"
   ]
  },
  {
   "cell_type": "code",
   "execution_count": 955,
   "metadata": {},
   "outputs": [],
   "source": [
    "df = df.reindex(FEATURES + TARGET, axis=1)\n",
    "df = df.dropna()  "
   ]
  },
  {
   "cell_type": "markdown",
   "metadata": {},
   "source": [
    "Realizo o sorteio da split de treino e teste, pegando 10% dos dados para teste."
   ]
  },
  {
   "cell_type": "code",
   "execution_count": 956,
   "metadata": {},
   "outputs": [],
   "source": [
    "TAMANHO_TESTE = 0.1\n",
    "SEMENTE_ALEATORIA = 61455\n",
    "\n",
    "indices = df.index\n",
    "indices_treino, indices_teste = train_test_split(\n",
    "    indices, test_size=TAMANHO_TESTE,random_state = SEMENTE_ALEATORIA\n",
    ")\n",
    "df_treino = df.loc[indices_treino]\n",
    "df_teste = df.loc[indices_teste]\n",
    "\n",
    "\n",
    "X_treino = df_treino.reindex(FEATURES, axis=1).values\n",
    "y_treino = df_treino.reindex(TARGET, axis=1).values.ravel()\n",
    "\n",
    "X_teste = df_teste.reindex(FEATURES, axis=1).values\n",
    "y_teste = df_teste.reindex(TARGET, axis=1).values.ravel()"
   ]
  },
  {
   "cell_type": "markdown",
   "metadata": {},
   "source": [
    "<b>1 - Realizar normalização padrão dos atributos melhora a performance de modelos induzidos pelo algoritmo de k-vizinhos mais próximos</b>"
   ]
  },
  {
   "cell_type": "code",
   "execution_count": 957,
   "metadata": {},
   "outputs": [],
   "source": [
    "from sklearn.preprocessing import StandardScaler\n",
    "scaler = StandardScaler()\n",
    "X_teste_normalizado = scaler.fit_transform(X_teste)\n",
    "X_treino_normalizado = scaler.fit_transform(X_treino)"
   ]
  },
  {
   "cell_type": "code",
   "execution_count": 958,
   "metadata": {},
   "outputs": [
    {
     "name": "stdout",
     "output_type": "stream",
     "text": [
      "O RMSE do modelo foi de 848.1887190834883 unidades de y ao quadrado.\n"
     ]
    }
   ],
   "source": [
    "from sklearn.neighbors import KNeighborsRegressor\n",
    "\n",
    "num_vizinhos = 3\n",
    "modelo_knn = KNeighborsRegressor(n_neighbors=num_vizinhos)\n",
    "modelo_knn.fit(X_treino, y_treino)\n",
    "\n",
    "from sklearn.metrics import mean_squared_error\n",
    "\n",
    "X_verdadeiro = X_teste\n",
    "y_verdadeiro = y_teste\n",
    "\n",
    "y_previsto = modelo_knn.predict(X_verdadeiro)\n",
    "\n",
    "RMSE = mean_squared_error(y_verdadeiro, y_previsto, squared=False)\n",
    "\n",
    "print(f\"O RMSE do modelo foi de {RMSE} unidades de y ao quadrado.\")"
   ]
  },
  {
   "cell_type": "code",
   "execution_count": 959,
   "metadata": {},
   "outputs": [
    {
     "name": "stdout",
     "output_type": "stream",
     "text": [
      "O RMSE do modelo foi de 706.5792914614411 unidades de y.\n"
     ]
    }
   ],
   "source": [
    "from sklearn.neighbors import KNeighborsRegressor\n",
    "\n",
    "num_vizinhos = 3\n",
    "modelo_knn = KNeighborsRegressor(n_neighbors=num_vizinhos)\n",
    "modelo_knn.fit(X_treino_normalizado, y_treino)\n",
    "\n",
    "from sklearn.metrics import mean_squared_error\n",
    "\n",
    "X_verdadeiro = X_teste_normalizado\n",
    "y_verdadeiro = y_teste\n",
    "\n",
    "y_previsto = modelo_knn.predict(X_verdadeiro)\n",
    "\n",
    "RMSE = mean_squared_error(y_verdadeiro, y_previsto, squared=False)\n",
    "\n",
    "print(f\"O RMSE do modelo foi de {RMSE} unidades de y.\")"
   ]
  },
  {
   "cell_type": "markdown",
   "metadata": {},
   "source": [
    "<p align = 'justify'>O RMSE é menor quando a normalização padrão é feita, pois, segundo a referência 2, com a normalização, todas as features influenciam igualmente no cálculo da distância euclidiana. Enquanto a ausência de normalização faz com que os atributos com maior valor numérico influenciem mais no cálculo da distância. <sup>[2]</sup><br>As imagens abaixo, provenientes da referência 3, exemplificaficam a influência de features com maiores variações para a seleção dos k vizinhos mais próximos, e como a influência é melhor distribuída quando há a normalização.<sup>[3]</sup>  <p>\n",
    "<img src=\"https://i.stack.imgur.com/OCUmI.png\" alt=\"\" width=\"300\" height=\"300\">\n",
    "<img src=\"https://i.stack.imgur.com/J5r01.png\" alt=\"\" width=\"300\" height=\"300\">\n",
    "\n"
   ]
  },
  {
   "cell_type": "markdown",
   "metadata": {},
   "source": [
    "<b>2- Realizar normalização padrão dos atributos melhora a performance de modelos induzidos pelo algoritmo de árvore de decisão</b>"
   ]
  },
  {
   "cell_type": "code",
   "execution_count": 960,
   "metadata": {},
   "outputs": [
    {
     "name": "stdout",
     "output_type": "stream",
     "text": [
      "O RMSE do modelo árvore de decisão foi de 709.8442793376705 unidades de y.\n"
     ]
    }
   ],
   "source": [
    "from sklearn.tree import DecisionTreeRegressor\n",
    "\n",
    "modelo_dt = DecisionTreeRegressor(random_state=SEMENTE_ALEATORIA)\n",
    "from sklearn.metrics import mean_squared_error\n",
    "\n",
    "modelo_dt.fit(X_treino, y_treino)\n",
    "\n",
    "y_verdadeiro = y_teste\n",
    "y_previsao = modelo_dt.predict(X_teste)\n",
    "\n",
    "RMSE = mean_squared_error(y_verdadeiro, y_previsao, squared=False)\n",
    "\n",
    "print(f\"O RMSE do modelo árvore de decisão foi de {RMSE} unidades de y.\")"
   ]
  },
  {
   "cell_type": "code",
   "execution_count": 961,
   "metadata": {},
   "outputs": [
    {
     "name": "stdout",
     "output_type": "stream",
     "text": [
      "O RMSE do modelo árvore de decisão foi de 754.4848355190311 unidades de y.\n"
     ]
    }
   ],
   "source": [
    "from sklearn.tree import DecisionTreeRegressor\n",
    "\n",
    "modelo_dt = DecisionTreeRegressor(random_state=SEMENTE_ALEATORIA)\n",
    "from sklearn.metrics import mean_squared_error\n",
    "\n",
    "modelo_dt.fit(X_treino_normalizado, y_treino)\n",
    "\n",
    "y_verdadeiro = y_teste\n",
    "y_previsao = modelo_dt.predict(X_teste_normalizado)\n",
    "\n",
    "RMSE = mean_squared_error(y_verdadeiro, y_previsao, squared=False)\n",
    "\n",
    "print(f\"O RMSE do modelo árvore de decisão foi de {RMSE} unidades de y.\")"
   ]
  },
  {
   "cell_type": "markdown",
   "metadata": {},
   "source": [
    "\n",
    "<b>3- Reduzir a dimensinalidade do problema utilizando PCA melhora a performance de modelos induzidos pelo algoritmo de k-vizinhos mais próximos<b>"
   ]
  },
  {
   "cell_type": "code",
   "execution_count": 962,
   "metadata": {},
   "outputs": [
    {
     "data": {
      "text/plain": [
       "(48546, 9)"
      ]
     },
     "execution_count": 962,
     "metadata": {},
     "output_type": "execute_result"
    }
   ],
   "source": [
    "from sklearn.decomposition import PCA\n",
    "\n",
    "NUM_COMPONENTES = 2\n",
    "\n",
    "pca = PCA(n_components=NUM_COMPONENTES)\n",
    "\n",
    "X_teste_PCA = pca.fit_transform(X_teste)\n",
    "X_treino_PCA = pca.fit_transform(X_treino)\n",
    "X_treino.shape"
   ]
  },
  {
   "cell_type": "code",
   "execution_count": 963,
   "metadata": {},
   "outputs": [
    {
     "name": "stdout",
     "output_type": "stream",
     "text": [
      "O RMSE do modelo foi de 5641.4248740514295 unidades de y.\n"
     ]
    }
   ],
   "source": [
    "from sklearn.neighbors import KNeighborsRegressor\n",
    "\n",
    "num_vizinhos = 3\n",
    "modelo_knn = KNeighborsRegressor(n_neighbors=num_vizinhos)\n",
    "modelo_knn.fit(X_treino_PCA, y_treino)\n",
    "\n",
    "from sklearn.metrics import mean_squared_error\n",
    "\n",
    "X_verdadeiro = X_teste_PCA\n",
    "y_verdadeiro = y_teste\n",
    "\n",
    "y_previsto = modelo_knn.predict(X_verdadeiro)\n",
    "\n",
    "RMSE = mean_squared_error(y_verdadeiro, y_previsto, squared=False)\n",
    "\n",
    "print(f\"O RMSE do modelo foi de {RMSE} unidades de y.\")"
   ]
  },
  {
   "cell_type": "markdown",
   "metadata": {},
   "source": [
    "<b><h2>Referências:</h2></b>\n",
    "[1] Prices of over 50,000 round cut diamonds — diamonds [Internet]. ggplot2.tidyverse.org. Available from: https://ggplot2.tidyverse.org/reference/diamonds.html </br>\n",
    "‌[2] Filho M. Is Feature Scaling Required for the KNN Algorithm? [Internet]. forecastegy.com. 2023. Available from: https://forecastegy.com/posts/is-feature-scaling-required-for-the-knn-algorithm/</br>\n",
    "‌[3] kedarps (https://stats.stackexchange.com/users/148774/kedarps), Why do you need to scale data in KNN, URL (version: 2017-06-26): https://stats.stackexchange.com/q/287439</br>\n",
    "\n",
    "<b>Motivador:</b></br>\n",
    "https://www.youtube.com/watch?v=54W8kktFE_o"
   ]
  }
 ],
 "metadata": {
  "kernelspec": {
   "display_name": "Python 3.10.8 64-bit",
   "language": "python",
   "name": "python3"
  },
  "language_info": {
   "codemirror_mode": {
    "name": "ipython",
    "version": 3
   },
   "file_extension": ".py",
   "mimetype": "text/x-python",
   "name": "python",
   "nbconvert_exporter": "python",
   "pygments_lexer": "ipython3",
   "version": "3.10.8"
  },
  "orig_nbformat": 4,
  "vscode": {
   "interpreter": {
    "hash": "26de051ba29f2982a8de78e945f0abaf191376122a1563185a90213a26c5da77"
   }
  }
 },
 "nbformat": 4,
 "nbformat_minor": 2
}
