{
 "cells": [
  {
   "cell_type": "markdown",
   "metadata": {},
   "source": [
    "<!DOCTYPE html>\n",
    "\n",
    "<html>\n",
    "\n",
    "<head>\n",
    "\n",
    "<title>Magos da Furadeira</title>\n",
    "\n",
    "</head>\n",
    "\n",
    "<body>\n",
    "\n",
    "<div style=\"display: flex; align-items: center;\">\n",
    "\n",
    "<img src=\"https://i.ibb.co/z490FF5/FUNDO-REMOVIDO.png\" alt=\"FUNDO REMOVIDO\">\n",
    "\n",
    "<p style=\"margin-left: 40px; font-size: 24px; font-weight: bold; border-bottom: 1px solid black;\">José David e Gabriel Torquarto - <br> Magos da Furadeira Bosch de Impacto </p>\n",
    "\n",
    "</div>\n",
    "\n",
    "</body>\n",
    "\n",
    "</html>\n",
    "\n",
    " "
   ]
  },
  {
   "cell_type": "markdown",
   "metadata": {},
   "source": [
    "### Não perca a classe!\n",
    "**ID:** Modelos 01\n",
    "\n",
    "**Proponente:** Cavaleiro Luminoso (dono da Taverna do Sol. A Taverna do Sol só abre enquanto o sol está no céu e apenas em dias que não estejam nublados. Antes de tomar qualquer bebida, é necessário levantar os braços lentamente (desta forma: \\o/) em direção ao sol; se não fizer isso você é banido da Taverna para sempre)\n",
    "\n",
    "**Objetivo:** Um algoritmo regressor k-NN foi implementado na sala de aula (ou será implementado, dependendo de quando você ler esta mensagem). Sua tarefa é criar um classificador k-NN. Teste seu classificador para prever a espécie de pinguim do dataset de pinguins.\n",
    "\n",
    "**Comentários adicionais:** Observe que a tarefa é criar um classificador, não é usar um pronto. É possível resolver este problema sem a necessidade de conversão simbólico-numérica do target! Neste caso, ao invés de tirar a média dos valores para computar a previsão, você deverá ver qual é o rótulo mais frequente. Em caso de empate, crie uma regra simples para desempatar (algo como \"sempre escolher o primeiro ordenado alfabeticamente\"). Ler o material referenciado no notebook em caso de dúvida.\n",
    "\n",
    "**Pontuação máxima:** 10 pontos."
   ]
  },
  {
   "cell_type": "markdown",
   "metadata": {},
   "source": [
    "A princípio, as bibliotecas Seaborn, Numpy e Statistics são importadas para, respectivamente, importar o dataset, realizar cálculos necessários nas funções do modelo k-NN e realizar o cálculo de moda."
   ]
  },
  {
   "cell_type": "code",
   "execution_count": 2,
   "metadata": {},
   "outputs": [],
   "source": [
    "import seaborn as sbn\n",
    "import numpy as np\n",
    "import statistics as st"
   ]
  },
  {
   "cell_type": "markdown",
   "metadata": {},
   "source": [
    "Definimos o dataframe df como sendo o corregamento do dataset de pinguins da biblioteca Seaborn e fazemos uso da função display para conferirmos os títulos dos atributos que usaremos. "
   ]
  },
  {
   "cell_type": "code",
   "execution_count": 3,
   "metadata": {},
   "outputs": [
    {
     "data": {
      "text/html": [
       "<div>\n",
       "<style scoped>\n",
       "    .dataframe tbody tr th:only-of-type {\n",
       "        vertical-align: middle;\n",
       "    }\n",
       "\n",
       "    .dataframe tbody tr th {\n",
       "        vertical-align: top;\n",
       "    }\n",
       "\n",
       "    .dataframe thead th {\n",
       "        text-align: right;\n",
       "    }\n",
       "</style>\n",
       "<table border=\"1\" class=\"dataframe\">\n",
       "  <thead>\n",
       "    <tr style=\"text-align: right;\">\n",
       "      <th></th>\n",
       "      <th>species</th>\n",
       "      <th>island</th>\n",
       "      <th>bill_length_mm</th>\n",
       "      <th>bill_depth_mm</th>\n",
       "      <th>flipper_length_mm</th>\n",
       "      <th>body_mass_g</th>\n",
       "      <th>sex</th>\n",
       "    </tr>\n",
       "  </thead>\n",
       "  <tbody>\n",
       "    <tr>\n",
       "      <th>0</th>\n",
       "      <td>Adelie</td>\n",
       "      <td>Torgersen</td>\n",
       "      <td>39.1</td>\n",
       "      <td>18.7</td>\n",
       "      <td>181.0</td>\n",
       "      <td>3750.0</td>\n",
       "      <td>Male</td>\n",
       "    </tr>\n",
       "    <tr>\n",
       "      <th>1</th>\n",
       "      <td>Adelie</td>\n",
       "      <td>Torgersen</td>\n",
       "      <td>39.5</td>\n",
       "      <td>17.4</td>\n",
       "      <td>186.0</td>\n",
       "      <td>3800.0</td>\n",
       "      <td>Female</td>\n",
       "    </tr>\n",
       "    <tr>\n",
       "      <th>2</th>\n",
       "      <td>Adelie</td>\n",
       "      <td>Torgersen</td>\n",
       "      <td>40.3</td>\n",
       "      <td>18.0</td>\n",
       "      <td>195.0</td>\n",
       "      <td>3250.0</td>\n",
       "      <td>Female</td>\n",
       "    </tr>\n",
       "    <tr>\n",
       "      <th>3</th>\n",
       "      <td>Adelie</td>\n",
       "      <td>Torgersen</td>\n",
       "      <td>NaN</td>\n",
       "      <td>NaN</td>\n",
       "      <td>NaN</td>\n",
       "      <td>NaN</td>\n",
       "      <td>NaN</td>\n",
       "    </tr>\n",
       "    <tr>\n",
       "      <th>4</th>\n",
       "      <td>Adelie</td>\n",
       "      <td>Torgersen</td>\n",
       "      <td>36.7</td>\n",
       "      <td>19.3</td>\n",
       "      <td>193.0</td>\n",
       "      <td>3450.0</td>\n",
       "      <td>Female</td>\n",
       "    </tr>\n",
       "    <tr>\n",
       "      <th>...</th>\n",
       "      <td>...</td>\n",
       "      <td>...</td>\n",
       "      <td>...</td>\n",
       "      <td>...</td>\n",
       "      <td>...</td>\n",
       "      <td>...</td>\n",
       "      <td>...</td>\n",
       "    </tr>\n",
       "    <tr>\n",
       "      <th>339</th>\n",
       "      <td>Gentoo</td>\n",
       "      <td>Biscoe</td>\n",
       "      <td>NaN</td>\n",
       "      <td>NaN</td>\n",
       "      <td>NaN</td>\n",
       "      <td>NaN</td>\n",
       "      <td>NaN</td>\n",
       "    </tr>\n",
       "    <tr>\n",
       "      <th>340</th>\n",
       "      <td>Gentoo</td>\n",
       "      <td>Biscoe</td>\n",
       "      <td>46.8</td>\n",
       "      <td>14.3</td>\n",
       "      <td>215.0</td>\n",
       "      <td>4850.0</td>\n",
       "      <td>Female</td>\n",
       "    </tr>\n",
       "    <tr>\n",
       "      <th>341</th>\n",
       "      <td>Gentoo</td>\n",
       "      <td>Biscoe</td>\n",
       "      <td>50.4</td>\n",
       "      <td>15.7</td>\n",
       "      <td>222.0</td>\n",
       "      <td>5750.0</td>\n",
       "      <td>Male</td>\n",
       "    </tr>\n",
       "    <tr>\n",
       "      <th>342</th>\n",
       "      <td>Gentoo</td>\n",
       "      <td>Biscoe</td>\n",
       "      <td>45.2</td>\n",
       "      <td>14.8</td>\n",
       "      <td>212.0</td>\n",
       "      <td>5200.0</td>\n",
       "      <td>Female</td>\n",
       "    </tr>\n",
       "    <tr>\n",
       "      <th>343</th>\n",
       "      <td>Gentoo</td>\n",
       "      <td>Biscoe</td>\n",
       "      <td>49.9</td>\n",
       "      <td>16.1</td>\n",
       "      <td>213.0</td>\n",
       "      <td>5400.0</td>\n",
       "      <td>Male</td>\n",
       "    </tr>\n",
       "  </tbody>\n",
       "</table>\n",
       "<p>344 rows × 7 columns</p>\n",
       "</div>"
      ],
      "text/plain": [
       "    species     island  bill_length_mm  bill_depth_mm  flipper_length_mm  \\\n",
       "0    Adelie  Torgersen            39.1           18.7              181.0   \n",
       "1    Adelie  Torgersen            39.5           17.4              186.0   \n",
       "2    Adelie  Torgersen            40.3           18.0              195.0   \n",
       "3    Adelie  Torgersen             NaN            NaN                NaN   \n",
       "4    Adelie  Torgersen            36.7           19.3              193.0   \n",
       "..      ...        ...             ...            ...                ...   \n",
       "339  Gentoo     Biscoe             NaN            NaN                NaN   \n",
       "340  Gentoo     Biscoe            46.8           14.3              215.0   \n",
       "341  Gentoo     Biscoe            50.4           15.7              222.0   \n",
       "342  Gentoo     Biscoe            45.2           14.8              212.0   \n",
       "343  Gentoo     Biscoe            49.9           16.1              213.0   \n",
       "\n",
       "     body_mass_g     sex  \n",
       "0         3750.0    Male  \n",
       "1         3800.0  Female  \n",
       "2         3250.0  Female  \n",
       "3            NaN     NaN  \n",
       "4         3450.0  Female  \n",
       "..           ...     ...  \n",
       "339          NaN     NaN  \n",
       "340       4850.0  Female  \n",
       "341       5750.0    Male  \n",
       "342       5200.0  Female  \n",
       "343       5400.0    Male  \n",
       "\n",
       "[344 rows x 7 columns]"
      ]
     },
     "metadata": {},
     "output_type": "display_data"
    }
   ],
   "source": [
    "df = sbn.load_dataset('penguins')\n",
    "display(df)"
   ]
  },
  {
   "cell_type": "markdown",
   "metadata": {},
   "source": [
    "Definimos os atributos como sendo os tamanhos de bico e nadadeira, a profundidade do bico e a massa corporal do pinguim, e a o target como sendo as espécies. Após isso, o dataframe foi reindexado apenas com as colunas de atributos e targets, e a função dropna foi utilizada para excluir as linhas que possuiam o float NaN em alguma de suas células. Em seguida, duas reindexações são feitas, uma para criar o dataframe x(atributos) e outra para criar o dataframe y(target). Por fim, x e y são definidades como sendo a aplicação da função values nelas mesmas para que haja a conversão de dataframe para array numpy.<sup>[1][2][3]</sup>"
   ]
  },
  {
   "cell_type": "code",
   "execution_count": 4,
   "metadata": {},
   "outputs": [],
   "source": [
    "atributos = ['bill_length_mm', 'bill_depth_mm', 'flipper_length_mm','body_mass_g']\n",
    "target = ['species']\n",
    "\n",
    "df = df.reindex(atributos + target, axis=1)\n",
    "df = df.dropna()\n",
    "\n",
    "X = df.reindex(atributos, axis=1)\n",
    "y = df.reindex(target, axis=1)\n",
    "\n",
    "X = X.values\n",
    "y = y.values.ravel()"
   ]
  },
  {
   "cell_type": "markdown",
   "metadata": {},
   "source": [
    "Toda estrutura das funções é baseada nas funções discutidas e elaboradas durante a aula 3.1 e no estudo do material das referências 4 e 5.<sup>[3][4][5]</sup><br><br>\n",
    "A célula abaixo armaneza o modelo, os atributos e o target em um dicionário."
   ]
  },
  {
   "cell_type": "code",
   "execution_count": 5,
   "metadata": {},
   "outputs": [],
   "source": [
    "def treino_knn(modelo, x, y):\n",
    "  \n",
    "    modelo[\"x\"] = x\n",
    "    modelo[\"y\"] = y"
   ]
  },
  {
   "cell_type": "markdown",
   "metadata": {},
   "source": [
    "<p align = 'justify'> A função criada para realizar a previsão recebe dois argumentos: um modelo, o qual se resume a um dicionário com o número de vizinhos próximos que devem ser buscados, e um x, que seria um lista com os atributos do pinguim que buscamos saber a espécie. A princípio, alguns cálculos são executados para descobrir as distâncias entre a instância de teste e os vizinhos. Nesse cálculo, os valores da instância de teste são subtraídos dos valores dos atributos, em seguida essa diferença é colocada ao quadrado e somadas por meio da função sum do numpy.<br> Com o cálculos já feitos, a função argsort realiza o ordenamento em ordem crescente e os vizinhos mais próximos são escolhidos como sendo os primeiros \"k\" vizinhos, o k é decidido na biblioteca de modelo, na chave \"numero_de_vizinhos\". Os targets referentes a esses vizinhos são escolhidos e para que haja a decisão, a função mode da biblioteca statistics calcula a moda. Para o caso de empate, o critério de desempate considerado é o da função mode, o qual consiste em priorizar o primeiro que mais se repete. Então em um caso como mode(['Gentoo','Gentoo','Adelie','Adelie','Chinstrap']), o priorizado será o gentoo. <br>Não encontramos uma descrição direta desse critério na documentação da bibliteca Statistics, o deduzimos empiricamente por testes. Os testes podem ser acessados na referência 6, que leva para nosso repositório no GitHub.</p>\n"
   ]
  },
  {
   "cell_type": "code",
   "execution_count": 6,
   "metadata": {},
   "outputs": [],
   "source": [
    "def previsao_knn(modelo, x):\n",
    "\n",
    "    diferenca = modelo[\"x\"] - x\n",
    "    dife_quadrado = diferenca**2\n",
    "    somatoria = np.sum(dife_quadrado, axis=1)\n",
    "    distancias = somatoria ** (1/2)\n",
    "    ordenamento = np.argsort(distancias)\n",
    "    vizinhos_mais_proximos = ordenamento[:modelo[\"numero_de_vizinhos\"]]\n",
    "    targets_vizinhos = modelo[\"y\"][vizinhos_mais_proximos]\n",
    "    previsao = st.mode(targets_vizinhos)\n",
    "    return previsao"
   ]
  },
  {
   "cell_type": "markdown",
   "metadata": {},
   "source": [
    "Para os testes, consideramos 4 vizinhos para tirar a moda."
   ]
  },
  {
   "cell_type": "code",
   "execution_count": 7,
   "metadata": {},
   "outputs": [],
   "source": [
    "modelo = {\"numero_de_vizinhos\": 4}\n",
    "treino_knn(modelo, X, y)"
   ]
  },
  {
   "cell_type": "markdown",
   "metadata": {},
   "source": [
    "Para testar o funcionamento da função de previsão, realizamos a exibição dos resultados da função de previsão knn com diferentes argumentos que escolhemos com base nos padrões notados durante o desenvolvimento da tarefa Dados 1.<sup>[1]</sup> Um dos padrões notados, por exemplo, é o fato da espécie gentoo possuir maior massa corporal. Assim, nós evitamos o uso de um random para escolher os argumentos a serem testados na função preditiva. "
   ]
  },
  {
   "cell_type": "code",
   "execution_count": 8,
   "metadata": {},
   "outputs": [
    {
     "name": "stdout",
     "output_type": "stream",
     "text": [
      "Adelie\n",
      "Gentoo\n",
      "Adelie\n",
      "Chinstrap\n"
     ]
    }
   ],
   "source": [
    "print(previsao_knn(modelo,[40,20,180,4000]))\n",
    "print(previsao_knn(modelo,[40,20,180,5000]))\n",
    "print(previsao_knn(modelo,[30,17,170,3300]))\n",
    "print(previsao_knn(modelo,[47.2,18.2,190,3500]))"
   ]
  },
  {
   "cell_type": "markdown",
   "metadata": {},
   "source": [
    "### Referências:\n",
    "\n",
    "[1] JOSEDAVID23038. Aprendizado-de-M-quina/Tarefas/Dados 1 at main · joseDavid23038/Aprendizado-de-M-quina. Disponível em: <https://github.com/joseDavid23038/Aprendizado-de-M-quina/tree/main/Tarefas/Dados%201>. Acesso em: 4 set. 2023.\n",
    "\n",
    "[2] JOSEDAVID23038. Aprendizado-de-M-quina/Tarefas/Dados 3 at main · joseDavid23038/Aprendizado-de-M-quina. Disponível em: <https://github.com/joseDavid23038/Aprendizado-de-M-quina/tree/main/Tarefas/Dados%203>. Acesso em: 5 set. 2023.\n",
    "\n",
    "‌[3] Daniel R. Cassar. 3.1- k vizinhos mais próximos. \n",
    "\n",
    "[4] JOSÉ, I. KNN (K-Nearest Neighbors) #1. Disponível em: <https://medium.com/brasil-ai/knn-k-nearest-neighbors-1-e140c82e9c4e>. Acesso em: 4 set. 2023.\n",
    "\n",
    "‌[5] KNN without scikit learn. Disponível em: <https://www.kaggle.com/code/lohitha17/knn-without-scikit-learn>. Acesso em: 4 set. 2023.\n",
    "\n",
    "‌[6] JOSEDAVID23038. Aprendizado-de-M-quina/Tarefas/Modelos 1/Testes executados com stmodes.ipynb at main · joseDavid23038/Aprendizado-de-M-quina. Disponível em: <https://github.com/joseDavid23038/Aprendizado-de-M-quina/blob/main/Tarefas/Modelos%201/Testes%20executados%20com%20stmodes.ipynb>. Acesso em: 5 set. 2023.\n",
    "\n",
    "‌"
   ]
  }
 ],
 "metadata": {
  "kernelspec": {
   "display_name": "Python 3.10.8 64-bit",
   "language": "python",
   "name": "python3"
  },
  "language_info": {
   "codemirror_mode": {
    "name": "ipython",
    "version": 3
   },
   "file_extension": ".py",
   "mimetype": "text/x-python",
   "name": "python",
   "nbconvert_exporter": "python",
   "pygments_lexer": "ipython3",
   "version": "3.10.8"
  },
  "orig_nbformat": 4,
  "vscode": {
   "interpreter": {
    "hash": "26de051ba29f2982a8de78e945f0abaf191376122a1563185a90213a26c5da77"
   }
  }
 },
 "nbformat": 4,
 "nbformat_minor": 2
}
