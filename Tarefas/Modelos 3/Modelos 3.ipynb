{
 "cells": [
  {
   "cell_type": "markdown",
   "metadata": {},
   "source": [
    "<!DOCTYPE html>\n",
    "\n",
    "<html>\n",
    "\n",
    "<head>\n",
    "\n",
    "<title>Magos da Furadeira</title>\n",
    "\n",
    "</head>\n",
    "\n",
    "<body>\n",
    "\n",
    "<div style=\"display: flex; align-items: center;\">\n",
    "\n",
    "<img src=\"https://i.ibb.co/z490FF5/FUNDO-REMOVIDO.png\" alt=\"FUNDO REMOVIDO\">\n",
    "\n",
    "<p style=\"margin-left: 40px; font-size: 24px; font-weight: bold; border-bottom: 1px solid black;\">José David e Gabriel Torquarto - <br> Magos da Furadeira Bosch de Impacto </p>\n",
    "\n",
    "</div>\n",
    "\n",
    "</body>\n",
    "\n",
    "</html>"
   ]
  },
  {
   "cell_type": "markdown",
   "metadata": {},
   "source": [
    "### **Modelos 03 - Explorando Modelos Lineares**\n",
    "**ID: Modelos 03**\n",
    "**Proponente:** Diana Didatolov (Diana é relativamente nova para a posição de prestígio que ocupa na Biblioteca Real. Isso aconteceu pois ela teve um papel importantíssimo durante a Guerra das Marretas Voadoras, o que resultou na sua promoção dentro da Biblioteca. A diretora anterior, que perdeu seu cargo, é sua arquirrival por conta disso).\n",
    "\n",
    "**Objetivo:** Se informe sobre outros modelos lineares que existem. Escolha um desses modelos e faça um notebook didático mostrando como este modelo funciona e como ele se difere do modelo linear estudado em sala de aula. Em um conjunto de dados da sua escolha, treine um modelo linear múltiplo e compare o resultado com o modelo linear que você escolheu. Sua comparação deve levar em conta alguma métrica (como RMSE, por exemplo). Gráficos são muito bem-vindos!\n",
    "\n",
    "**Comentários adicionais:** O scikit-learn tem vários modelos lineares prontos, você pode conferir eles em https://scikit-learn.org/stable/modules/linear_model.html. A explicação aprofundada de cada modelo pode ser encontrada em livros e em vídeos.\n",
    "\n",
    "**Pontuação máxima:** 30 + 20 pontos.\n",
    "\n",
    "**Condições para a pontuação extra:** apenas entregas realizadas antes de 12 de setembro concorrem para serem selecionadas para a Biblioteca Real. Apenas uma entrega por modelo será escolhida (o que não quer dizer que se um modelo tiver apenas uma entrega automaticamente fará a entrega ser escolhida). Não é para escolher mais de um modelo na sua entrega."
   ]
  },
  {
   "cell_type": "code",
   "execution_count": 1,
   "metadata": {},
   "outputs": [],
   "source": [
    "import numpy as np\n",
    "from matplotlib import pyplot as plt\n",
    "import seaborn as sbn\n",
    "import statistics as st\n",
    "import pandas as pd"
   ]
  },
  {
   "cell_type": "markdown",
   "metadata": {},
   "source": [
    "### **Modelos Lineares** \n",
    "Modelos lineares são uma classe de modelos estatísticos, de aprendizado supervisionado, que descrevem uma relação entre uma variável de saída (dependente) e uma variável, ou conjunto de variáveis, preditora(s)  (independente) por meio de combinação linear das variáveis[1]. Em nosso contexto, a variável a ser prevista (y) é nosso target e as variáveis preditoras (x) são os atributos. \n",
    "Um exemplo de modelo linear simples é\n",
    "\n",
    "$$\n",
    "y = \\beta_0 + \\beta_1 x,\n",
    "$$\n",
    "\n",
    "onde $\\beta_0$ é o *intercepto* (o valor no qual a linha ajustada cruza o eixo y) do modelo e $\\beta_1$ é a *inclinação* (taxa de mudança). A seguir, um exemplo de modelo linear, desconsiderando dados externos:"
   ]
  },
  {
   "cell_type": "code",
   "execution_count": 5,
   "metadata": {},
   "outputs": [
    {
     "data": {
      "text/plain": [
       "Text(0, 0.5, '$y$')"
      ]
     },
     "execution_count": 5,
     "metadata": {},
     "output_type": "execute_result"
    },
    {
     "data": {
      "image/png": "[encoded data removed]",
      "text/plain": [
       "<Figure size 640x480 with 1 Axes>"
      ]
     },
     "metadata": {},
     "output_type": "display_data"
    }
   ],
   "source": [
    "beta0 = 4\n",
    "beta1 = 1\n",
    "\n",
    "x = np.linspace(0, 15)\n",
    "y = beta0 + beta1 * x\n",
    "\n",
    "figura, eixo = plt.subplots()\n",
    "\n",
    "eixo.plot(x, y)\n",
    "eixo.set_xlabel(\"$x$\")\n",
    "eixo.set_ylabel(\"$y$\")"
   ]
  },
  {
   "cell_type": "markdown",
   "metadata": {},
   "source": [
    "Dentre os modelos lineares, temos uma infinidade de opções, cada qual com suas especificações e peculiaridades. Dentre esses modelos temos a Regressão de Lasso, Regressão de Rede Elástica (elastic net) e Regressão de Ridge. Para essa apostila, o modelo escolhido foi o \"Regressão de Ridge\"."
   ]
  },
  {
   "cell_type": "markdown",
   "metadata": {},
   "source": [
    "### **Regressão de Ridge** "
   ]
  },
  {
   "cell_type": "markdown",
   "metadata": {},
   "source": [
    "O modelo de regressão de ridge é um modelo da família dos regressores lineares. Ele se destaca pela sua capacidade de lidar com problemas como onde temos um conjunto de dados multivariados, em que o número de variáveis é maior que o número de amostras, e as variáveis independentes s~~ao altamente correlacionadas [2]. Nessas condições, o modelo linear padrão tem um mau desempenho, visto que pode levar a coeficientes de regressão instáveis e difíceis de interpretar. \n",
    " \n",
    "**Como funciona?**  \n",
    "Essa técnica consiste em regulzarizar os coeficientes w, ou seja, diminuindo seu tamanho. E isso é realizado adicionando um termo na função de custo (função que quantifica de alguma forma o quão não eficiente nosso modelo é). A seguir, a função de custo comumente utilizada em modelos lineares, o erro quadrático médio (MSE, mean squared error) com o termo de \"penalização\" já incrementado. [3] [4]\n",
    "\n",
    "![Alt text](https://estatsite.com.br/wp-content/uploads/2020/07/Captura-de-Tela-2020-07-27-%C3%A0s-21.07.38.png)\n",
    "\n",
    "\n",
    "A penalização (termo comumente utilizado para se referir ao incremento na função de custo) nessa técnica é por do parâmetro L2. O parâmentro L2 consiste produto de lambda com quadrado dos coeficientes, ao contrário da Regressão de Lasso, que consiste no produto de lambda com módulo dos coeficientes.\n",
    "\n",
    "\n",
    "**Algumas diferenças entre Regressão de Ridge em relação Regressão Linear Simples:** 1. Diferentemente do modelo linear simples, no de ridge há a regularização e adiciona à penalização aos coeficientes; 2. Coeficientes lineares menores, o que reduz a sensibilidade do modelo a variações nos dados e torna os coeficientes mais estáveis; 3. Utilidade em modelos em que as variáveis independentes apresentam multicolinearidade. "
   ]
  },
  {
   "cell_type": "markdown",
   "metadata": {},
   "source": [
    "### **Comparação com o modelo linear múltiplo**"
   ]
  },
  {
   "cell_type": "code",
   "execution_count": 13,
   "metadata": {},
   "outputs": [
    {
     "data": {
      "text/html": [
       "<div>\n",
       "<style scoped>\n",
       "    .dataframe tbody tr th:only-of-type {\n",
       "        vertical-align: middle;\n",
       "    }\n",
       "\n",
       "    .dataframe tbody tr th {\n",
       "        vertical-align: top;\n",
       "    }\n",
       "\n",
       "    .dataframe thead th {\n",
       "        text-align: right;\n",
       "    }\n",
       "</style>\n",
       "<table border=\"1\" class=\"dataframe\">\n",
       "  <thead>\n",
       "    <tr style=\"text-align: right;\">\n",
       "      <th></th>\n",
       "      <th>species</th>\n",
       "      <th>island</th>\n",
       "      <th>bill_length_mm</th>\n",
       "      <th>bill_depth_mm</th>\n",
       "      <th>flipper_length_mm</th>\n",
       "      <th>body_mass_g</th>\n",
       "      <th>sex</th>\n",
       "    </tr>\n",
       "  </thead>\n",
       "  <tbody>\n",
       "    <tr>\n",
       "      <th>0</th>\n",
       "      <td>Adelie</td>\n",
       "      <td>Torgersen</td>\n",
       "      <td>39.1</td>\n",
       "      <td>18.7</td>\n",
       "      <td>181.0</td>\n",
       "      <td>3750.0</td>\n",
       "      <td>Male</td>\n",
       "    </tr>\n",
       "    <tr>\n",
       "      <th>1</th>\n",
       "      <td>Adelie</td>\n",
       "      <td>Torgersen</td>\n",
       "      <td>39.5</td>\n",
       "      <td>17.4</td>\n",
       "      <td>186.0</td>\n",
       "      <td>3800.0</td>\n",
       "      <td>Female</td>\n",
       "    </tr>\n",
       "    <tr>\n",
       "      <th>2</th>\n",
       "      <td>Adelie</td>\n",
       "      <td>Torgersen</td>\n",
       "      <td>40.3</td>\n",
       "      <td>18.0</td>\n",
       "      <td>195.0</td>\n",
       "      <td>3250.0</td>\n",
       "      <td>Female</td>\n",
       "    </tr>\n",
       "    <tr>\n",
       "      <th>3</th>\n",
       "      <td>Adelie</td>\n",
       "      <td>Torgersen</td>\n",
       "      <td>NaN</td>\n",
       "      <td>NaN</td>\n",
       "      <td>NaN</td>\n",
       "      <td>NaN</td>\n",
       "      <td>NaN</td>\n",
       "    </tr>\n",
       "    <tr>\n",
       "      <th>4</th>\n",
       "      <td>Adelie</td>\n",
       "      <td>Torgersen</td>\n",
       "      <td>36.7</td>\n",
       "      <td>19.3</td>\n",
       "      <td>193.0</td>\n",
       "      <td>3450.0</td>\n",
       "      <td>Female</td>\n",
       "    </tr>\n",
       "    <tr>\n",
       "      <th>...</th>\n",
       "      <td>...</td>\n",
       "      <td>...</td>\n",
       "      <td>...</td>\n",
       "      <td>...</td>\n",
       "      <td>...</td>\n",
       "      <td>...</td>\n",
       "      <td>...</td>\n",
       "    </tr>\n",
       "    <tr>\n",
       "      <th>339</th>\n",
       "      <td>Gentoo</td>\n",
       "      <td>Biscoe</td>\n",
       "      <td>NaN</td>\n",
       "      <td>NaN</td>\n",
       "      <td>NaN</td>\n",
       "      <td>NaN</td>\n",
       "      <td>NaN</td>\n",
       "    </tr>\n",
       "    <tr>\n",
       "      <th>340</th>\n",
       "      <td>Gentoo</td>\n",
       "      <td>Biscoe</td>\n",
       "      <td>46.8</td>\n",
       "      <td>14.3</td>\n",
       "      <td>215.0</td>\n",
       "      <td>4850.0</td>\n",
       "      <td>Female</td>\n",
       "    </tr>\n",
       "    <tr>\n",
       "      <th>341</th>\n",
       "      <td>Gentoo</td>\n",
       "      <td>Biscoe</td>\n",
       "      <td>50.4</td>\n",
       "      <td>15.7</td>\n",
       "      <td>222.0</td>\n",
       "      <td>5750.0</td>\n",
       "      <td>Male</td>\n",
       "    </tr>\n",
       "    <tr>\n",
       "      <th>342</th>\n",
       "      <td>Gentoo</td>\n",
       "      <td>Biscoe</td>\n",
       "      <td>45.2</td>\n",
       "      <td>14.8</td>\n",
       "      <td>212.0</td>\n",
       "      <td>5200.0</td>\n",
       "      <td>Female</td>\n",
       "    </tr>\n",
       "    <tr>\n",
       "      <th>343</th>\n",
       "      <td>Gentoo</td>\n",
       "      <td>Biscoe</td>\n",
       "      <td>49.9</td>\n",
       "      <td>16.1</td>\n",
       "      <td>213.0</td>\n",
       "      <td>5400.0</td>\n",
       "      <td>Male</td>\n",
       "    </tr>\n",
       "  </tbody>\n",
       "</table>\n",
       "<p>344 rows × 7 columns</p>\n",
       "</div>"
      ],
      "text/plain": [
       "    species     island  bill_length_mm  bill_depth_mm  flipper_length_mm  \\\n",
       "0    Adelie  Torgersen            39.1           18.7              181.0   \n",
       "1    Adelie  Torgersen            39.5           17.4              186.0   \n",
       "2    Adelie  Torgersen            40.3           18.0              195.0   \n",
       "3    Adelie  Torgersen             NaN            NaN                NaN   \n",
       "4    Adelie  Torgersen            36.7           19.3              193.0   \n",
       "..      ...        ...             ...            ...                ...   \n",
       "339  Gentoo     Biscoe             NaN            NaN                NaN   \n",
       "340  Gentoo     Biscoe            46.8           14.3              215.0   \n",
       "341  Gentoo     Biscoe            50.4           15.7              222.0   \n",
       "342  Gentoo     Biscoe            45.2           14.8              212.0   \n",
       "343  Gentoo     Biscoe            49.9           16.1              213.0   \n",
       "\n",
       "     body_mass_g     sex  \n",
       "0         3750.0    Male  \n",
       "1         3800.0  Female  \n",
       "2         3250.0  Female  \n",
       "3            NaN     NaN  \n",
       "4         3450.0  Female  \n",
       "..           ...     ...  \n",
       "339          NaN     NaN  \n",
       "340       4850.0  Female  \n",
       "341       5750.0    Male  \n",
       "342       5200.0  Female  \n",
       "343       5400.0    Male  \n",
       "\n",
       "[344 rows x 7 columns]"
      ]
     },
     "metadata": {},
     "output_type": "display_data"
    },
    {
     "name": "stdout",
     "output_type": "stream",
     "text": [
      "\n",
      " Tipos de variável:\n",
      " species               object\n",
      "island                object\n",
      "bill_length_mm       float64\n",
      "bill_depth_mm        float64\n",
      "flipper_length_mm    float64\n",
      "body_mass_g          float64\n",
      "sex                   object\n",
      "dtype: object\n",
      "\n",
      " Tipos de variável(convertidas):\n",
      " species              string[python]\n",
      "island               string[python]\n",
      "bill_length_mm              Float64\n",
      "bill_depth_mm               Float64\n",
      "flipper_length_mm             Int64\n",
      "body_mass_g                   Int64\n",
      "sex                  string[python]\n",
      "dtype: object\n"
     ]
    }
   ],
   "source": [
    "#Ridge\n",
    "#importando dataset de pinguins\n",
    "\n",
    "pinguins = sbn.load_dataset('penguins', cache=True, data_home=None)\n",
    "display(pinguins)\n",
    "print(\"\\n Tipos de variável:\\n\", pinguins.dtypes)\n",
    "print(\"\\n Tipos de variável(convertidas):\\n\", pinguins.convert_dtypes().dtypes)"
   ]
  },
  {
   "cell_type": "code",
   "execution_count": 14,
   "metadata": {},
   "outputs": [],
   "source": [
    "pinguins = pinguins.drop('island',axis=1)\n",
    "pinguins = pinguins.drop('species',axis=1)"
   ]
  },
  {
   "cell_type": "code",
   "execution_count": 15,
   "metadata": {},
   "outputs": [
    {
     "data": {
      "text/html": [
       "<div>\n",
       "<style scoped>\n",
       "    .dataframe tbody tr th:only-of-type {\n",
       "        vertical-align: middle;\n",
       "    }\n",
       "\n",
       "    .dataframe tbody tr th {\n",
       "        vertical-align: top;\n",
       "    }\n",
       "\n",
       "    .dataframe thead th {\n",
       "        text-align: right;\n",
       "    }\n",
       "</style>\n",
       "<table border=\"1\" class=\"dataframe\">\n",
       "  <thead>\n",
       "    <tr style=\"text-align: right;\">\n",
       "      <th></th>\n",
       "      <th>bill_length_mm</th>\n",
       "      <th>bill_depth_mm</th>\n",
       "      <th>flipper_length_mm</th>\n",
       "      <th>body_mass_g</th>\n",
       "      <th>sex</th>\n",
       "    </tr>\n",
       "  </thead>\n",
       "  <tbody>\n",
       "    <tr>\n",
       "      <th>0</th>\n",
       "      <td>39.1</td>\n",
       "      <td>18.7</td>\n",
       "      <td>181.0</td>\n",
       "      <td>3750.0</td>\n",
       "      <td>Male</td>\n",
       "    </tr>\n",
       "    <tr>\n",
       "      <th>1</th>\n",
       "      <td>39.5</td>\n",
       "      <td>17.4</td>\n",
       "      <td>186.0</td>\n",
       "      <td>3800.0</td>\n",
       "      <td>Female</td>\n",
       "    </tr>\n",
       "    <tr>\n",
       "      <th>2</th>\n",
       "      <td>40.3</td>\n",
       "      <td>18.0</td>\n",
       "      <td>195.0</td>\n",
       "      <td>3250.0</td>\n",
       "      <td>Female</td>\n",
       "    </tr>\n",
       "    <tr>\n",
       "      <th>3</th>\n",
       "      <td>NaN</td>\n",
       "      <td>NaN</td>\n",
       "      <td>NaN</td>\n",
       "      <td>NaN</td>\n",
       "      <td>NaN</td>\n",
       "    </tr>\n",
       "    <tr>\n",
       "      <th>4</th>\n",
       "      <td>36.7</td>\n",
       "      <td>19.3</td>\n",
       "      <td>193.0</td>\n",
       "      <td>3450.0</td>\n",
       "      <td>Female</td>\n",
       "    </tr>\n",
       "  </tbody>\n",
       "</table>\n",
       "</div>"
      ],
      "text/plain": [
       "   bill_length_mm  bill_depth_mm  flipper_length_mm  body_mass_g     sex\n",
       "0            39.1           18.7              181.0       3750.0    Male\n",
       "1            39.5           17.4              186.0       3800.0  Female\n",
       "2            40.3           18.0              195.0       3250.0  Female\n",
       "3             NaN            NaN                NaN          NaN     NaN\n",
       "4            36.7           19.3              193.0       3450.0  Female"
      ]
     },
     "execution_count": 15,
     "metadata": {},
     "output_type": "execute_result"
    }
   ],
   "source": [
    "pinguins.head()"
   ]
  },
  {
   "cell_type": "code",
   "execution_count": 16,
   "metadata": {},
   "outputs": [],
   "source": [
    "pinguins = pinguins.dropna()\n",
    "#removendo Nans "
   ]
  },
  {
   "cell_type": "code",
   "execution_count": 18,
   "metadata": {},
   "outputs": [
    {
     "name": "stdout",
     "output_type": "stream",
     "text": [
      "bill_length_mm       0\n",
      "bill_depth_mm        0\n",
      "flipper_length_mm    0\n",
      "body_mass_g          0\n",
      "sex                  0\n",
      "dtype: int64\n"
     ]
    }
   ],
   "source": [
    "print(pinguins.isnull().sum())\n"
   ]
  },
  {
   "cell_type": "code",
   "execution_count": 43,
   "metadata": {},
   "outputs": [],
   "source": [
    "X = pinguins.drop('body_mass_g',axis=1).values\n",
    "Y = pinguins['body_mass_g'].values\n"
   ]
  },
  {
   "cell_type": "code",
   "execution_count": 50,
   "metadata": {},
   "outputs": [
    {
     "data": {
      "image/png": "[encoded data removed]",
      "text/plain": [
       "<Figure size 640x480 with 2 Axes>"
      ]
     },
     "metadata": {},
     "output_type": "display_data"
    }
   ],
   "source": [
    "fig, (ax1, ax2) = plt.subplots(2, 1)\n",
    "fig.suptitle('A tale of 2 subplots')\n",
    "\n",
    "ax1.plot(pinguins['bill_length_mm'], pinguins['body_mass_g'], 'o')\n",
    "ax1.set_ylabel('Damped oscillation')\n",
    "\n",
    "ax2.plot(pinguins['flipper_length_mm'], pinguins['body_mass_g'], 'o')\n",
    "ax2.set_xlabel('time (s)')\n",
    "ax2.set_ylabel('Undamped')\n",
    "\n",
    "plt.show()\n"
   ]
  },
  {
   "cell_type": "markdown",
   "metadata": {},
   "source": [
    "### **Referências**\n",
    "1. CORREA, L. Como os modelos estatísticos se aplicam no Machine Learning. Disponível em: <https://www.aquare.la/como-os-modelos-estatisticos-se-aplicam-no-machine-learning/>. Acesso em: 10 set. 2023.\n",
    "\n",
    "2. Ciência de dados e Aprendizado de Máquina (parte 10): Regressão de Ridge. Disponível em: <https://www.mql5.com/pt/articles/11735>. Acesso em: 13 set. 2023.\n",
    "\n",
    "3. DEVAY, A. Modelos de Predição | Regressão de Ridge e Lasso. Disponível em: <https://medium.com/turing-talks/turing-talks-20-regress%C3%A3o-de-ridge-e-lasso-a0fc467b5629>.\n",
    "\n",
    "4. YUKIO, A. Regressão Ridge e Lasso. Disponível em: <https://estatsite.com.br/2020/10/07/regressao-ridge-e-lasso/>. Acesso em: 14 set. 2023.\n",
    "\n",
    "‌\n",
    "\n",
    "‌\n",
    "\n",
    "‌\n",
    "‌"
   ]
  },
  {
   "cell_type": "markdown",
   "metadata": {},
   "source": [
    "https://www.tibco.com/pt-br/reference-center/what-is-logistic-regression#:~:text=O%20que%20%C3%A9%20regress%C3%A3o%20log%C3%ADstica%3F%20A%20regress%C3%A3o%20log%C3%ADstica,seguida%2C%20calcula%20a%20probabilidade%20de%20um%20determinado%20resultado."
   ]
  }
 ],
 "metadata": {
  "kernelspec": {
   "display_name": "Python 3.10.8 64-bit",
   "language": "python",
   "name": "python3"
  },
  "language_info": {
   "codemirror_mode": {
    "name": "ipython",
    "version": 3
   },
   "file_extension": ".py",
   "mimetype": "text/x-python",
   "name": "python",
   "nbconvert_exporter": "python",
   "pygments_lexer": "ipython3",
   "version": "3.10.8"
  },
  "orig_nbformat": 4,
  "vscode": {
   "interpreter": {
    "hash": "26de051ba29f2982a8de78e945f0abaf191376122a1563185a90213a26c5da77"
   }
  }
 },
 "nbformat": 4,
 "nbformat_minor": 2
}
