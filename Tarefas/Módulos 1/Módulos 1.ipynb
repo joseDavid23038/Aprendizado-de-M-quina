{
 "cells": [
  {
   "cell_type": "markdown",
   "metadata": {},
   "source": [
    "<!DOCTYPE html>\n",
    "<html>\n",
    "<head>\n",
    "    <title>Magos da Furadeira</title>\n",
    "</head>\n",
    "<body>\n",
    "    <div style=\"display: flex; align-items: center;\">\n",
    "        <img src=\"https://i.ibb.co/z490FF5/FUNDO-REMOVIDO.png\" alt=\"FUNDO REMOVIDO\">\n",
    "        <p style=\"margin-left: 40px; font-size: 24px; font-weight: bold; border-bottom: 1px solid black;\">José David e Gabriel Torquarto - <br> Magos da Furadeira Bosch de Impacto </p>\n",
    "    </div>\n",
    "</body>\n",
    "</html>\n",
    "\n"
   ]
  },
  {
   "cell_type": "markdown",
   "metadata": {},
   "source": [
    "### **Iterações… iterações em todos os lugares**\n",
    "**ID:** Módulos 01\n",
    "\n",
    "**Proponente:** Diana Didatolov (diretora da Biblioteca Real)\n",
    "\n",
    "**Objetivo:** Escreva um notebook de Jupyter mostrando como funciona módulo itertools do Python (https://docs.python.org/3/library/itertools.html). Em particular, não se esqueça de mostrar com iteradores de análise combinatória (product, permutations, combinations e combinations_with_replacement).\n",
    "\n",
    "**Pontuação máxima:** 10 + 5 pontos."
   ]
  },
  {
   "cell_type": "markdown",
   "metadata": {},
   "source": [
    "### **Itertools:**\n",
    "\n",
    "O módulo itertools do Python fornece uma série de funções de manipulação de iterações. Existem três tipos de iteteradores no módulo itertools:<sup>[3]</sup> <br>\n",
    "**Infinitos:** Geram sequências de forma continua. <br>\n",
    "**Combinatórios:** Lidam com arranja e contagem de objetos.<br>\n",
    "**De encerramento:** Processam entradas finitas. <br>"
   ]
  },
  {
   "cell_type": "code",
   "execution_count": 125,
   "metadata": {},
   "outputs": [],
   "source": [
    "import itertools"
   ]
  },
  {
   "cell_type": "markdown",
   "metadata": {},
   "source": [
    "#### Iteradores infinitos: <sup>[1]</sup>\n",
    " - Count;<br>\n",
    " - Cycle;<br>\n",
    "  - Repeat;<br>  "
   ]
  },
  {
   "cell_type": "markdown",
   "metadata": {},
   "source": [
    "O iterador **count** realiza uma contagem infinita partindo de um primeiro valor e seguindo infinitamente em um passo. Os argumentos recebidos são 2: o primeiro é obrigatório e referente a um valor inicial e o segundo é opcional e é referente ao passo com que a contagem é feita. Caso o argumento de passo \"step\" não seja colocado, é assimido o valor 1. Vale ressaltar que é importante criar um critério de parada em qualquer função que ele seja inserido para impedir que haja um loop infinito<sup>[1]</sup>.<br>\n",
    "A função abaixo é uma exemplificação do uso do iterador count. De forma resumida, a função recebe os argumentos que o count necessita, cria uma lista de contagem e cada i dentro do count é adicionado. Há uma limitação da contagem até que o i seja maior ou igual a 10."
   ]
  },
  {
   "cell_type": "code",
   "execution_count": 126,
   "metadata": {},
   "outputs": [],
   "source": [
    "def contador(inicio, passo=1):\n",
    "    contagem = []\n",
    "    for i in itertools.count(inicio, passo):\n",
    "        contagem.append(i)\n",
    "        if i >=10:\n",
    "            break\n",
    "\n",
    "    return contagem"
   ]
  },
  {
   "cell_type": "markdown",
   "metadata": {},
   "source": [
    "Na célula abaixo, a função criada é utilizada, tendo seus valores de start e step alterados. Por conta do critério de parada da função acima, a contagem apenas ocorre até que o valor i seja igual ou maior que 10. A lista da constagem tem inicio no start e varia a cada step. Então para o caso (2,2), a contagem começa no 2, e vria de 2 em 2 até 10."
   ]
  },
  {
   "cell_type": "code",
   "execution_count": 127,
   "metadata": {},
   "outputs": [
    {
     "data": {
      "text/plain": [
       "[1, 2, 3, 4, 5, 6, 7, 8, 9, 10]"
      ]
     },
     "metadata": {},
     "output_type": "display_data"
    },
    {
     "data": {
      "text/plain": [
       "[1, 3, 5, 7, 9, 11]"
      ]
     },
     "metadata": {},
     "output_type": "display_data"
    },
    {
     "data": {
      "text/plain": [
       "[2, 4, 6, 8, 10]"
      ]
     },
     "metadata": {},
     "output_type": "display_data"
    }
   ],
   "source": [
    "display(contador(1,1))\n",
    "display(contador(1,2))\n",
    "display(contador(2,2))"
   ]
  },
  {
   "cell_type": "markdown",
   "metadata": {},
   "source": [
    "O iterador **cycle** imprime todos os valores do parâmetro recebido. Ele reinicia a impressão novamente quando todos os elementos são impressos de maneira cíclica<sup>[1]</sup>. <br>\n",
    "A célula de código abaixo faz uso do cycle para imprimir a entrada infinitas vezes até que o número limita de ciclos. Caso não houvesse esssa limitação, a célula entraria em loop infinito."
   ]
  },
  {
   "cell_type": "code",
   "execution_count": 128,
   "metadata": {},
   "outputs": [
    {
     "name": "stdout",
     "output_type": "stream",
     "text": [
      "1 pi não é 3 . 1 pi não é 3 . 1 pi não é 3 . "
     ]
    }
   ],
   "source": [
    "ciclos = 0\n",
    "entrada = [1,\"pi\",\"não\",\"é\",3,\".\"]\n",
    "\n",
    "for i in itertools.cycle(entrada): \n",
    "    if ciclos >= len(entrada)*3:\n",
    "        break\n",
    "    else:\n",
    "        print(i,end=\" \" )\n",
    "        ciclos = ciclos+1  "
   ]
  },
  {
   "cell_type": "markdown",
   "metadata": {},
   "source": [
    "O iterador **repeat** recebe um ou dois argumentos: o primeiro é o objeto que ele precisa repetir e o segundo é a quantidade de vezes que precisa repetir. Caso o argumento de quantidade de repetições não seja definida, infinitas repetições ocorrem. Na célula abaixo, o repeat é utilizado com um objeto e 10 repetições."
   ]
  },
  {
   "cell_type": "code",
   "execution_count": 129,
   "metadata": {},
   "outputs": [
    {
     "name": "stdout",
     "output_type": "stream",
     "text": [
      "['Ué', 1, 2, 3, 5, 8, 13], ['Ué', 1, 2, 3, 5, 8, 13], ['Ué', 1, 2, 3, 5, 8, 13], ['Ué', 1, 2, 3, 5, 8, 13], ['Ué', 1, 2, 3, 5, 8, 13], ['Ué', 1, 2, 3, 5, 8, 13], ['Ué', 1, 2, 3, 5, 8, 13], ['Ué', 1, 2, 3, 5, 8, 13], ['Ué', 1, 2, 3, 5, 8, 13], ['Ué', 1, 2, 3, 5, 8, 13], "
     ]
    }
   ],
   "source": [
    "objeto = [\"Ué\", 1,2,3,5,8,13]\n",
    "for i in itertools.repeat(objeto,10):\n",
    "    print(i, end=\", \")"
   ]
  },
  {
   "cell_type": "markdown",
   "metadata": {},
   "source": [
    "#### Iteradores combinatórios: <sup>[1]</sup>\n",
    " - Product;<br>\n",
    " - Permutations;<br>\n",
    " - Combinations;<br>  \n",
    " - Combinations_with_replacement;"
   ]
  },
  {
   "cell_type": "markdown",
   "metadata": {},
   "source": [
    "O iterator **product** computa o produto cartesiano das interaveis de entrada. Ou seja, realiza a multiplicação entre os diferentes pares dos conjuntos<sup>[3]</sup>. A célula abaixo mostra um exemplo disso ocorrendo."
   ]
  },
  {
   "cell_type": "code",
   "execution_count": 130,
   "metadata": {},
   "outputs": [
    {
     "name": "stdout",
     "output_type": "stream",
     "text": [
      "(2, 'A')\n",
      "(2, 'B')\n",
      "(2, 'C')\n",
      "(3, 'A')\n",
      "(3, 'B')\n",
      "(3, 'C')\n",
      "(4, 'A')\n",
      "(4, 'B')\n",
      "(4, 'C')\n"
     ]
    }
   ],
   "source": [
    "obj1 = [2,3,4]\n",
    "obj2 = \"ABC\"\n",
    "\n",
    "for i in itertools.product(obj1,obj2):\n",
    "    print(i)"
   ]
  },
  {
   "cell_type": "markdown",
   "metadata": {},
   "source": [
    "O iterator **permutations** realiza o processo de permutação da análise combinatória<sup>[3]</sup>. Ele recebe dois argumentos: um deles sendo o conjunto e o outro sendo a quantidade de itens que podem ser selecionados. A célula abaixo exemplifica um uso do iterador, no qual é dado um conjunto de três pessoas e um valor n representando um número de cadeira que essas três pessoas podem se sentam. No loop for todos os \"i\" possíveis de permutação são exibidos, sendo essas as possibilidade de ocupação de assento por essas pessoas."
   ]
  },
  {
   "cell_type": "code",
   "execution_count": 131,
   "metadata": {},
   "outputs": [
    {
     "name": "stdout",
     "output_type": "stream",
     "text": [
      "('Daniel', 'Roberto')\n",
      "('Daniel', 'Cassar')\n",
      "('Roberto', 'Daniel')\n",
      "('Roberto', 'Cassar')\n",
      "('Cassar', 'Daniel')\n",
      "('Cassar', 'Roberto')\n"
     ]
    }
   ],
   "source": [
    "conjunto = [\"Daniel\", \"Roberto\",\"Cassar\" ]\n",
    "n = 2\n",
    "for i in itertools.permutations(conjunto, n):\n",
    "    print(i)"
   ]
  },
  {
   "cell_type": "markdown",
   "metadata": {},
   "source": [
    "O iterator **combinations** realiza o processo de combinação da anáilise combinatória. O código de exemplificação coletado do site Python Academy<sup>[3]</sup>, mostra uma aplicação desse iterador. Nesse exemplo, há o teste de todas as combinações possíveis para a lista de notas dadas inicialmente. Todas as combinações são feitas e há um processo de filtragem para obter apenas os casos em que se chega em um valor desejado de somatório de lista, nessa caso 100."
   ]
  },
  {
   "cell_type": "code",
   "execution_count": 132,
   "metadata": {},
   "outputs": [
    {
     "name": "stdout",
     "output_type": "stream",
     "text": [
      "As possíveis combinações de notas que somam R$ 100 são:\n",
      "[(20, 20, 20, 10, 10, 10, 5, 1, 1, 1, 1, 1), (20, 20, 10, 10, 10, 10, 10, 5, 1, 1, 1, 1, 1), (20, 20, 10, 10, 10, 10, 10, 5, 5), (20, 20, 20, 10, 10, 10, 5, 5), (20, 20, 20, 10, 10, 10, 10)]\n"
     ]
    }
   ],
   "source": [
    "#[3]\n",
    "# Notas disponíveis \n",
    "notas = [20, 20, 20, 10, 10, 10, 10, 10, 5, 5, 1, 1, 1, 1, 1]\n",
    "\n",
    "soma_100 = []\n",
    "\n",
    "# Loop sobre o tamanho de combinações possíveis\n",
    "for n in range(1, len(notas) + 1):\n",
    "  # Loop sobre as possíveis combinações verificando se somam 100\n",
    "  for combinacao in itertools.combinations(notas, n):\n",
    "    if sum(combinacao) == 100:\n",
    "      soma_100.append(combinacao)\n",
    "\n",
    "# Remove os itens repetidos\n",
    "resultado = list(set(soma_100))\n",
    "\n",
    "print('As possíveis combinações de notas que somam R$ 100 são:')\n",
    "print(resultado)"
   ]
  },
  {
   "cell_type": "markdown",
   "metadata": {},
   "source": [
    "O iterador **combinations_with_replacement** funciona da mesma forma que o combinations, porém pode ocorrer a repetição de elementos<sup>[3]</sup>, como é mostrado na célula abaixo. "
   ]
  },
  {
   "cell_type": "code",
   "execution_count": 133,
   "metadata": {},
   "outputs": [
    {
     "name": "stdout",
     "output_type": "stream",
     "text": [
      "\n",
      " Com repetição:\n",
      "\n",
      "('A', 'A')\n",
      "('A', 'B')\n",
      "('A', 'C')\n",
      "('B', 'B')\n",
      "('B', 'C')\n",
      "('C', 'C')\n",
      "\n",
      " Sem repetição:\n",
      "\n",
      "('A', 'B')\n",
      "('A', 'C')\n",
      "('B', 'C')\n"
     ]
    }
   ],
   "source": [
    "print(\"\\n Com repetição:\\n\")\n",
    "for i in itertools.combinations_with_replacement(\"ABC\",2):\n",
    "    print(i)\n",
    "\n",
    "print(\"\\n Sem repetição:\\n\")\n",
    "for j in itertools.combinations(\"ABC\",2):\n",
    "    print(j)"
   ]
  },
  {
   "cell_type": "markdown",
   "metadata": {},
   "source": [
    "#### Iteradores de Encerramento: <sup>[3]</sup>\n",
    "- Accumulate;<br>\n",
    "- Chain;<br>\n",
    "- Chain.from_iterable;<br>\n",
    "- Compress;<br>\n",
    "- Dropwhile;<br>\n",
    "- Filterfalse;<br>\n",
    "- Groupby;<br>\n",
    "- Islice;<br>\n",
    "- Pairwise;<br>\n",
    "- Starmap;<br>\n",
    "- Takewhile;<br>\n",
    "- Tee;<br>\n",
    "- Zip_longest;\n"
   ]
  },
  {
   "cell_type": "markdown",
   "metadata": {},
   "source": [
    "Devido ao maior número de iteradores de encerramento, preferimos resumir suas funções de forma simples e exibir uma série de células um exemplo de cada com base no descrito no site Python Academy<sup>[3]</sup>.\n",
    "\n",
    "**Accumulate:** Gera uma sequência acumulada somando os elementos da entrada.É possível mdudar o meio de acumulação.<br>\n",
    "**Chain:** Combina várias sequências em uma única sequência. Concatena os elementos na ordem em que as sequências são fornecidas.<br>\n",
    "**Chain.from_iterable:** Essa função é similar à chain, contudo recebe um contâiner de iteráveis (e não uma lista variável de iteráveis, como acontece na chain).<br>\n",
    "**Compress:** Seleciona elementos dos dados baseados nos valores de seletores. Retorna os elementos correspondentes a seletores verdadeiros.<br>\n",
    "**Dropwhile:** Gera elementos da sequência após o primeiro retorno False, ela replica os elementos de entrada na saída.<br>\n",
    "**Filterfalse:** Essa função filtra os valores do iterável de entrada  quando o resultado da função predicate for falso, elemento à elemento.<br>\n",
    "**Groupby:** Função utilizada para agrupar elementos de um iterável de entrada pela função de seleção de chaves.<br>\n",
    "**Islice:** Retorna uma fatia da sequência especificada pelos parâmetros de início, parada e passo.<br>\n",
    "**Pairwise:** Gera tuplas em pares consecutivos a partir do iterável.<br>\n",
    "**Starmap:** Aplica a função aos elementos da sequência, passando-os como argumentos separados.<br>\n",
    "**Takewhile:** Enquanto a dropwhile ignora elementos enquanto alguma condição é satisfeita, a takewhile escolhe elementos enquanto  a condição predicate for verdadeira.<br>\n",
    "**Tee:** Divide um iterador em n cópias independentes.<br>\n",
    "**Zip_longest:** Combina várias sequências em pares, preenchendo com um valor especificado quando as sequências têm comprimentos diferentes.\n"
   ]
  },
  {
   "cell_type": "code",
   "execution_count": 134,
   "metadata": {},
   "outputs": [
    {
     "name": "stdout",
     "output_type": "stream",
     "text": [
      "1,3,6,10,15,21,28,"
     ]
    }
   ],
   "source": [
    "#accumulate:\n",
    "lista_qualquer = [1,2,3,4,5,6,7]\n",
    "for i in itertools.accumulate(lista_qualquer):\n",
    "    print(i,end=',')"
   ]
  },
  {
   "cell_type": "code",
   "execution_count": 135,
   "metadata": {},
   "outputs": [
    {
     "name": "stdout",
     "output_type": "stream",
     "text": [
      "[2, 2, 4, 1, 2, 3, 0, 1, 2, 3, 4]\n"
     ]
    }
   ],
   "source": [
    "#chain:[3]\n",
    "lista = list([2, 2, 4] )\n",
    "conjunto = set({1, 2, 3})\n",
    "print(list(itertools.chain(lista, conjunto, range(5))))"
   ]
  },
  {
   "cell_type": "code",
   "execution_count": 136,
   "metadata": {},
   "outputs": [
    {
     "name": "stdout",
     "output_type": "stream",
     "text": [
      "[2, 2, 4, 1, 2, 3, 0, 1, 2, 3, 4]\n"
     ]
    }
   ],
   "source": [
    "#chain.from.iterable:[3]\n",
    "lista = list([2, 2, 4] )\n",
    "conjunto = set({1, 2, 3})\n",
    "serie = range(5)\n",
    "\n",
    "container = (lista, conjunto, serie)\n",
    "print(list(itertools.chain.from_iterable(container)))\n"
   ]
  },
  {
   "cell_type": "code",
   "execution_count": 137,
   "metadata": {},
   "outputs": [
    {
     "name": "stdout",
     "output_type": "stream",
     "text": [
      "2,4,5,8,9,"
     ]
    }
   ],
   "source": [
    "#compress:\n",
    "l1 = [1,2,3,4,5,6,7,8,9]\n",
    "l2 = [0,1,0,1,True,False,False, 1,True]\n",
    "for i in itertools.compress(l1,l2):\n",
    "    print(i,end=',')"
   ]
  },
  {
   "cell_type": "code",
   "execution_count": 138,
   "metadata": {},
   "outputs": [
    {
     "name": "stdout",
     "output_type": "stream",
     "text": [
      "[101, 142, 2, 4, 5]\n"
     ]
    }
   ],
   "source": [
    "#dropwhile:[3]\n",
    "lista_q = [0, 10, 2, 20, 34, 45, 40, 41, 63, 100,5, 1, 80, 100, 101, 142, 2, 4, 5]\n",
    "print(list(itertools.dropwhile(lambda x: x <= 100, lista_q)))\n"
   ]
  },
  {
   "cell_type": "code",
   "execution_count": 139,
   "metadata": {},
   "outputs": [
    {
     "name": "stdout",
     "output_type": "stream",
     "text": [
      "[10, 20, 34, 40, 100, 80, 100, 142]\n"
     ]
    }
   ],
   "source": [
    "#filterfalse: [3]\n",
    "def verifica_se_primo(numero):\n",
    "  if numero > 1:\n",
    "    for i in range(2, int(numero/2)+1):\n",
    "      resultado = False if (numero % i) == 0 else True\n",
    "      return resultado\n",
    "  else:\n",
    "      return False\n",
    "\n",
    "entrada = [\n",
    "  10, 7, 20, 34, 43, 40, 41, 63, 100, 80, 100, 101, 142\n",
    "]\n",
    "\n",
    "print(list(itertools.filterfalse(verifica_se_primo, entrada)))\n"
   ]
  },
  {
   "cell_type": "code",
   "execution_count": 140,
   "metadata": {},
   "outputs": [
    {
     "name": "stdout",
     "output_type": "stream",
     "text": [
      "{'spaghetti': [('spaghetti', '10:23:52'), ('spaghetti', '10:27:52')]}\n",
      "{'pennete_rigate': [('pennete_rigate', '11:14:44'), ('pennete_rigate', '13:17:24')]}\n",
      "{'ravioli': [('ravioli', '11:45:33')]}\n",
      "{'pizza': [('pizza', '19:45:44')]}\n"
     ]
    }
   ],
   "source": [
    "#groupby: [3]\n",
    "entrada = [\n",
    "(\"spaghetti\", \"10:23:52\"), \n",
    "(\"spaghetti\", \"10:27:52\"), \n",
    "(\"pennete_rigate\", \"11:14:44\"), \n",
    "(\"pennete_rigate\", \"13:17:24\"), \n",
    "(\"ravioli\", \"11:45:33\"),   \n",
    "(\"pizza\", \"19:45:44\")\n",
    "]\n",
    "\n",
    "funcao_chave = lambda x : x[0]\n",
    "\n",
    "for chave, grupo in itertools.groupby(entrada, funcao_chave):\n",
    "  print({chave : list(grupo)})"
   ]
  },
  {
   "cell_type": "code",
   "execution_count": 141,
   "metadata": {},
   "outputs": [
    {
     "name": "stdout",
     "output_type": "stream",
     "text": [
      "[0, 1, 4, 5, 8, 10]\n",
      "[5, 8, 10, 22, 30, 44, 59, 67, 74]\n"
     ]
    }
   ],
   "source": [
    "#islice:[3]\n",
    "\n",
    "entrada = [0, 1, 4, 5, 8, 10, 22, 30, 44, 59, 67, 74]\n",
    "\n",
    "# Slicing do início até metade do iterável de entrada\n",
    "print(list(itertools.islice(entrada, int(len(entrada)/2))))\n",
    "# Slicing começando do índice 3 até o final \n",
    "print(list(itertools.islice(entrada, 3, None)))"
   ]
  },
  {
   "cell_type": "code",
   "execution_count": 142,
   "metadata": {},
   "outputs": [
    {
     "name": "stdout",
     "output_type": "stream",
     "text": [
      "[True, False, True, True, False]\n"
     ]
    }
   ],
   "source": [
    "#starmap:\n",
    "entrada = [\n",
    "  (1, 2),\n",
    "  (1, 3, 5, 7, 9),\n",
    "  range(10),\n",
    "  {1, 2, 3, 4},\n",
    "  (1, 1, 1, 1, 1, 1, 1, 1, 1)\n",
    "]\n",
    "\n",
    "# Função que verifica se algum dos elementos de entrada é par\n",
    "def contem_par(*elementos):\n",
    "  for elemento in elementos:\n",
    "    if elemento % 2 == 0:\n",
    "      return True\n",
    "  return False\n",
    "\n",
    "print(list(itertools.starmap(contem_par, entrada)))"
   ]
  },
  {
   "cell_type": "code",
   "execution_count": 143,
   "metadata": {},
   "outputs": [
    {
     "name": "stdout",
     "output_type": "stream",
     "text": [
      "[0, 10, 2, 20, 34]\n"
     ]
    }
   ],
   "source": [
    "#takewhile:\n",
    "lista_q = [0, 10, 2, 20, 34, 45, 40, 41, 63, 100,5, 1, 80, 100, 101, 142, 2, 4, 5]\n",
    "print(list(itertools.takewhile(lambda x: x <= 40, lista_q)))"
   ]
  },
  {
   "cell_type": "code",
   "execution_count": 144,
   "metadata": {},
   "outputs": [
    {
     "name": "stdout",
     "output_type": "stream",
     "text": [
      "Iterador: [1, 2, 3, 4] (Tipo = <class 'itertools._tee'>\n",
      "Iterador: [1, 2, 3, 4] (Tipo = <class 'itertools._tee'>\n",
      "Iterador: [1, 2, 3, 4] (Tipo = <class 'itertools._tee'>\n",
      "Iterador: [1, 2, 3, 4] (Tipo = <class 'itertools._tee'>\n"
     ]
    }
   ],
   "source": [
    "#tee\n",
    "entrada = [1, 2, 3, 4]    \n",
    "iterador = iter(entrada)\n",
    "    \n",
    "for i in itertools.tee(iterador, 4): \n",
    "    print(f'Iterador: {list(i)} (Tipo = {type(i)}')\n"
   ]
  },
  {
   "cell_type": "code",
   "execution_count": 145,
   "metadata": {},
   "outputs": [
    {
     "name": "stdout",
     "output_type": "stream",
     "text": [
      "(1, 2),(2, 4),(3, 6),(4, 8),(5, None),"
     ]
    }
   ],
   "source": [
    "#zip_longest:\n",
    "listaA = [1,2,3,4,5]\n",
    "listaB = [2,4,6,8]\n",
    "\n",
    "for i in itertools.zip_longest(listaA, listaB):\n",
    "    print(i,end = ',')"
   ]
  },
  {
   "cell_type": "markdown",
   "metadata": {},
   "source": [
    "## Referências:\n",
    "\n",
    "[1] itertools — Functions creating iterators for efficient looping — Python 3.9.1 documentation. Disponível em: <https://docs.python.org/3/library/itertools.html>. Acesso em: 20 ago. 2023.\n",
    "\n",
    "[2] Python Tutorial: Itertools Module - Iterator Functions for Efficient Looping. Disponível em: <https://youtu.be/Qu3dThVy6KQ>. Acesso em: 22 ago. 2023.\n",
    "\n",
    "‌‌[3]Biblioteca itertools do Python. Disponível em: <https://pythonacademy.com.br/blog/a-biblioteca-itertools-do-python#iteradores-de-encerramento>. Acesso em: 22 ago. 2023.\n",
    "\n",
    "‌"
   ]
  }
 ],
 "metadata": {
  "kernelspec": {
   "display_name": "Python 3.10.8 64-bit",
   "language": "python",
   "name": "python3"
  },
  "language_info": {
   "codemirror_mode": {
    "name": "ipython",
    "version": 3
   },
   "file_extension": ".py",
   "mimetype": "text/x-python",
   "name": "python",
   "nbconvert_exporter": "python",
   "pygments_lexer": "ipython3",
   "version": "3.10.8"
  },
  "orig_nbformat": 4,
  "vscode": {
   "interpreter": {
    "hash": "26de051ba29f2982a8de78e945f0abaf191376122a1563185a90213a26c5da77"
   }
  }
 },
 "nbformat": 4,
 "nbformat_minor": 2
}
