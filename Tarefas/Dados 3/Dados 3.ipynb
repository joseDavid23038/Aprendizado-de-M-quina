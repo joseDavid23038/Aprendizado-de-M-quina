{
 "cells": [
  {
   "cell_type": "markdown",
   "metadata": {},
   "source": [
    "<!DOCTYPE html>\n",
    "\n",
    "<html>\n",
    "\n",
    "<head>\n",
    "\n",
    "<title>Magos da Furadeira</title>\n",
    "\n",
    "</head>\n",
    "\n",
    "<body>\n",
    "\n",
    "<div style=\"display: flex; align-items: center;\">\n",
    "\n",
    "<img src=\"https://i.ibb.co/z490FF5/FUNDO-REMOVIDO.png\" alt=\"FUNDO REMOVIDO\">\n",
    "\n",
    "<p style=\"margin-left: 40px; font-size: 24px; font-weight: bold; border-bottom: 1px solid black;\">José David e Gabriel Torquarto - <br> Magos da Furadeira Bosch de Impacto </p>\n",
    "\n",
    "</div>\n",
    "\n",
    "</body>\n",
    "\n",
    "</html>\n",
    "\n",
    " "
   ]
  },
  {
   "cell_type": "markdown",
   "metadata": {},
   "source": [
    "### **Eu sabia que você era um problema**<br>\n",
    "**ID:** Dados 03\n",
    "\n",
    "**Proponente:** Alfaiate Ligeirinha (apesar do nome, ela é na verdade uma barda muito conhecida no reinado, amiga da Senhorita Creizuda)\n",
    "\n",
    "<p align= 'justify'>**Objetivo:** Escolha entre a sua dupla um dataset que tem potencial para ser o dataset do trabalho de conclusão da disciplina (é um dataset, não dois, não três). Datasets didáticos (tipo os que tem no seaborn) são desencorajados para esta tarefa. Carregue seu dataset em um DataFrame. Identifique quais são as colunas que contém atributos e quais são as colunas que contém targets. Faça uma análise exploratória dos dados, buscando entender como eles se comportam (não se esqueça de uma breve discussão). Identifique os tipos dos dados e realize conversão simbólico-numérica para todos os dados categóricos que identificou como atributo ou target (preste atenção se seus dados são ordinais ou nominais para fazer a conversão mais apropriada). Identifique dados que requerem transformação (seja por conversão de unidades ou por aplicação de logaritmo) e realize as transformações necessárias. Encerre seu trabalho definindo dois DataFrames: um chamado X que deverá conter todos seus atributos e um chamado e contendo todos seus targets. Tanto atributos quanto targets nestes DataFrames finais devem ser numéricos e já transformados (se for o caso). Não normalize os dados ainda!</p>\n",
    "\n",
    "**Pontuação máxima:** 25 pontos."
   ]
  },
  {
   "cell_type": "code",
   "execution_count": 40,
   "metadata": {},
   "outputs": [],
   "source": [
    "import pandas as pd"
   ]
  },
  {
   "cell_type": "code",
   "execution_count": 41,
   "metadata": {},
   "outputs": [],
   "source": [
    "Dataset = pd.read_excel(\"Ligas_de_cobre.xlsx\")\n",
    "\n",
    "Atributos = attributes = attributes = [\n",
    "    'Cu', 'Al', 'Ag', 'B', 'Be', 'Ca', 'Co', 'Ce', 'Cr', 'Fe', 'Hf', 'La',\n",
    "    'Mg', 'Mn', 'Mo', 'Nb', 'Nd', 'Ni', 'P', 'Pb', 'Pr', 'Si', 'Sn', 'Ti',\n",
    "    'V', 'Zn', 'Zr', 'Tss (K)', 'tss (h)', 'CR reduction (%)', 'Aging',\n",
    "    'Tag (K)', 'tag (h)', 'Secondary thermo-mechanical process'\n",
    "]\n",
    "\n",
    "Targets = ['Hardness (HV)','Electrical conductivity (%IACS)']\n"
   ]
  },
  {
   "cell_type": "code",
   "execution_count": 42,
   "metadata": {},
   "outputs": [],
   "source": [
    "Dataset['Tss (K)'].fillna(30, inplace=True)\n",
    "Dataset['Tag (K)'].fillna(30, inplace=True)\n",
    "Dataset['tss (h)'].fillna(30, inplace=True)\n",
    "Dataset['tag (h)'].fillna(30, inplace=True)\n",
    "\n",
    "Dataset['Secondary thermo-mechanical process'] = Dataset['Secondary thermo-mechanical process'].map({'N':0, 'Y':1})\n",
    "Dataset['Aging'] = Dataset['Aging'].map({'N':0, 'Y': 1})"
   ]
  },
  {
   "cell_type": "code",
   "execution_count": 43,
   "metadata": {},
   "outputs": [],
   "source": [
    "Dataset = Dataset.reindex(Atributos + Targets, axis=1)\n",
    "Dataset = Dataset.dropna()\n",
    "\n",
    "X = Dataset.reindex(Atributos, axis=1)\n",
    "y = Dataset.reindex(Targets, axis=1)\n",
    "\n",
    "X = X.values\n",
    "y = y.values.ravel()"
   ]
  },
  {
   "cell_type": "code",
   "execution_count": 47,
   "metadata": {},
   "outputs": [
    {
     "data": {
      "text/plain": [
       "array([[9.960e+01, 0.000e+00, 1.000e-01, ..., 3.000e+01, 3.000e+01,\n",
       "        0.000e+00],\n",
       "       [9.960e+01, 0.000e+00, 1.000e-01, ..., 6.730e+02, 2.500e-01,\n",
       "        0.000e+00],\n",
       "       [9.960e+01, 0.000e+00, 1.000e-01, ..., 6.730e+02, 5.000e-01,\n",
       "        0.000e+00],\n",
       "       ...,\n",
       "       [9.257e+01, 1.300e-01, 0.000e+00, ..., 6.480e+02, 4.000e+00,\n",
       "        0.000e+00],\n",
       "       [9.257e+01, 1.300e-01, 0.000e+00, ..., 6.480e+02, 8.000e+00,\n",
       "        0.000e+00],\n",
       "       [9.257e+01, 1.300e-01, 0.000e+00, ..., 6.480e+02, 1.600e+01,\n",
       "        0.000e+00]])"
      ]
     },
     "metadata": {},
     "output_type": "display_data"
    }
   ],
   "source": [
    "display(X)"
   ]
  }
 ],
 "metadata": {
  "kernelspec": {
   "display_name": "Python 3.10.8 64-bit",
   "language": "python",
   "name": "python3"
  },
  "language_info": {
   "codemirror_mode": {
    "name": "ipython",
    "version": 3
   },
   "file_extension": ".py",
   "mimetype": "text/x-python",
   "name": "python",
   "nbconvert_exporter": "python",
   "pygments_lexer": "ipython3",
   "version": "3.10.8"
  },
  "orig_nbformat": 4,
  "vscode": {
   "interpreter": {
    "hash": "26de051ba29f2982a8de78e945f0abaf191376122a1563185a90213a26c5da77"
   }
  }
 },
 "nbformat": 4,
 "nbformat_minor": 2
}
