{
 "cells": [
  {
   "cell_type": "markdown",
   "id": "2f000f58",
   "metadata": {},
   "source": [
    "# Gráficos"
   ]
  },
  {
   "cell_type": "code",
   "execution_count": null,
   "id": "03a051da",
   "metadata": {},
   "outputs": [],
   "source": [
    "import matplotlib.pyplot as plt\n",
    "import pandas as pd\n",
    "dfalha = pd.read_excel('PT-falha.xlsx')\n",
    "df = pd.read_excel('PT.xlsx')\n",
    "#print(df)"
   ]
  },
  {
   "cell_type": "code",
   "execution_count": 4,
   "id": "a23535c8-05de-47d2-b53b-2c68e5b5cd30",
   "metadata": {},
   "outputs": [
    {
     "name": "stdout",
     "output_type": "stream",
     "text": [
      "5.406455949308503 mol de gas\n"
     ]
    }
   ],
   "source": [
    "r = 8.314\n",
    "V= 0.14\n",
    "P = df[\"Real\"][0]\n",
    "T = 273.15+df[\"Temperatura\"][0]\n",
    "n = (P*V)/(r*T)\n",
    "print(n,\"mol de gas\")\n",
    "for t in df['Temperatura']:\n",
    "    P = (n*r*(t+273.15))/V\n",
    "    #print(P)"
   ]
  },
  {
   "cell_type": "code",
   "execution_count": null,
   "id": "09935f5b-533e-4e85-9b01-f5293861f6be",
   "metadata": {},
   "outputs": [],
   "source": [
    "dfalha.plot(\"Temperatura\", \"Ideal\", color=\"orange\")\n",
    "plt.ylabel(\"Pressão(Pa)\")\n",
    "plt.xlabel(\"Temperatura(°C)\")\n",
    "plt.show()\n"
   ]
  },
  {
   "cell_type": "code",
   "execution_count": null,
   "id": "cd65e5bb-b01d-49b0-a754-acfb1f215c3a",
   "metadata": {},
   "outputs": [],
   "source": [
    "ax = dfalha.plot(\"Temperatura\", \"Real\")\n",
    "dfalha.plot(\"Temperatura\", \"Ideal\",color=\"purple\", ax=ax)\n",
    "plt.ylim(bottom=90000, top=109000)\n",
    "plt.ylabel(\"Pressão(Pa)\")\n",
    "plt.xlabel(\"Temperatura(°C)\")\n",
    "plt.show()\n"
   ]
  },
  {
   "cell_type": "code",
   "execution_count": null,
   "id": "6edf42fb-f745-4829-8105-8cb3d2e094f6",
   "metadata": {},
   "outputs": [],
   "source": [
    "dfalha.plot(\"Temperatura\", \"Real\")\n",
    "plt.ylabel(\"Pressão(Pa)\")\n",
    "plt.xlabel(\"Temperatura(°C)\")\n",
    "plt.show()\n",
    "\n",
    "print(\"Desceu\",dfalha[\"Real\"][0]-dfalha[\"Real\"][2024],\"Pascal\")"
   ]
  },
  {
   "cell_type": "code",
   "execution_count": null,
   "id": "433bc554-7a46-4ed8-9393-01afa3c5a80d",
   "metadata": {},
   "outputs": [],
   "source": [
    "dfalha.plot(x=\"Temperatura\", y=\"Real\")\n",
    "plt.xlim(32, 40)\n",
    "plt.ylim(bottom=93610, top=93624)\n",
    "plt.ylabel(\"Pressão(Pa)\")\n",
    "plt.xlabel(\"Temperatura(°C)\")\n",
    "plt.show()\n"
   ]
  },
  {
   "cell_type": "code",
   "execution_count": null,
   "id": "a8d76386-79f5-4877-b42f-3b92f091641c",
   "metadata": {},
   "outputs": [],
   "source": [
    "import matplotlib.pyplot as plt\n",
    "\n",
    "# Crie o gráfico\n",
    "plt.plot(dfalha[\"Temperatura\"], dfalha[\"Real\"],color = \"purple\")\n",
    "\n",
    "# Calcule os limites superior e inferior com a margem de erro\n",
    "margem_erro = 100\n",
    "limite_superior = dfalha[\"Real\"] + margem_erro\n",
    "limite_inferior = dfalha[\"Real\"] - margem_erro\n",
    "\n",
    "# Adicione a margem de erro usando a função fill_between\n",
    "plt.fill_between(dfalha[\"Temperatura\"], limite_inferior, limite_superior, alpha=0.3)\n",
    "\n",
    "# Defina os limites personalizados para o eixo x e y\n",
    "\n",
    "\n",
    "# Configure os rótulos dos eixos\n",
    "plt.ylabel(\"Pressão (Pa)\")\n",
    "plt.xlabel(\"Temperatura (°C)\")\n",
    "\n",
    "# Exiba o gráfico\n",
    "plt.show()\n"
   ]
  },
  {
   "cell_type": "code",
   "execution_count": null,
   "id": "39ff1f62",
   "metadata": {},
   "outputs": [],
   "source": [
    "df.plot(\"Temperatura\", \"Real\")\n",
    "plt.ylabel(\"Pressão(Pa)\")\n",
    "plt.xlabel(\"Temperatura(°C)\")"
   ]
  },
  {
   "cell_type": "code",
   "execution_count": null,
   "id": "10bcdbae-0d69-43c9-85b4-1bf64df72742",
   "metadata": {},
   "outputs": [],
   "source": [
    "print(\"Subiu\",df[\"Real\"][1605]-df[\"Real\"][0],\"Pascal\")"
   ]
  },
  {
   "cell_type": "code",
   "execution_count": null,
   "id": "253a8562-3db2-4558-a682-2ff9baa58d5a",
   "metadata": {},
   "outputs": [],
   "source": [
    "ax = df.plot(\"Temperatura\", \"Real\")\n",
    "df.plot(\"Temperatura\", \"Ideal\", ax=ax)\n",
    "plt.ylabel(\"Pressão(Pa)\")\n",
    "plt.xlabel(\"Temperatura(°C)\")\n",
    "plt.show()"
   ]
  },
  {
   "cell_type": "code",
   "execution_count": null,
   "id": "e17a8f1c-1408-49cc-8713-cefb709bb1de",
   "metadata": {},
   "outputs": [],
   "source": [
    "import matplotlib.pyplot as plt\n",
    "\n",
    "\n",
    "# Crie o gráfico\n",
    "ax = df.plot(\"Temperatura\", \"Real\")\n",
    "df.plot(\"Temperatura\", \"Ideal\", ax=ax)\n",
    "\n",
    "# Adicione a margem de erro para \"Real\"\n",
    "margem_erro = 100  # Defina o valor da margem de erro aqui\n",
    "\n",
    "df[\"Real_sup\"] = df[\"Real\"] + margem_erro\n",
    "df[\"Real_inf\"] = df[\"Real\"] - margem_erro\n",
    "\n",
    "# Plote as linhas de margem de erro\n",
    "ax.fill_between(df[\"Temperatura\"], df[\"Real_sup\"], df[\"Real_inf\"], color='gray', alpha=0.3)\n",
    "\n",
    "# Configure os rótulos dos eixos\n",
    "plt.ylabel(\"Pressão (Pa)\")\n",
    "plt.xlabel(\"Temperatura (°C)\")\n",
    "\n",
    "# Exiba o gráfico\n",
    "plt.show()\n"
   ]
  },
  {
   "cell_type": "code",
   "execution_count": null,
   "id": "7d365963-ff62-488c-9fff-b4060b07fd8e",
   "metadata": {},
   "outputs": [],
   "source": [
    "import matplotlib.pyplot as plt\n",
    "\n",
    "# Crie o gráfico\n",
    "df.plot(x=\"Temperatura\", y=\"Real\")\n",
    "\n",
    "# Adicione a margem de erro\n",
    "margem_erro = 100\n",
    "df[\"Real_sup\"] = df[\"Real\"] + margem_erro\n",
    "df[\"Real_inf\"] = df[\"Real\"] - margem_erro\n",
    "\n",
    "# Preencha a área entre os limites superior e inferior com a cor cinza\n",
    "plt.fill_between(df[\"Temperatura\"], df[\"Real_sup\"], df[\"Real_inf\"], color='gray', alpha=0.3)\n",
    "\n",
    "# Configure os rótulos dos eixos\n",
    "plt.ylabel(\"Pressão (Pa)\")\n",
    "plt.xlabel(\"Temperatura (°C)\")\n",
    "\n",
    "# Exiba o gráfico\n",
    "plt.grid(True)\n",
    "\n",
    "plt.show()\n"
   ]
  },
  {
   "cell_type": "code",
   "execution_count": null,
   "id": "be669fb7-9082-47a7-8222-5dc4bbd1198e",
   "metadata": {},
   "outputs": [],
   "source": [
    "import matplotlib.pyplot as plt\n",
    "\n",
    "# Crie o gráfico\n",
    "df.plot(x=\"Temperatura\", y=\"Real\", color = \"Red\")\n",
    "\n",
    "# Adicione a margem de erro\n",
    "margem_erro = 100\n",
    "df[\"Real_sup\"] = df[\"Real\"] + margem_erro\n",
    "df[\"Real_inf\"] = df[\"Real\"] - margem_erro\n",
    "\n",
    "# Preencha a área entre os limites superior e inferior com a cor cinza\n",
    "plt.fill_between(df[\"Temperatura\"], df[\"Real_sup\"], df[\"Real_inf\"], color='gray', alpha=0.3)\n",
    "\n",
    "# Defina os limites personalizados para o eixo x e y\n",
    "plt.xlim(30, 50)\n",
    "plt.ylim(99000, 105000)\n",
    "\n",
    "# Configure os rótulos dos eixos\n",
    "plt.title(\"Pressão por temperatura\")\n",
    "plt.ylabel(\"Pressão (Pa)\")\n",
    "plt.xlabel(\"Temperatura (°C)\")\n",
    "plt.locator_params(axis='x', nbins=20)\n",
    "plt.locator_params(axis='y', nbins=20)\n",
    "# Exiba o gráfico\n",
    "plt.grid(True)\n",
    "plt.show()\n"
   ]
  },
  {
   "cell_type": "code",
   "execution_count": null,
   "id": "552f8b09-b046-4476-8c21-85dacadf9c9a",
   "metadata": {},
   "outputs": [],
   "source": [
    "df.plot(x=\"Temperatura\", y=\"Real\")\n",
    "margem_erro = 100\n",
    "\n",
    "df[\"Real_sup\"] = df[\"Real\"] + margem_erro\n",
    "df[\"Real_inf\"] = df[\"Real\"] - margem_erro\n",
    "\n",
    "ax.fill_between(df[\"Temperatura\"], df[\"Real_sup\"], df[\"Real_inf\"], color='gray', alpha=0.3)\n",
    "plt.xlim(30, 50)\n",
    "plt.ylim(bottom=99000, top=105000)\n",
    "plt.ylabel(\"Pressão(Pa)\")\n",
    "plt.xlabel(\"Temperatura(°C)\")\n",
    "plt.show()"
   ]
  }
 ],
 "metadata": {
  "kernelspec": {
   "display_name": "ilumpy",
   "language": "python",
   "name": "ilumpy"
  },
  "language_info": {
   "codemirror_mode": {
    "name": "ipython",
    "version": 3
   },
   "file_extension": ".py",
   "mimetype": "text/x-python",
   "name": "python",
   "nbconvert_exporter": "python",
   "pygments_lexer": "ipython3",
   "version": "3.10.8"
  }
 },
 "nbformat": 4,
 "nbformat_minor": 5
}
