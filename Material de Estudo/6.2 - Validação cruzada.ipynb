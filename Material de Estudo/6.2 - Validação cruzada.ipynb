{
 "cells": [
  {
   "cell_type": "markdown",
   "metadata": {},
   "source": [
    "Validação cruzada\n",
    "=================\n",
    "\n"
   ]
  },
  {
   "cell_type": "markdown",
   "metadata": {},
   "source": [
    "## Introdução\n",
    "\n"
   ]
  },
  {
   "cell_type": "markdown",
   "metadata": {},
   "source": [
    "No notebook 5.1 nós vimos que avaliar a performance de modelos utilizando os dados usados para treinar os modelos nos fornece uma métrica de performance que é *superestimada* (isto é, a performance do modelo aparenta ser melhor do que realmente é).\n",
    "\n",
    "A solução para buscar uma melhor forma de avaliar a performance dos modelos foi a separação dos dados em um conjunto de treino e um conjunto de teste.\n",
    "\n",
    "Aqui neste notebook veremos uma estratégia para *seleção de modelos*. Seleção de modelos é diferente de avaliação de modelos. Isto vai ficar claro ao longo deste notebook.\n",
    "\n"
   ]
  },
  {
   "cell_type": "markdown",
   "metadata": {},
   "source": [
    "## Carregando os dados necessários\n",
    "\n"
   ]
  },
  {
   "cell_type": "markdown",
   "metadata": {},
   "source": [
    "Antes de seguir em frente, precisamos de dados.\n",
    "\n"
   ]
  },
  {
   "cell_type": "code",
   "execution_count": 40,
   "metadata": {},
   "outputs": [],
   "source": [
    "from sklearn.model_selection import train_test_split\n",
    "import seaborn as sns\n",
    "\n",
    "DATASET_NAME = \"penguins\"\n",
    "FEATURES = [\"bill_length_mm\", \"bill_depth_mm\", \"flipper_length_mm\"]\n",
    "TARGET = [\"body_mass_g\"]\n",
    "\n",
    "TAMANHO_TESTE = 0.1\n",
    "SEMENTE_ALEATORIA = 61455\n",
    "\n",
    "df = sns.load_dataset(DATASET_NAME)\n",
    "\n",
    "df = df.reindex(FEATURES + TARGET, axis=1)\n",
    "df = df.dropna()\n",
    "\n",
    "indices = df.index\n",
    "indices_treino, indices_teste = train_test_split(\n",
    "    indices, test_size=TAMANHO_TESTE, random_state=SEMENTE_ALEATORIA\n",
    ")\n",
    "\n",
    "df_treino = df.loc[indices_treino]\n",
    "df_teste = df.loc[indices_teste]\n",
    "\n",
    "X_treino = df_treino.reindex(FEATURES, axis=1).values\n",
    "y_treino = df_treino.reindex(TARGET, axis=1).values.ravel()\n",
    "\n",
    "X_teste = df_teste.reindex(FEATURES, axis=1).values\n",
    "y_teste = df_teste.reindex(TARGET, axis=1).values.ravel()\n",
    "\n",
    "X = df.reindex(FEATURES, axis=1).values\n",
    "y = df.reindex(TARGET, axis=1).values.ravel()"
   ]
  },
  {
   "cell_type": "markdown",
   "metadata": {},
   "source": [
    "## O acaso vai me proteger&#x2026; se eu não forçar a barra\n",
    "\n"
   ]
  },
  {
   "cell_type": "markdown",
   "metadata": {},
   "source": [
    "No código abaixo, nós estamos treinando uma árvore de decisão nos dados dos pinguins que carregamos na seção anterior. Observe o que acontece com a performance do modelo quando variamos a semente aleatória (observe que a performance está sendo medida da maneira correta, isto é, no conjunto de teste).\n",
    "\n"
   ]
  },
  {
   "cell_type": "code",
   "execution_count": 41,
   "metadata": {},
   "outputs": [
    {
     "data": {
      "image/png": "[encoded data removed]",
      "text/plain": [
       "<Figure size 640x480 with 1 Axes>"
      ]
     },
     "metadata": {},
     "output_type": "display_data"
    }
   ],
   "source": [
    "from sklearn.tree import DecisionTreeRegressor\n",
    "from sklearn.metrics import mean_squared_error\n",
    "from matplotlib import pyplot as plt\n",
    "\n",
    "N = 5000\n",
    "\n",
    "resultado = []\n",
    "\n",
    "for semente in range(N):\n",
    "    modelo_dt = DecisionTreeRegressor(random_state=semente)\n",
    "\n",
    "    modelo_dt.fit(X_treino, y_treino)\n",
    "\n",
    "    y_verdadeiro = y_teste\n",
    "    y_previsao = modelo_dt.predict(X_teste)\n",
    "    RMSE = mean_squared_error(y_verdadeiro, y_previsao, squared=False)\n",
    "    resultado.append(RMSE)\n",
    "\n",
    "figura, eixo = plt.subplots()\n",
    "eixo.hist(resultado)\n",
    "eixo.set_xlabel(\"RMSE\")\n",
    "eixo.set_ylabel(\"Quantidade\")\n",
    "plt.show()"
   ]
  },
  {
   "cell_type": "markdown",
   "metadata": {},
   "source": [
    "Afinal de contas, qual é a performance deste modelo? Porque variando a semente aleatória a performance varia?\n",
    "\n",
    "Este experimento que realizamos acima nos mostra que mesmo pequenas variações nas árvores de decisão induzidas pelo modelo resultam em alterações na performance. Estas variações no modelo ocorrem pois alteramos a semente aleatória, releia o notebook 5.2 para relembrar que induzir uma árvore de decisão é um problema NP-difícil e que o `scikit-learn` usa um algoritmo que não necessariamente entrega a melhor resposta.\n",
    "\n",
    "Por puro acaso, variações no modelo podem prever melhor ou pior os dados de treino, e é por isso que vemos uma distribuição nos valores de performance neste experimento.\n",
    "\n",
    "Geralmente, não nos preocupamos com o acaso quando treinamos modelos pois esperamos que o efeito do acaso seja pequeno (isto é, assumimos que a nossa avaliação da performance no conjunto de teste é uma estimativa razoável). No entanto, quando &ldquo;forçamos a barra&rdquo; podemos observar situações inusitadas por puro efeito do acaso, como foi o caso do experimento que realizamos acima.\n",
    "\n",
    "Quando reusamos o mesmo conjunto de teste para diversos modelos diferentes, aumentamos a chance de observar modelos com estimativas de performance muito discrepantes (para mais ou para menos) por pura ação do acaso. Um artigo que discute de forma excelente isso é a referência [1].\n",
    "\n",
    "O nome técnico deste conceito é &ldquo;vazamento de dados&rdquo; ou *data leakage* em inglês (ver referência [2]). Quando usamos o mesmo conjunto de teste várias vezes, dizemos que a informação dos dados de teste &ldquo;vazaram&rdquo; para o treino (efeito do acaso discutido acima). Outra forma de ocorrer vazamento de dados é quando existem dados duplicados no seu conjunto de dados (isto é, dados com mesmos valores de atributos); desta forma você corre o risco de dados &ldquo;iguais&rdquo; a dados do conjunto de treino cairem no conjunto de teste durante seu split, o que faz com que seu modelo seja treinado com informações que deveriam ser novas (os dados de teste deveriam ser novidade para seu modelo).\n",
    "\n"
   ]
  },
  {
   "cell_type": "markdown",
   "metadata": {},
   "source": [
    "## Avaliação de modelos com validação cruzada $k$​-fold\n",
    "\n"
   ]
  },
  {
   "cell_type": "markdown",
   "metadata": {},
   "source": [
    "Uma estratégia para reduzir o efeito do acaso para avaliar um modelo induzido por aprendizado de máquina é o processo de *validação cruzada* (cross-validation em inglês).\n",
    "\n",
    "A validação cruzada mais usada é a chamada de $k$​-fold, representada na imagem abaixo. Nesta estratégia, nós dividimos o conjunto de dados em $k$ subconjuntos diferentes de mesmo tamanho (ou o mais próximo possível disso). Em cada iteração da validação cruzada, um destes subconjuntos é designado como conjunto de teste e os demais como conjunto de treino de forma que todo subconjunto seja teste uma vez.\n",
    "\n",
    "Nesta estratégia, nós treinamos $k$ modelos e temos $k$ estimativas da performance. A média das $k$ estimativas de performance é o valor que usaremos para avaliar o modelo sendo estudado.\n",
    "\n",
    "![img](https://upload.wikimedia.org/wikipedia/commons/b/b5/K-fold_cross_validation_EN.svg)\n",
    "\n",
    "Observe que a estratégia de validação cruzada é menos susceptível ao acaso do que a estratégia de split em treino e teste que vimos anteriormente.\n",
    "\n",
    "A escolha do valor de $k$ é um ponto muito importante. Quanto maior o valor de $k$ maior o custo computacional do processo de validação cruzada. Quanto menor o valor de $k$ pior será sua estimativa da performance. Em geral, um valor de $k=10$ costuma ser muito bom, mas $k=5$ também é considerado bom e menos custoso.\n",
    "\n",
    "Vamos ver como fazer uma validação cruzada no `scikit-learn`. Note que aqui não fizemos o split de treino e teste pois quem está cuidando disso é a própria função `cross_val_score`. Outro detalhe é que a função `cross_val_score` pode receber o argumento `scoring` que é a medida da performance que temos interesse. Aqui queremos a métrica RMSE e por isso passamos o valor `neg_root_mean_squared_error`. Existem diversos scores possíveis que podemos utilizar para a validação cruzada. Você pode checar as que já estão embutidas no `scikit-learn` na [documentação](https://scikit-learn.org/stable/modules/model_evaluation.html#common-cases-predefined-values).\n",
    "\n"
   ]
  },
  {
   "cell_type": "code",
   "execution_count": 42,
   "metadata": {},
   "outputs": [
    {
     "name": "stdout",
     "output_type": "stream",
     "text": [
      "As métricas foram:  [-560.08609032 -496.21783811 -495.60569004 -501.65168371 -437.19527203\n",
      " -562.23032751 -515.70910633 -456.58982107 -364.25790798 -525.29753474]\n",
      "\n",
      "A média das métricas é de:  -491.48412718394883\n"
     ]
    }
   ],
   "source": [
    "from sklearn.model_selection import cross_val_score\n",
    "\n",
    "NUM_FOLDS = 10\n",
    "\n",
    "modelo_dt = DecisionTreeRegressor()\n",
    "\n",
    "metricas = cross_val_score(\n",
    "    modelo_dt,\n",
    "    X,\n",
    "    y,\n",
    "    cv=NUM_FOLDS,\n",
    "    scoring=\"neg_root_mean_squared_error\",\n",
    ")\n",
    "\n",
    "print(\"As métricas foram: \", metricas)\n",
    "print()\n",
    "print(\"A média das métricas é de: \", metricas.mean())"
   ]
  },
  {
   "cell_type": "markdown",
   "metadata": {},
   "source": [
    "Ué, como assim o RMSE deu negativo? Isso acontece porque o `scikit-learn` definiu que métricas com o nome de *score* devem todas seguir a mesma regra: quanto maior, melhor! No entanto, sabemos que quanto menor o RMSE melhor a performance do meu modelo. Para satisfazer a definição de score do `scikit-learn`, devemos usar o negativo do RMSE como score (por isso tem um `neg` na string que passamos no argumento `scoring`, vem de &ldquo;negativo&rdquo;). Basta você remover o sinal de negativo e terá seu RMSE tradicional como de costume.\n",
    "\n"
   ]
  },
  {
   "cell_type": "code",
   "execution_count": 43,
   "metadata": {},
   "outputs": [
    {
     "name": "stdout",
     "output_type": "stream",
     "text": [
      "A média das métricas é de:  491.48412718394883\n"
     ]
    }
   ],
   "source": [
    "print(\"A média das métricas é de: \", abs(metricas.mean()))"
   ]
  },
  {
   "cell_type": "markdown",
   "metadata": {},
   "source": [
    "## Otimização de hiperparâmetros\n",
    "\n"
   ]
  },
  {
   "cell_type": "markdown",
   "metadata": {},
   "source": [
    "*Avaliar* a performance de modelos é muito importante. No entanto, muitas vezes nós temos interesse em realizar o passo seguinte que é o de *selecionar* modelos. Pode parecer que são processos iguais mas não são!\n",
    "\n",
    "Seleção de modelos é escolher um bom conjunto de hiperparâmetros para um certo algoritmo de aprendizado de máquina. Este processo também é conhecido como *otimização de hiperparâmetros* ou *hyperparameter tuning* ou simplesmente *hp tuning*.\n",
    "\n",
    "Este processo envolve os conceitos de split treino-teste com a validação cruzada. Os passos são os seguintes:\n",
    "\n",
    "1.  Dividir o conjunto de dados em treino e teste;\n",
    "\n",
    "2.  Realizar validação cruzada considerando apenas o conjunto de treino. Registrar a performance de cada conjunto de hiperparâmetros testados. Escolher o conjunto de hiperparâmetros que resultou na melhor performance;\n",
    "\n",
    "3.  Treinar um modelo usando os hiperparâmetros encontrados no passo 2 em *todos* os dados de treino;\n",
    "\n",
    "4.  Avaliar a performance do modelo obtido no passo 3 no conjunto de teste obtido no passo 1.\n",
    "\n",
    "Uma representação visual pode ser conferida na imagem abaixo. A figura 16 da referência [1] mostra os passos discutidos acima.\n",
    "\n",
    "![img](https://scikit-learn.org/stable/_images/grid_search_cross_validation.png)\n",
    "\n"
   ]
  },
  {
   "cell_type": "markdown",
   "metadata": {},
   "source": [
    "## Otimização de hiperparâmetros com `scikit-learn` (busca em grade)\n",
    "\n"
   ]
  },
  {
   "cell_type": "markdown",
   "metadata": {},
   "source": [
    "*Problemas de otimização* são problemas onde buscamos maximizar ou minimizar uma função objetivo. O problema de otimização de hiperparâmetros é um tipo de problema de otimização.\n",
    "\n",
    "Uma estratégia para resolver problemas de otimização é definir todos os valores possíveis dos parâmetros que estamos estudando (neste caso são os hiperparâmetros dos modelos) e estudar os resultados de todas as possíveis combinações entre eles. Esta é a estratégia chamada de *busca em grade*.\n",
    "\n",
    "Podemos realizar esta busca usando o `scikit-learn`.\n",
    "\n"
   ]
  },
  {
   "cell_type": "code",
   "execution_count": 44,
   "metadata": {},
   "outputs": [
    {
     "name": "stderr",
     "output_type": "stream",
     "text": [
      "C:\\Users\\jose23038\\AppData\\Roaming\\Python\\Python310\\site-packages\\sklearn\\model_selection\\_validation.py:425: FitFailedWarning: \n",
      "240 fits failed out of a total of 960.\n",
      "The score on these train-test partitions for these parameters will be set to nan.\n",
      "If these failures are not expected, you can try to debug them by setting error_score='raise'.\n",
      "\n",
      "Below are more details about the failures:\n",
      "--------------------------------------------------------------------------------\n",
      "240 fits failed with the following error:\n",
      "Traceback (most recent call last):\n",
      "  File \"C:\\Users\\jose23038\\AppData\\Roaming\\Python\\Python310\\site-packages\\sklearn\\model_selection\\_validation.py\", line 732, in _fit_and_score\n",
      "    estimator.fit(X_train, y_train, **fit_params)\n",
      "  File \"C:\\Users\\jose23038\\AppData\\Roaming\\Python\\Python310\\site-packages\\sklearn\\base.py\", line 1144, in wrapper\n",
      "    estimator._validate_params()\n",
      "  File \"C:\\Users\\jose23038\\AppData\\Roaming\\Python\\Python310\\site-packages\\sklearn\\base.py\", line 637, in _validate_params\n",
      "    validate_parameter_constraints(\n",
      "  File \"C:\\Users\\jose23038\\AppData\\Roaming\\Python\\Python310\\site-packages\\sklearn\\utils\\_param_validation.py\", line 95, in validate_parameter_constraints\n",
      "    raise InvalidParameterError(\n",
      "sklearn.utils._param_validation.InvalidParameterError: The 'min_samples_split' parameter of DecisionTreeRegressor must be an int in the range [2, inf) or a float in the range (0.0, 1.0]. Got 1 instead.\n",
      "\n",
      "  warnings.warn(some_fits_failed_message, FitFailedWarning)\n",
      "C:\\Users\\jose23038\\AppData\\Roaming\\Python\\Python310\\site-packages\\sklearn\\model_selection\\_search.py:976: UserWarning: One or more of the test scores are non-finite: [          nan -497.81207032 -477.79091143 -478.65185422           nan\n",
      " -462.65529061 -458.19957645 -459.06408072           nan -421.93003632\n",
      " -421.52211392 -431.31326048           nan -412.18360319 -411.24070482\n",
      " -408.95868991           nan -424.50214947 -424.50214947 -424.50214947\n",
      "           nan -424.50214947 -424.50214947 -424.50214947           nan\n",
      " -424.50214947 -424.50214947 -424.50214947           nan -424.50214947\n",
      " -424.50214947 -424.50214947           nan -398.49217574 -398.49217574\n",
      " -398.49217574           nan -398.49217574 -398.49217574 -398.49217574\n",
      "           nan -398.49217574 -398.49217574 -398.49217574           nan\n",
      " -398.49217574 -398.49217574 -398.49217574           nan -412.16208972\n",
      " -409.93182812 -411.86194168           nan -407.30444522 -410.29581047\n",
      " -407.58195631           nan -405.21246023 -407.84944685 -407.84944685\n",
      "           nan -404.36973761 -407.07326721 -404.36973761           nan\n",
      " -455.5728254  -447.62448145 -446.43670417           nan -437.55603588\n",
      " -435.85308673 -428.28438238           nan -411.00847042 -410.45540173\n",
      " -418.26282036           nan -412.91275817 -409.75065311 -410.24016356\n",
      "           nan -497.5481258  -489.07801022 -469.61410427           nan\n",
      " -448.82402594 -457.89291294 -456.32163913           nan -423.12053918\n",
      " -423.20609543 -422.33379609           nan -412.29864748 -409.47963402\n",
      " -409.47963402]\n",
      "  warnings.warn(\n"
     ]
    },
    {
     "data": {
      "text/html": [
       "<div>\n",
       "<style scoped>\n",
       "    .dataframe tbody tr th:only-of-type {\n",
       "        vertical-align: middle;\n",
       "    }\n",
       "\n",
       "    .dataframe tbody tr th {\n",
       "        vertical-align: top;\n",
       "    }\n",
       "\n",
       "    .dataframe thead th {\n",
       "        text-align: right;\n",
       "    }\n",
       "</style>\n",
       "<table border=\"1\" class=\"dataframe\">\n",
       "  <thead>\n",
       "    <tr style=\"text-align: right;\">\n",
       "      <th></th>\n",
       "      <th>mean_test_score</th>\n",
       "      <th>std_test_score</th>\n",
       "      <th>params</th>\n",
       "    </tr>\n",
       "  </thead>\n",
       "  <tbody>\n",
       "    <tr>\n",
       "      <th>0</th>\n",
       "      <td>NaN</td>\n",
       "      <td>NaN</td>\n",
       "      <td>{'max_depth': None, 'min_samples_leaf': 1, 'mi...</td>\n",
       "    </tr>\n",
       "    <tr>\n",
       "      <th>1</th>\n",
       "      <td>-497.812070</td>\n",
       "      <td>71.011870</td>\n",
       "      <td>{'max_depth': None, 'min_samples_leaf': 1, 'mi...</td>\n",
       "    </tr>\n",
       "    <tr>\n",
       "      <th>2</th>\n",
       "      <td>-477.790911</td>\n",
       "      <td>71.198823</td>\n",
       "      <td>{'max_depth': None, 'min_samples_leaf': 1, 'mi...</td>\n",
       "    </tr>\n",
       "    <tr>\n",
       "      <th>3</th>\n",
       "      <td>-478.651854</td>\n",
       "      <td>64.315350</td>\n",
       "      <td>{'max_depth': None, 'min_samples_leaf': 1, 'mi...</td>\n",
       "    </tr>\n",
       "    <tr>\n",
       "      <th>4</th>\n",
       "      <td>NaN</td>\n",
       "      <td>NaN</td>\n",
       "      <td>{'max_depth': None, 'min_samples_leaf': 2, 'mi...</td>\n",
       "    </tr>\n",
       "    <tr>\n",
       "      <th>...</th>\n",
       "      <td>...</td>\n",
       "      <td>...</td>\n",
       "      <td>...</td>\n",
       "    </tr>\n",
       "    <tr>\n",
       "      <th>91</th>\n",
       "      <td>-422.333796</td>\n",
       "      <td>48.798450</td>\n",
       "      <td>{'max_depth': 10, 'min_samples_leaf': 3, 'min_...</td>\n",
       "    </tr>\n",
       "    <tr>\n",
       "      <th>92</th>\n",
       "      <td>NaN</td>\n",
       "      <td>NaN</td>\n",
       "      <td>{'max_depth': 10, 'min_samples_leaf': 4, 'min_...</td>\n",
       "    </tr>\n",
       "    <tr>\n",
       "      <th>93</th>\n",
       "      <td>-412.298647</td>\n",
       "      <td>50.635260</td>\n",
       "      <td>{'max_depth': 10, 'min_samples_leaf': 4, 'min_...</td>\n",
       "    </tr>\n",
       "    <tr>\n",
       "      <th>94</th>\n",
       "      <td>-409.479634</td>\n",
       "      <td>49.755455</td>\n",
       "      <td>{'max_depth': 10, 'min_samples_leaf': 4, 'min_...</td>\n",
       "    </tr>\n",
       "    <tr>\n",
       "      <th>95</th>\n",
       "      <td>-409.479634</td>\n",
       "      <td>49.755455</td>\n",
       "      <td>{'max_depth': 10, 'min_samples_leaf': 4, 'min_...</td>\n",
       "    </tr>\n",
       "  </tbody>\n",
       "</table>\n",
       "<p>96 rows × 3 columns</p>\n",
       "</div>"
      ],
      "text/plain": [
       "    mean_test_score  std_test_score  \\\n",
       "0               NaN             NaN   \n",
       "1       -497.812070       71.011870   \n",
       "2       -477.790911       71.198823   \n",
       "3       -478.651854       64.315350   \n",
       "4               NaN             NaN   \n",
       "..              ...             ...   \n",
       "91      -422.333796       48.798450   \n",
       "92              NaN             NaN   \n",
       "93      -412.298647       50.635260   \n",
       "94      -409.479634       49.755455   \n",
       "95      -409.479634       49.755455   \n",
       "\n",
       "                                               params  \n",
       "0   {'max_depth': None, 'min_samples_leaf': 1, 'mi...  \n",
       "1   {'max_depth': None, 'min_samples_leaf': 1, 'mi...  \n",
       "2   {'max_depth': None, 'min_samples_leaf': 1, 'mi...  \n",
       "3   {'max_depth': None, 'min_samples_leaf': 1, 'mi...  \n",
       "4   {'max_depth': None, 'min_samples_leaf': 2, 'mi...  \n",
       "..                                                ...  \n",
       "91  {'max_depth': 10, 'min_samples_leaf': 3, 'min_...  \n",
       "92  {'max_depth': 10, 'min_samples_leaf': 4, 'min_...  \n",
       "93  {'max_depth': 10, 'min_samples_leaf': 4, 'min_...  \n",
       "94  {'max_depth': 10, 'min_samples_leaf': 4, 'min_...  \n",
       "95  {'max_depth': 10, 'min_samples_leaf': 4, 'min_...  \n",
       "\n",
       "[96 rows x 3 columns]"
      ]
     },
     "metadata": {},
     "output_type": "display_data"
    }
   ],
   "source": [
    "from sklearn.model_selection import GridSearchCV\n",
    "import pandas as pd\n",
    "\n",
    "NUM_FOLDS = 10\n",
    "\n",
    "espaco_de_busca = {\n",
    "    \"max_depth\": [None, 2, 3, 5, 7, 10],\n",
    "    \"min_samples_split\": [1, 2, 3, 4],\n",
    "    \"min_samples_leaf\": [1, 2, 3, 4]\n",
    "}\n",
    "\n",
    "modelo_dt = DecisionTreeRegressor()\n",
    "\n",
    "buscador = GridSearchCV(\n",
    "    modelo_dt,\n",
    "    espaco_de_busca,\n",
    "    cv=NUM_FOLDS,\n",
    "    scoring=\"neg_root_mean_squared_error\",\n",
    "    refit=True,  # reajusta o melhor modelo com todos os dados de treino\n",
    "    n_jobs=4\n",
    ")\n",
    "\n",
    "buscador.fit(X_treino, y_treino)\n",
    "\n",
    "resultados = pd.DataFrame(buscador.cv_results_)\n",
    "resultados = resultados.reindex(\n",
    "[\"mean_test_score\", \"std_test_score\", \"params\"], axis=1)\n",
    "display(resultados)"
   ]
  },
  {
   "cell_type": "markdown",
   "metadata": {},
   "source": [
    "Vamos ver o resultado.\n",
    "\n"
   ]
  },
  {
   "cell_type": "code",
   "execution_count": 45,
   "metadata": {},
   "outputs": [
    {
     "name": "stdout",
     "output_type": "stream",
     "text": [
      "A melhor métrica (considerando dados de treino) foi de  398.49217574308653\n",
      "O conjunto de hiperparâmetros que resultou nesta métrica foi  {'max_depth': 3, 'min_samples_leaf': 1, 'min_samples_split': 2}\n"
     ]
    }
   ],
   "source": [
    "print(\"A melhor métrica (considerando dados de treino) foi de \", abs(buscador.best_score_))\n",
    "print(\"O conjunto de hiperparâmetros que resultou nesta métrica foi \", buscador.best_params_)"
   ]
  },
  {
   "cell_type": "markdown",
   "metadata": {},
   "source": [
    "Agora vamos estimar a performance deste modelo para dados que nunca viu!\n",
    "\n"
   ]
  },
  {
   "cell_type": "code",
   "execution_count": 46,
   "metadata": {},
   "outputs": [
    {
     "name": "stdout",
     "output_type": "stream",
     "text": [
      "O RMSE do modelo escolhido foi de 398.25285598626624 unidades de y.\n"
     ]
    }
   ],
   "source": [
    "y_verdadeiro = y_teste\n",
    "y_previsao = buscador.predict(X_teste)\n",
    "RMSE = mean_squared_error(y_verdadeiro, y_previsao, squared=False)\n",
    "print(f\"O RMSE do modelo escolhido foi de {RMSE} unidades de y.\")"
   ]
  },
  {
   "cell_type": "markdown",
   "metadata": {},
   "source": [
    "## Otimização de hiperparâmetros com `scikit-learn` (busca aleatória)\n",
    "\n"
   ]
  },
  {
   "cell_type": "markdown",
   "metadata": {},
   "source": [
    "A busca em grade que vimos na seção anterior irá testar todas as combinações possíveis dentro do espaço de busca. Isso pode ser muito custoso se o espaço de busca for muito grande! Para resolver este problema, podemos usar a *busca aleatória* que, como o próprio nome sugere, irá combinar os hiperparâmetros do espaço de busca de forma aleatória em busca de um bom conjunto de hiperparâmetros.\n",
    "\n",
    "Esta estratégia costuma ser menos custosa, mas em contrapartida não temos garantia de que o melhor conjunto de hiperparâmetros será sorteado durante a busca.\n",
    "\n"
   ]
  },
  {
   "cell_type": "code",
   "execution_count": 50,
   "metadata": {},
   "outputs": [
    {
     "name": "stderr",
     "output_type": "stream",
     "text": [
      "C:\\Users\\jose23038\\AppData\\Roaming\\Python\\Python310\\site-packages\\sklearn\\model_selection\\_validation.py:425: FitFailedWarning: \n",
      "270 fits failed out of a total of 1000.\n",
      "The score on these train-test partitions for these parameters will be set to nan.\n",
      "If these failures are not expected, you can try to debug them by setting error_score='raise'.\n",
      "\n",
      "Below are more details about the failures:\n",
      "--------------------------------------------------------------------------------\n",
      "270 fits failed with the following error:\n",
      "Traceback (most recent call last):\n",
      "  File \"C:\\Users\\jose23038\\AppData\\Roaming\\Python\\Python310\\site-packages\\sklearn\\model_selection\\_validation.py\", line 732, in _fit_and_score\n",
      "    estimator.fit(X_train, y_train, **fit_params)\n",
      "  File \"C:\\Users\\jose23038\\AppData\\Roaming\\Python\\Python310\\site-packages\\sklearn\\base.py\", line 1144, in wrapper\n",
      "    estimator._validate_params()\n",
      "  File \"C:\\Users\\jose23038\\AppData\\Roaming\\Python\\Python310\\site-packages\\sklearn\\base.py\", line 637, in _validate_params\n",
      "    validate_parameter_constraints(\n",
      "  File \"C:\\Users\\jose23038\\AppData\\Roaming\\Python\\Python310\\site-packages\\sklearn\\utils\\_param_validation.py\", line 95, in validate_parameter_constraints\n",
      "    raise InvalidParameterError(\n",
      "sklearn.utils._param_validation.InvalidParameterError: The 'min_samples_split' parameter of DecisionTreeRegressor must be an int in the range [2, inf) or a float in the range (0.0, 1.0]. Got 1 instead.\n",
      "\n",
      "  warnings.warn(some_fits_failed_message, FitFailedWarning)\n",
      "C:\\Users\\jose23038\\AppData\\Roaming\\Python\\Python310\\site-packages\\sklearn\\model_selection\\_search.py:976: UserWarning: One or more of the test scores are non-finite: [-401.64817606 -528.73044721 -403.26457736           nan           nan\n",
      " -536.0819389  -524.05746975 -407.32872354           nan -445.41452403\n",
      " -529.14787454           nan -398.49217574 -429.52080114           nan\n",
      " -434.22752691 -433.25386893 -430.3808971  -400.92516715           nan\n",
      " -495.23817221 -431.15296194 -476.63609841 -398.49217574           nan\n",
      " -424.50214947           nan -409.95154188 -459.11199742 -407.24656808\n",
      " -508.28225302 -474.69950334 -505.24470231           nan -453.98500812\n",
      " -407.94567116 -411.77304027           nan -456.71339918 -430.48088749\n",
      " -502.38276167 -464.1514426  -449.69350278 -497.21430289           nan\n",
      "           nan -416.12757015 -411.00340555 -452.76658214 -518.64064337\n",
      " -400.22539142 -394.14129278 -499.88177172 -455.66531766 -417.23144131\n",
      " -389.47791072 -460.98123061 -470.64983216 -424.50214947           nan\n",
      " -459.76850198 -412.91593272           nan -402.55400563 -470.71847588\n",
      " -460.26701502 -533.46243512 -443.1908944            nan -413.73793722\n",
      "           nan -438.57256388           nan -398.49217574           nan\n",
      "           nan -398.76715077 -404.36973761           nan -465.36927417\n",
      " -425.11316677 -436.08471578 -498.71334319 -483.60800754 -467.68093364\n",
      " -510.72834088 -394.97845711 -490.00809273           nan -460.0848053\n",
      "           nan -401.17793783           nan -426.16802211 -452.40165504\n",
      "           nan           nan -395.31608286           nan           nan]\n",
      "  warnings.warn(\n"
     ]
    },
    {
     "data": {
      "text/html": [
       "<div>\n",
       "<style scoped>\n",
       "    .dataframe tbody tr th:only-of-type {\n",
       "        vertical-align: middle;\n",
       "    }\n",
       "\n",
       "    .dataframe tbody tr th {\n",
       "        vertical-align: top;\n",
       "    }\n",
       "\n",
       "    .dataframe thead th {\n",
       "        text-align: right;\n",
       "    }\n",
       "</style>\n",
       "<table border=\"1\" class=\"dataframe\">\n",
       "  <thead>\n",
       "    <tr style=\"text-align: right;\">\n",
       "      <th></th>\n",
       "      <th>mean_test_score</th>\n",
       "      <th>std_test_score</th>\n",
       "      <th>params</th>\n",
       "    </tr>\n",
       "  </thead>\n",
       "  <tbody>\n",
       "    <tr>\n",
       "      <th>0</th>\n",
       "      <td>-401.648176</td>\n",
       "      <td>75.536094</td>\n",
       "      <td>{'min_samples_split': 4, 'min_samples_leaf': 3...</td>\n",
       "    </tr>\n",
       "    <tr>\n",
       "      <th>1</th>\n",
       "      <td>-528.730447</td>\n",
       "      <td>109.257151</td>\n",
       "      <td>{'min_samples_split': 2, 'min_samples_leaf': 1...</td>\n",
       "    </tr>\n",
       "    <tr>\n",
       "      <th>2</th>\n",
       "      <td>-403.264577</td>\n",
       "      <td>52.062017</td>\n",
       "      <td>{'min_samples_split': 4, 'min_samples_leaf': 1...</td>\n",
       "    </tr>\n",
       "    <tr>\n",
       "      <th>3</th>\n",
       "      <td>NaN</td>\n",
       "      <td>NaN</td>\n",
       "      <td>{'min_samples_split': 1, 'min_samples_leaf': 3...</td>\n",
       "    </tr>\n",
       "    <tr>\n",
       "      <th>4</th>\n",
       "      <td>NaN</td>\n",
       "      <td>NaN</td>\n",
       "      <td>{'min_samples_split': 1, 'min_samples_leaf': 1...</td>\n",
       "    </tr>\n",
       "    <tr>\n",
       "      <th>...</th>\n",
       "      <td>...</td>\n",
       "      <td>...</td>\n",
       "      <td>...</td>\n",
       "    </tr>\n",
       "    <tr>\n",
       "      <th>95</th>\n",
       "      <td>NaN</td>\n",
       "      <td>NaN</td>\n",
       "      <td>{'min_samples_split': 1, 'min_samples_leaf': 4...</td>\n",
       "    </tr>\n",
       "    <tr>\n",
       "      <th>96</th>\n",
       "      <td>NaN</td>\n",
       "      <td>NaN</td>\n",
       "      <td>{'min_samples_split': 1, 'min_samples_leaf': 3...</td>\n",
       "    </tr>\n",
       "    <tr>\n",
       "      <th>97</th>\n",
       "      <td>-395.316083</td>\n",
       "      <td>73.112925</td>\n",
       "      <td>{'min_samples_split': 2, 'min_samples_leaf': 3...</td>\n",
       "    </tr>\n",
       "    <tr>\n",
       "      <th>98</th>\n",
       "      <td>NaN</td>\n",
       "      <td>NaN</td>\n",
       "      <td>{'min_samples_split': 1, 'min_samples_leaf': 2...</td>\n",
       "    </tr>\n",
       "    <tr>\n",
       "      <th>99</th>\n",
       "      <td>NaN</td>\n",
       "      <td>NaN</td>\n",
       "      <td>{'min_samples_split': 1, 'min_samples_leaf': 1...</td>\n",
       "    </tr>\n",
       "  </tbody>\n",
       "</table>\n",
       "<p>100 rows × 3 columns</p>\n",
       "</div>"
      ],
      "text/plain": [
       "    mean_test_score  std_test_score  \\\n",
       "0       -401.648176       75.536094   \n",
       "1       -528.730447      109.257151   \n",
       "2       -403.264577       52.062017   \n",
       "3               NaN             NaN   \n",
       "4               NaN             NaN   \n",
       "..              ...             ...   \n",
       "95              NaN             NaN   \n",
       "96              NaN             NaN   \n",
       "97      -395.316083       73.112925   \n",
       "98              NaN             NaN   \n",
       "99              NaN             NaN   \n",
       "\n",
       "                                               params  \n",
       "0   {'min_samples_split': 4, 'min_samples_leaf': 3...  \n",
       "1   {'min_samples_split': 2, 'min_samples_leaf': 1...  \n",
       "2   {'min_samples_split': 4, 'min_samples_leaf': 1...  \n",
       "3   {'min_samples_split': 1, 'min_samples_leaf': 3...  \n",
       "4   {'min_samples_split': 1, 'min_samples_leaf': 1...  \n",
       "..                                                ...  \n",
       "95  {'min_samples_split': 1, 'min_samples_leaf': 4...  \n",
       "96  {'min_samples_split': 1, 'min_samples_leaf': 3...  \n",
       "97  {'min_samples_split': 2, 'min_samples_leaf': 3...  \n",
       "98  {'min_samples_split': 1, 'min_samples_leaf': 2...  \n",
       "99  {'min_samples_split': 1, 'min_samples_leaf': 1...  \n",
       "\n",
       "[100 rows x 3 columns]"
      ]
     },
     "execution_count": 50,
     "metadata": {},
     "output_type": "execute_result"
    }
   ],
   "source": [
    "from sklearn.model_selection import RandomizedSearchCV\n",
    "import pandas as pd\n",
    "\n",
    "NUM_FOLDS = 10\n",
    "NUM_ITERACOES = 100\n",
    "\n",
    "espaco_de_busca = {\n",
    "    \"max_depth\": [None, 2, 3, 5, 7, 10],\n",
    "    \"min_samples_split\": [1, 2, 3, 4],\n",
    "    \"min_samples_leaf\": [1, 2, 3, 4],\n",
    "    \"max_features\": [None, 0.33, \"sqrt\", \"log2\"],\n",
    "}\n",
    "\n",
    "modelo_dt = DecisionTreeRegressor()\n",
    "\n",
    "buscador = RandomizedSearchCV(\n",
    "    modelo_dt,\n",
    "    espaco_de_busca,\n",
    "    n_iter=NUM_ITERACOES,\n",
    "    cv=NUM_FOLDS,\n",
    "    scoring=\"neg_root_mean_squared_error\",\n",
    "    refit=True,  # reajusta o melhor modelo com todos os dados de treino\n",
    "    n_jobs=4,\n",
    ")\n",
    "\n",
    "buscador.fit(X_treino, y_treino)\n",
    "\n",
    "resultados = pd.DataFrame(buscador.cv_results_)\n",
    "resultados = resultados.reindex(\n",
    "    [\"mean_test_score\", \"std_test_score\", \"params\"], axis=1 )\n",
    "resultados"
   ]
  },
  {
   "cell_type": "markdown",
   "metadata": {},
   "source": [
    "Vamos ver o resultado.\n",
    "\n"
   ]
  },
  {
   "cell_type": "code",
   "execution_count": 48,
   "metadata": {},
   "outputs": [
    {
     "name": "stdout",
     "output_type": "stream",
     "text": [
      "A melhor métrica (considerando dados de treino) foi de  377.1039500260672\n",
      "O conjunto de hiperparâmetros que resultou nesta métrica foi  {'min_samples_split': 3, 'min_samples_leaf': 2, 'max_features': 'log2', 'max_depth': 5}\n"
     ]
    }
   ],
   "source": [
    "print(\"A melhor métrica (considerando dados de treino) foi de \", abs(buscador.best_score_))\n",
    "print(\"O conjunto de hiperparâmetros que resultou nesta métrica foi \", buscador.best_params_)"
   ]
  },
  {
   "cell_type": "markdown",
   "metadata": {},
   "source": [
    "Agora vamos estimar a performance deste modelo para dados que nunca viu!\n",
    "\n"
   ]
  },
  {
   "cell_type": "code",
   "execution_count": 49,
   "metadata": {},
   "outputs": [
    {
     "name": "stdout",
     "output_type": "stream",
     "text": [
      "O RMSE do modelo escolhido foi de 576.2012060945017 unidades de y.\n"
     ]
    }
   ],
   "source": [
    "y_verdadeiro = y_teste\n",
    "y_previsao = buscador.predict(X_teste)\n",
    "RMSE = mean_squared_error(y_verdadeiro, y_previsao, squared=False)\n",
    "print(f\"O RMSE do modelo escolhido foi de {RMSE} unidades de y.\")"
   ]
  },
  {
   "cell_type": "markdown",
   "metadata": {},
   "source": [
    "## O que fazer quando se tem um grande conjunto de dados?\n",
    "\n"
   ]
  },
  {
   "cell_type": "markdown",
   "metadata": {},
   "source": [
    "Quando temos um *grande* conjunto de dados, a validação cruzada pode ser custosa demais de ser realizada. Neste caso, podemos realizar o *método da separação em 3 partes* (3-way holdout method em inglês), também conhecido como *split de treino-teste-validação*. Os passos são os seguintes:\n",
    "\n",
    "1.  Dividir o conjunto de dados em treino, teste e validação (uma divisão usual é 80-10-10);\n",
    "\n",
    "2.  Treinar modelos com diferentes hiperparâmetros apenas no conjunto de treino. Escolher o conjunto de hiperparâmetros que apresentar melhor performance na previsão do conjunto de validação.\n",
    "\n",
    "3.  Treinar um modelo usando os hiperparâmetros encontrados no passo 2 considerando todos os dados de treino e validação;\n",
    "\n",
    "4.  Avaliar a performance do modelo obtido no passo 3 no conjunto de teste obtido no passo 1.\n",
    "\n",
    "Para mais informações ver a seção 3.3 da referência [1].\n",
    "\n"
   ]
  },
  {
   "cell_type": "markdown",
   "metadata": {},
   "source": [
    "## Referências\n",
    "\n"
   ]
  },
  {
   "cell_type": "markdown",
   "metadata": {},
   "source": [
    "1.  RASCHKA, Sebastian. Model Evaluation, Model Selection, and Algorithm Selection in Machine Learning. 2020. Disponível em: [http://arxiv.org/abs/1811.12808](http://arxiv.org/abs/1811.12808). Acesso em: 2 jul. 2023.\n",
    "\n",
    "2.  KAUFMAN, Shachar; ROSSET, Saharon; PERLICH, Claudia; et al. Leakage in data mining: Formulation, detection, and avoidance. ACM Transactions on Knowledge Discovery from Data, v. 6, n. 4, p. 15:1-15:21, 2012.\n",
    "\n",
    "3.  Guia sobre validação cruzada do `scikit-learn` [https://scikit-learn.org/stable/modules/cross_validation.html](https://scikit-learn.org/stable/modules/cross_validation.html)\n",
    "\n",
    "4.  Tutorial sobre validação cruzada [https://dev.to/balapriya/cross-validation-and-hyperparameter-search-in-scikit-learn-a-complete-guide-5ed8](https://dev.to/balapriya/cross-validation-and-hyperparameter-search-in-scikit-learn-a-complete-guide-5ed8)\n",
    "\n",
    "5.  Documentação da validação cruzada com busca em grade [https://scikit-learn.org/stable/modules/generated/sklearn.model_selection.GridSearchCV.html](https://scikit-learn.org/stable/modules/generated/sklearn.model_selection.GridSearchCV.html)\n",
    "\n",
    "6.  Documentação da validação cruzada com busca aleatória [https://scikit-learn.org/stable/modules/generated/sklearn.model_selection.RandomizedSearchCV.html](https://scikit-learn.org/stable/modules/generated/sklearn.model_selection.RandomizedSearchCV.html)\n",
    "\n"
   ]
  }
 ],
 "metadata": {
  "kernelspec": {
   "display_name": "Python 3.10.8 64-bit",
   "language": "python",
   "name": "python3"
  },
  "language_info": {
   "codemirror_mode": {
    "name": "ipython",
    "version": 3
   },
   "file_extension": ".py",
   "mimetype": "text/x-python",
   "name": "python",
   "nbconvert_exporter": "python",
   "pygments_lexer": "ipython3",
   "version": "3.10.8"
  },
  "org": null,
  "vscode": {
   "interpreter": {
    "hash": "26de051ba29f2982a8de78e945f0abaf191376122a1563185a90213a26c5da77"
   }
  }
 },
 "nbformat": 4,
 "nbformat_minor": 4
}
