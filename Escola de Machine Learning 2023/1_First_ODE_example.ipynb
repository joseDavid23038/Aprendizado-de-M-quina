{
  "nbformat": 4,
  "nbformat_minor": 0,
  "metadata": {
    "kernelspec": {
      "display_name": "Python 3",
      "name": "python3"
    },
    "language_info": {
      "codemirror_mode": {
        "name": "ipython",
        "version": 3
      },
      "file_extension": ".py",
      "mimetype": "text/x-python",
      "name": "python",
      "nbconvert_exporter": "python",
      "pygments_lexer": "ipython3",
      "version": "3.8.5"
    },
    "colab": {
      "provenance": [],
      "gpuType": "T4"
    },
    "accelerator": "GPU"
  },
  "cells": [
    {
      "cell_type": "markdown",
      "source": [
        "## Import packages and check hardware"
      ],
      "metadata": {
        "id": "Li0vO_okbOu_"
      }
    },
    {
      "cell_type": "code",
      "metadata": {
        "id": "RCo46IwvC0zS"
      },
      "source": [
        "import numpy as np\n",
        "import torch\n",
        "import torch.optim as optim\n",
        "from torch.autograd import grad\n",
        "import matplotlib.pyplot as plt\n",
        "import time\n",
        "import copy\n",
        "from os import path\n",
        "import sys"
      ],
      "execution_count": null,
      "outputs": []
    },
    {
      "cell_type": "code",
      "source": [
        "## One way to save files to the google drive\n",
        "## Executing this cell opens a dialog to choose a google account and confirm permissions.\n",
        "from google.colab import drive\n",
        "drive.mount('/content/gdrive')"
      ],
      "metadata": {
        "colab": {
          "base_uri": "https://localhost:8080/"
        },
        "id": "CKq_LFG7BdMZ",
        "outputId": "dbb93954-2848-4e9d-c3da-78244e2bfd89"
      },
      "execution_count": null,
      "outputs": [
        {
          "output_type": "stream",
          "name": "stdout",
          "text": [
            "Mounted at /content/gdrive\n"
          ]
        }
      ]
    },
    {
      "cell_type": "code",
      "source": [
        "# Check to see if gpu is available. If it is, use it; else use the cpu\n",
        "if torch.cuda.is_available():\n",
        "    device = torch.device('cuda')\n",
        "    torch.set_default_tensor_type(torch.cuda.FloatTensor)\n",
        "    print('Using GPU')\n",
        "else:\n",
        "    device = torch.device('cpu')\n",
        "    torch.set_default_tensor_type('torch.FloatTensor')\n",
        "    print('No GPU found, using cpu')"
      ],
      "metadata": {
        "colab": {
          "base_uri": "https://localhost:8080/"
        },
        "id": "hy2A8P2YBfLz",
        "outputId": "f01421a5-210d-4ceb-9e63-6371a5ef8585"
      },
      "execution_count": null,
      "outputs": [
        {
          "output_type": "stream",
          "name": "stdout",
          "text": [
            "Using GPU\n"
          ]
        }
      ]
    },
    {
      "cell_type": "code",
      "source": [
        "## Get info about the CPU (and GPU if available)...\n",
        "!cat /proc/cpuinfo | grep \"model name\"\n",
        "!nvidia-smi -L"
      ],
      "metadata": {
        "colab": {
          "base_uri": "https://localhost:8080/"
        },
        "id": "8ktqNXWGBm9S",
        "outputId": "9f8c7e19-2b36-4767-b131-df8183978130"
      },
      "execution_count": null,
      "outputs": [
        {
          "output_type": "stream",
          "name": "stdout",
          "text": [
            "model name\t: Intel(R) Xeon(R) CPU @ 2.00GHz\n",
            "model name\t: Intel(R) Xeon(R) CPU @ 2.00GHz\n",
            "GPU 0: Tesla T4 (UUID: GPU-c14f333b-5ed0-8d23-e46a-ded745982bfe)\n"
          ]
        }
      ]
    },
    {
      "cell_type": "markdown",
      "metadata": {
        "id": "LaF782BuC0zx"
      },
      "source": [
        "## Solve a simple first order ODE\n",
        "$$ \\dot x(t) + \\lambda x(t) = 0 $$"
      ]
    },
    {
      "cell_type": "markdown",
      "metadata": {
        "id": "R3ccxyZPC00K"
      },
      "source": [
        "Define some helper functions"
      ]
    },
    {
      "cell_type": "code",
      "metadata": {
        "id": "Dw7eeg7hC00L"
      },
      "source": [
        "# Calculate the derivatice with auto-differention\n",
        "def dfx(x,f):\n",
        "    return grad([f], [x], grad_outputs=torch.ones(x.shape), create_graph=True)[0]\n",
        "\n",
        "## Different options for parametrizing the solution to\n",
        "## enforce the initial conditions\n",
        "def parametricSolutions(t, nn, X0):\n",
        "    # parametric solutions\n",
        "    t0, x0  = X0[0],X0[1]  ## initial conditions x(t0) = x0\n",
        "    N1  = nn(t)\n",
        "    dt =t-t0\n",
        "\n",
        "    f=dt\n",
        "#    f = (1-torch.exp(-dt))\n",
        "    x_hat  = x0  + f*N1\n",
        "    return x_hat\n",
        "\n",
        "## Define the loss function using the differential equation\n",
        "def Eqs_Loss(t,x1, X0):\n",
        "    xdot = dfx(t,x1)\n",
        "    lam = X0[2]\n",
        "    f1  = xdot + lam*x1\n",
        "    L  = (f1.pow(2)).mean()\n",
        "    return L"
      ],
      "execution_count": null,
      "outputs": []
    },
    {
      "cell_type": "markdown",
      "metadata": {
        "id": "8i4wK1GpC00M"
      },
      "source": [
        "Network architecture"
      ]
    },
    {
      "cell_type": "code",
      "metadata": {
        "id": "WNwGQcBHC00N"
      },
      "source": [
        "# A two hidden layer NN, 1 input & 1 output\n",
        "class odeNet(torch.nn.Module):\n",
        "    def __init__(self, D_hid=10):\n",
        "        super(odeNet,self).__init__()\n",
        "\n",
        "        # Define the Activation\n",
        "        self.actF = torch.nn.Sigmoid()\n",
        "\n",
        "        # define layers\n",
        "        self.Lin_1   = torch.nn.Linear(1, D_hid)\n",
        "        self.Lin_2   = torch.nn.Linear(D_hid, D_hid)\n",
        "        self.Lin_out = torch.nn.Linear(D_hid, 1)\n",
        "\n",
        "    def forward(self,t):\n",
        "        # layer 1\n",
        "        l = self.Lin_1(t)\n",
        "        h = self.actF(l)\n",
        "        # layer 2\n",
        "        l = self.Lin_2(h)\n",
        "        h = self.actF(l)\n",
        "        # output layer\n",
        "        netOut = self.Lin_out(h)\n",
        "        return netOut\n"
      ],
      "execution_count": null,
      "outputs": []
    },
    {
      "cell_type": "code",
      "metadata": {
        "id": "RMIc-BpaC00T"
      },
      "source": [
        "# Train the NN\n",
        "def run_odeNet(X0, tf, num_neurons, max_epochs, n_train, lr, loadWeights=False, minLoss=1e-3,\n",
        "               PATH =\"./model1\"):\n",
        "\n",
        "    fc0 = odeNet(num_neurons)\n",
        "    fc1 =  copy.deepcopy(fc0) # fc1 is a deepcopy of the network with the lowest training loss\n",
        "    # optimizer\n",
        "    betas = [0.999, 0.9999]\n",
        "\n",
        "    optimizer = optim.Adam(fc0.parameters(), lr=lr, betas=betas)\n",
        "    Loss_history = []\n",
        "    Llim =  1\n",
        "    t0=X0[0]\n",
        "\n",
        "## Load weights from previous training (if loadWeights=True and PATH file exists)\n",
        "    if path.exists(PATH) and loadWeights==True:\n",
        "        checkpoint = torch.load(PATH)\n",
        "        fc0.load_state_dict(checkpoint['model_state_dict'])\n",
        "        optimizer.load_state_dict(checkpoint['optimizer_state_dict'])\n",
        "        tt = checkpoint['epoch']\n",
        "        Ltot = checkpoint['loss']\n",
        "        fc0.train()\n",
        "\n",
        "## TRAINING ITERATION\n",
        "    time_start = time.time()\n",
        "    for epoch in range(max_epochs):\n",
        "        loss = 0.0\n",
        "        t = torch.Tensor(n_train,1).uniform_(t0, tf).sort(dim=0)[0]\n",
        "        t.requires_grad = True\n",
        "\n",
        "        x = parametricSolutions(t,fc0,X0)\n",
        "\n",
        "        Ltot = Eqs_Loss(t,x, X0)\n",
        "\n",
        "# OPTIMIZER\n",
        "        Ltot.backward(retain_graph=False); #True\n",
        "        optimizer.step();\n",
        "        loss += Ltot.cpu().data.numpy()\n",
        "\n",
        "        optimizer.zero_grad()\n",
        "\n",
        "# keep the loss function history\n",
        "        Loss_history.append(loss)\n",
        "\n",
        "#Keep the best model (lowest loss) by using a deep copy\n",
        "        if  epoch > 0.8*max_epochs  and Ltot < Llim:\n",
        "            fc1 =  copy.deepcopy(fc0)\n",
        "            Llim=Ltot\n",
        "\n",
        "# break the training after a thresold of accuracy\n",
        "        if Ltot < minLoss :\n",
        "            fc1 =  copy.deepcopy(fc0)\n",
        "            print('Reach minimum requested loss')\n",
        "            break\n",
        "\n",
        "    time_end = time.time()\n",
        "    runTime = time_end - time_start\n",
        "\n",
        "\n",
        "    torch.save({\n",
        "    'epoch': epoch,\n",
        "    'model_state_dict': fc1.state_dict(),\n",
        "    'optimizer_state_dict': optimizer.state_dict(),\n",
        "    'loss': Ltot,\n",
        "    }, PATH)\n",
        "\n",
        "    return fc1, Loss_history, runTime\n"
      ],
      "execution_count": null,
      "outputs": []
    },
    {
      "cell_type": "code",
      "metadata": {
        "id": "lzsoN21PC00W"
      },
      "source": [
        "def trainModel(X0, t_max, num_neurons, max_epochs, n_train, lr,  loadWeights=True, minLoss=1e-6, showLoss=True,\n",
        "               PATH =\"./\"):\n",
        "    model, loss, runTime = run_odeNet(X0, t_max, num_neurons, max_epochs, n_train, lr,  loadWeights=loadWeights, minLoss=minLoss)\n",
        "\n",
        "    np.savetxt(PATH+'saved-loss.txt',loss)\n",
        "\n",
        "    if showLoss==True :\n",
        "        print('Training time (minutes):', runTime/60)\n",
        "        print('Training Loss: ',  loss[-1] )\n",
        "        plt.figure()\n",
        "        plt.loglog(loss,'-b',alpha=0.975);\n",
        "        plt.tight_layout()\n",
        "        plt.ylabel('Loss');plt.xlabel('t')\n",
        "        plt.savefig('saved_fig.png')\n",
        "    return model\n",
        "\n",
        "\n",
        "def loadModel(num_neurons, PATH =\"./\"):\n",
        "    if path.exists(PATH):\n",
        "        fc0 = odeNet(num_neurons)\n",
        "        checkpoint = torch.load(PATH)\n",
        "        fc0.load_state_dict(checkpoint['model_state_dict'])\n",
        "        fc0.train(); # or model.eval\n",
        "    else:\n",
        "        print('Warning: There is not any trained model. Terminate')\n",
        "        sys.exit()\n",
        "\n",
        "    return fc0\n"
      ],
      "execution_count": null,
      "outputs": []
    },
    {
      "cell_type": "code",
      "metadata": {
        "id": "py53giaKC00X",
        "colab": {
          "base_uri": "https://localhost:8080/",
          "height": 543
        },
        "outputId": "d428ac8b-e966-4c93-fb5e-d0037dabc551"
      },
      "source": [
        "## TRAIN THE NETWORK.\n",
        "\n",
        "## Set the time range and the training points N\n",
        "t0, t_max, N = 0.,  2*np.pi, 500;\n",
        "## Set the initial conditions; lambda is a parameter in the differential equation\n",
        "t0 = 0\n",
        "x0 = 1\n",
        "lam = 1\n",
        "X0 = [t0, x0,lam]  ## list to pass to the network\n",
        "\n",
        "## Set the training parameters\n",
        "t_max = 2*np.pi\n",
        "n_train = 500  ## number of training points per epoch\n",
        "num_neurons = 80  ## number of neurons per hidden layer\n",
        "max_epochs = int( 1e3 )  ## maximum number of epochs\n",
        "lr = 8e-3  ## learning rate (shouldn't have to change for beginning examples)\n",
        "\n",
        "## Train a model from scratch\n",
        "model = trainModel(X0, t_max, num_neurons, max_epochs, n_train, lr,  loadWeights=True, minLoss=1e-6, showLoss=True)\n",
        "\n",
        "## Restart training from a partially trained model\n",
        "#model = trainModel(X0, t_max, num_neurons, max_epochs, n_train, lr,  loadWeights=True, minLoss=1e-6, showLoss=True, PATH =\"/content/gdrive/MyDrive/NN_for_Materials/Templates/saved_models/model1\")\n",
        "\n",
        "## load a pretrained model from a file\n",
        "#model = loadModel(num_neurons, PATH =\"/content/gdrive/MyDrive/NN_for_Materials/Templates/saved_models/model1\")"
      ],
      "execution_count": null,
      "outputs": [
        {
          "output_type": "stream",
          "name": "stdout",
          "text": [
            "Training time (minutes): 0.09479180177052816\n",
            "Training Loss:  0.01002370472997427\n"
          ]
        },
        {
          "output_type": "display_data",
          "data": {
            "text/plain": [
              "<Figure size 640x480 with 1 Axes>"
            ],
            "image/png": "[encoded data removed]"
          },
          "metadata": {}
        }
      ]
    },
    {
      "cell_type": "markdown",
      "metadata": {
        "id": "O5c3I3gSC00a"
      },
      "source": [
        "Test the predictions"
      ]
    },
    {
      "cell_type": "code",
      "metadata": {
        "id": "o8t232fjC00a"
      },
      "source": [
        "## The network can be evaluated at different points from the training.\n",
        "extrap = 2\n",
        "nTest = 1000 ; t_max_test = extrap * t_max\n",
        "tTest = torch.linspace(t0,t_max_test,nTest)\n",
        "\n",
        "tTest = tTest.reshape(-1,1);\n",
        "tTest.requires_grad=True\n",
        "t_net = tTest.cpu().detach().numpy()\n",
        "\n",
        "\n",
        "xTest=parametricSolutions(tTest,model,X0)\n",
        "xdotTest=dfx(tTest,xTest)\n",
        "\n",
        "xTest=xTest.cpu().data.numpy()\n",
        "xdotTest=xdotTest.cpu().data.numpy()\n"
      ],
      "execution_count": null,
      "outputs": []
    },
    {
      "cell_type": "markdown",
      "metadata": {
        "id": "510XORM9C00d"
      },
      "source": [
        "Ground Truth solution"
      ]
    },
    {
      "cell_type": "code",
      "metadata": {
        "id": "buC5rLTXC00e"
      },
      "source": [
        "## Check that this is the correct analytic solution\n",
        "x_exact = x0*np.exp(-lam*t_net)\n",
        "xdot_exact = -lam*x0*np.exp(-lam*t_net)"
      ],
      "execution_count": null,
      "outputs": []
    },
    {
      "cell_type": "markdown",
      "metadata": {
        "id": "lhP8phcSC00f"
      },
      "source": [
        "Make some plots"
      ]
    },
    {
      "cell_type": "code",
      "metadata": {
        "id": "yudCbvzUC00h",
        "outputId": "7c033a48-5f4d-48e5-9d48-4afa15e51a3c",
        "colab": {
          "base_uri": "https://localhost:8080/",
          "height": 378
        }
      },
      "source": [
        "################\n",
        "# Make the plots\n",
        "#################\n",
        "\n",
        "lineW = 4 # Line thickness\n",
        "plt.figure(figsize=(10,8))\n",
        "plt.subplot(2,2,1)\n",
        "plt.plot(t_net/extrap, x_exact,'-g', label='Ground Truth', linewidth=lineW);\n",
        "plt.plot(t_net, xTest,'--b', label='x',linewidth=lineW, alpha=.5);\n",
        "plt.ylabel('x(t)');plt.xlabel('t')\n",
        "plt.legend()\n",
        "\n",
        "\n",
        "plt.subplot(2,2,2)\n",
        "plt.plot(t_net/extrap, xdot_exact,'-g', label='Ground Truth', linewidth=lineW);\n",
        "plt.plot(t_net, xdotTest,'--b', label='x',linewidth=lineW, alpha=.5);\n",
        "plt.ylabel('dx\\dt');plt.xlabel('t')\n",
        "plt.legend()\n",
        "\n",
        "#plt.savefig('simpleExp.png')  ## choose the correct path\n"
      ],
      "execution_count": null,
      "outputs": [
        {
          "output_type": "execute_result",
          "data": {
            "text/plain": [
              "<matplotlib.legend.Legend at 0x7dd2132413f0>"
            ]
          },
          "metadata": {},
          "execution_count": 20
        },
        {
          "output_type": "display_data",
          "data": {
            "text/plain": [
              "<Figure size 1000x800 with 2 Axes>"
            ],
            "image/png": "[encoded data removed]"
          },
          "metadata": {}
        }
      ]
    },
    {
      "cell_type": "markdown",
      "source": [
        "Play around with this example to make sure you understand what the different pieces are doing.    \n",
        "Things to consider:\n",
        "* Try changing the initial conditions.\n",
        "* Try changing the parameter $\\lambda$.\n",
        "* Does the model train with fewer hidden layers? fewer nodes per layer?\n",
        "* How many (or few) training points do you need?\n",
        "* What does the network solution predict outside the training window?\n",
        "* Why is there .cpu().data.numpy()?"
      ],
      "metadata": {
        "id": "QJ-jaxPDlrKW"
      }
    },
    {
      "cell_type": "markdown",
      "source": [
        "## Try a 2nd order ODE\n",
        "$$ \\ddot x(t) + \\omega^2 x(t) = 0 $$"
      ],
      "metadata": {
        "id": "_TzDO3WdkAwj"
      }
    },
    {
      "cell_type": "markdown",
      "source": [
        "Don't hesitate to recycle code from the previous example. Try to keep it neat and well documented.      \n",
        "Things to consider:\n",
        "* What initial conditions are needed?\n",
        "* Can you instead solve a boundary value problem?\n",
        "* How many hidden layers are needed?\n",
        "* How few neurons can you get away with?\n",
        "* How is the training affected by the parameter $\\omega$?\n",
        "* What does the network solution predict outside the training window?"
      ],
      "metadata": {
        "id": "EPDEV014kW7c"
      }
    },
    {
      "cell_type": "code",
      "source": [],
      "metadata": {
        "id": "1CibDk8HjOAY"
      },
      "execution_count": null,
      "outputs": []
    }
  ]
}