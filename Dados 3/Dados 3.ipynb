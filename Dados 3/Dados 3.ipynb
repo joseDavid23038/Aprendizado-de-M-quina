{
 "cells": [
  {
   "cell_type": "markdown",
   "metadata": {},
   "source": [
    "<!DOCTYPE html>\n",
    "\n",
    "<html>\n",
    "\n",
    "<head>\n",
    "\n",
    "<title>Magos da Furadeira</title>\n",
    "\n",
    "</head>\n",
    "\n",
    "<body>\n",
    "\n",
    "<div style=\"display: flex; align-items: center;\">\n",
    "\n",
    "<img src=\"https://i.ibb.co/z490FF5/FUNDO-REMOVIDO.png\" alt=\"FUNDO REMOVIDO\">\n",
    "\n",
    "<p style=\"margin-left: 40px; font-size: 24px; font-weight: bold; border-bottom: 1px solid black;\">José David e Gabriel Torquarto - <br> Magos da Furadeira Bosch de Impacto </p>\n",
    "\n",
    "</div>\n",
    "\n",
    "</body>\n",
    "\n",
    "</html>\n",
    "\n",
    " "
   ]
  },
  {
   "cell_type": "markdown",
   "metadata": {},
   "source": [
    "### **Eu sabia que você era um problema**<br>\n",
    "**ID:** Dados 03\n",
    "\n",
    "**Proponente:** Alfaiate Ligeirinha (apesar do nome, ela é na verdade uma barda muito conhecida no reinado, amiga da Senhorita Creizuda)\n",
    "\n",
    "**Objetivo:** Escolha entre a sua dupla um dataset que tem potencial para ser o dataset do trabalho de conclusão da disciplina (é um dataset, não dois, não três). Datasets didáticos (tipo os que tem no seaborn) são desencorajados para esta tarefa. Carregue seu dataset em um DataFrame. Identifique quais são as colunas que contém atributos e quais são as colunas que contém targets. Faça uma análise exploratória dos dados, buscando entender como eles se comportam (não se esqueça de uma breve discussão). Identifique os tipos dos dados e realize conversão simbólico-numérica para todos os dados categóricos que identificou como atributo ou target (preste atenção se seus dados são ordinais ou nominais para fazer a conversão mais apropriada). Identifique dados que requerem transformação (seja por conversão de unidades ou por aplicação de logaritmo) e realize as transformações necessárias. Encerre seu trabalho definindo dois DataFrames: um chamado X que deverá conter todos seus atributos e um chamado e contendo todos seus targets. Tanto atributos quanto targets nestes DataFrames finais devem ser numéricos e já transformados (se for o caso). Não normalize os dados ainda!\n",
    "\n",
    "**Pontuação máxima:** 25 pontos."
   ]
  }
 ],
 "metadata": {
  "kernelspec": {
   "display_name": "Python 3.10.8 64-bit",
   "language": "python",
   "name": "python3"
  },
  "language_info": {
   "codemirror_mode": {
    "name": "ipython",
    "version": 3
   },
   "file_extension": ".py",
   "mimetype": "text/x-python",
   "name": "python",
   "nbconvert_exporter": "python",
   "pygments_lexer": "ipython3",
   "version": "3.10.8"
  },
  "orig_nbformat": 4,
  "vscode": {
   "interpreter": {
    "hash": "26de051ba29f2982a8de78e945f0abaf191376122a1563185a90213a26c5da77"
   }
  }
 },
 "nbformat": 4,
 "nbformat_minor": 2
}
