{
 "cells": [
  {
   "cell_type": "markdown",
   "id": "2f000f58",
   "metadata": {},
   "source": [
    "# Gráficos"
   ]
  },
  {
   "cell_type": "code",
   "execution_count": 19,
   "id": "03a051da",
   "metadata": {},
   "outputs": [
    {
     "ename": "FileNotFoundError",
     "evalue": "[Errno 2] No such file or directory: 'TRES_COBRE_PVC.xlsx'",
     "output_type": "error",
     "traceback": [
      "\u001b[1;31m---------------------------------------------------------------------------\u001b[0m",
      "\u001b[1;31mFileNotFoundError\u001b[0m                         Traceback (most recent call last)",
      "Cell \u001b[1;32mIn[19], line 3\u001b[0m\n\u001b[0;32m      1\u001b[0m \u001b[39mimport\u001b[39;00m \u001b[39mmatplotlib\u001b[39;00m\u001b[39m.\u001b[39;00m\u001b[39mpyplot\u001b[39;00m \u001b[39mas\u001b[39;00m \u001b[39mplt\u001b[39;00m\n\u001b[0;32m      2\u001b[0m \u001b[39mimport\u001b[39;00m \u001b[39mpandas\u001b[39;00m \u001b[39mas\u001b[39;00m \u001b[39mpd\u001b[39;00m\n\u001b[1;32m----> 3\u001b[0m COBRE \u001b[39m=\u001b[39m pd\u001b[39m.\u001b[39;49mread_excel(\u001b[39m\"\u001b[39;49m\u001b[39mTRES_COBRE_PVC.xlsx\u001b[39;49m\u001b[39m\"\u001b[39;49m)\n",
      "File \u001b[1;32m~\\AppData\\Roaming\\Python\\Python310\\site-packages\\pandas\\io\\excel\\_base.py:478\u001b[0m, in \u001b[0;36mread_excel\u001b[1;34m(io, sheet_name, header, names, index_col, usecols, dtype, engine, converters, true_values, false_values, skiprows, nrows, na_values, keep_default_na, na_filter, verbose, parse_dates, date_parser, date_format, thousands, decimal, comment, skipfooter, storage_options, dtype_backend)\u001b[0m\n\u001b[0;32m    476\u001b[0m \u001b[39mif\u001b[39;00m \u001b[39mnot\u001b[39;00m \u001b[39misinstance\u001b[39m(io, ExcelFile):\n\u001b[0;32m    477\u001b[0m     should_close \u001b[39m=\u001b[39m \u001b[39mTrue\u001b[39;00m\n\u001b[1;32m--> 478\u001b[0m     io \u001b[39m=\u001b[39m ExcelFile(io, storage_options\u001b[39m=\u001b[39;49mstorage_options, engine\u001b[39m=\u001b[39;49mengine)\n\u001b[0;32m    479\u001b[0m \u001b[39melif\u001b[39;00m engine \u001b[39mand\u001b[39;00m engine \u001b[39m!=\u001b[39m io\u001b[39m.\u001b[39mengine:\n\u001b[0;32m    480\u001b[0m     \u001b[39mraise\u001b[39;00m \u001b[39mValueError\u001b[39;00m(\n\u001b[0;32m    481\u001b[0m         \u001b[39m\"\u001b[39m\u001b[39mEngine should not be specified when passing \u001b[39m\u001b[39m\"\u001b[39m\n\u001b[0;32m    482\u001b[0m         \u001b[39m\"\u001b[39m\u001b[39man ExcelFile - ExcelFile already has the engine set\u001b[39m\u001b[39m\"\u001b[39m\n\u001b[0;32m    483\u001b[0m     )\n",
      "File \u001b[1;32m~\\AppData\\Roaming\\Python\\Python310\\site-packages\\pandas\\io\\excel\\_base.py:1496\u001b[0m, in \u001b[0;36mExcelFile.__init__\u001b[1;34m(self, path_or_buffer, engine, storage_options)\u001b[0m\n\u001b[0;32m   1494\u001b[0m     ext \u001b[39m=\u001b[39m \u001b[39m\"\u001b[39m\u001b[39mxls\u001b[39m\u001b[39m\"\u001b[39m\n\u001b[0;32m   1495\u001b[0m \u001b[39melse\u001b[39;00m:\n\u001b[1;32m-> 1496\u001b[0m     ext \u001b[39m=\u001b[39m inspect_excel_format(\n\u001b[0;32m   1497\u001b[0m         content_or_path\u001b[39m=\u001b[39;49mpath_or_buffer, storage_options\u001b[39m=\u001b[39;49mstorage_options\n\u001b[0;32m   1498\u001b[0m     )\n\u001b[0;32m   1499\u001b[0m     \u001b[39mif\u001b[39;00m ext \u001b[39mis\u001b[39;00m \u001b[39mNone\u001b[39;00m:\n\u001b[0;32m   1500\u001b[0m         \u001b[39mraise\u001b[39;00m \u001b[39mValueError\u001b[39;00m(\n\u001b[0;32m   1501\u001b[0m             \u001b[39m\"\u001b[39m\u001b[39mExcel file format cannot be determined, you must specify \u001b[39m\u001b[39m\"\u001b[39m\n\u001b[0;32m   1502\u001b[0m             \u001b[39m\"\u001b[39m\u001b[39man engine manually.\u001b[39m\u001b[39m\"\u001b[39m\n\u001b[0;32m   1503\u001b[0m         )\n",
      "File \u001b[1;32m~\\AppData\\Roaming\\Python\\Python310\\site-packages\\pandas\\io\\excel\\_base.py:1371\u001b[0m, in \u001b[0;36minspect_excel_format\u001b[1;34m(content_or_path, storage_options)\u001b[0m\n\u001b[0;32m   1368\u001b[0m \u001b[39mif\u001b[39;00m \u001b[39misinstance\u001b[39m(content_or_path, \u001b[39mbytes\u001b[39m):\n\u001b[0;32m   1369\u001b[0m     content_or_path \u001b[39m=\u001b[39m BytesIO(content_or_path)\n\u001b[1;32m-> 1371\u001b[0m \u001b[39mwith\u001b[39;00m get_handle(\n\u001b[0;32m   1372\u001b[0m     content_or_path, \u001b[39m\"\u001b[39;49m\u001b[39mrb\u001b[39;49m\u001b[39m\"\u001b[39;49m, storage_options\u001b[39m=\u001b[39;49mstorage_options, is_text\u001b[39m=\u001b[39;49m\u001b[39mFalse\u001b[39;49;00m\n\u001b[0;32m   1373\u001b[0m ) \u001b[39mas\u001b[39;00m handle:\n\u001b[0;32m   1374\u001b[0m     stream \u001b[39m=\u001b[39m handle\u001b[39m.\u001b[39mhandle\n\u001b[0;32m   1375\u001b[0m     stream\u001b[39m.\u001b[39mseek(\u001b[39m0\u001b[39m)\n",
      "File \u001b[1;32m~\\AppData\\Roaming\\Python\\Python310\\site-packages\\pandas\\io\\common.py:868\u001b[0m, in \u001b[0;36mget_handle\u001b[1;34m(path_or_buf, mode, encoding, compression, memory_map, is_text, errors, storage_options)\u001b[0m\n\u001b[0;32m    859\u001b[0m         handle \u001b[39m=\u001b[39m \u001b[39mopen\u001b[39m(\n\u001b[0;32m    860\u001b[0m             handle,\n\u001b[0;32m    861\u001b[0m             ioargs\u001b[39m.\u001b[39mmode,\n\u001b[1;32m   (...)\u001b[0m\n\u001b[0;32m    864\u001b[0m             newline\u001b[39m=\u001b[39m\u001b[39m\"\u001b[39m\u001b[39m\"\u001b[39m,\n\u001b[0;32m    865\u001b[0m         )\n\u001b[0;32m    866\u001b[0m     \u001b[39melse\u001b[39;00m:\n\u001b[0;32m    867\u001b[0m         \u001b[39m# Binary mode\u001b[39;00m\n\u001b[1;32m--> 868\u001b[0m         handle \u001b[39m=\u001b[39m \u001b[39mopen\u001b[39;49m(handle, ioargs\u001b[39m.\u001b[39;49mmode)\n\u001b[0;32m    869\u001b[0m     handles\u001b[39m.\u001b[39mappend(handle)\n\u001b[0;32m    871\u001b[0m \u001b[39m# Convert BytesIO or file objects passed with an encoding\u001b[39;00m\n",
      "\u001b[1;31mFileNotFoundError\u001b[0m: [Errno 2] No such file or directory: 'TRES_COBRE_PVC.xlsx'"
     ]
    }
   ],
   "source": [
    "import matplotlib.pyplot as plt\n",
    "import pandas as pd\n",
    "COBRE = pd.read_excel(\"TRES_COBRE_PVC.xlsx\")"
   ]
  },
  {
   "cell_type": "code",
   "execution_count": null,
   "id": "09935f5b-533e-4e85-9b01-f5293861f6be",
   "metadata": {},
   "outputs": [],
   "source": [
    "dfalha.plot(\"Temperatura\", \"Ideal\", color=\"orange\")\n",
    "plt.ylabel(\"Pressão(Pa)\")\n",
    "plt.xlabel(\"Temperatura(°C)\")\n",
    "plt.show()\n"
   ]
  },
  {
   "cell_type": "code",
   "execution_count": null,
   "id": "cd65e5bb-b01d-49b0-a754-acfb1f215c3a",
   "metadata": {},
   "outputs": [],
   "source": [
    "ax = dfalha.plot(\"Temperatura\", \"Real\")\n",
    "dfalha.plot(\"Temperatura\", \"Ideal\",color=\"purple\", ax=ax)\n",
    "plt.ylim(bottom=90000, top=109000)\n",
    "plt.ylabel(\"Pressão(Pa)\")\n",
    "plt.xlabel(\"Temperatura(°C)\")\n",
    "plt.show()\n"
   ]
  },
  {
   "cell_type": "code",
   "execution_count": null,
   "id": "6edf42fb-f745-4829-8105-8cb3d2e094f6",
   "metadata": {},
   "outputs": [],
   "source": [
    "dfalha.plot(\"Temperatura\", \"Real\")\n",
    "plt.ylabel(\"Pressão(Pa)\")\n",
    "plt.xlabel(\"Temperatura(°C)\")\n",
    "plt.show()\n",
    "\n",
    "print(\"Desceu\",dfalha[\"Real\"][0]-dfalha[\"Real\"][2024],\"Pascal\")"
   ]
  },
  {
   "cell_type": "code",
   "execution_count": null,
   "id": "433bc554-7a46-4ed8-9393-01afa3c5a80d",
   "metadata": {},
   "outputs": [],
   "source": [
    "dfalha.plot(x=\"Temperatura\", y=\"Real\")\n",
    "plt.xlim(32, 40)\n",
    "plt.ylim(bottom=93610, top=93624)\n",
    "plt.ylabel(\"Pressão(Pa)\")\n",
    "plt.xlabel(\"Temperatura(°C)\")\n",
    "plt.show()\n"
   ]
  },
  {
   "cell_type": "code",
   "execution_count": null,
   "id": "a8d76386-79f5-4877-b42f-3b92f091641c",
   "metadata": {},
   "outputs": [],
   "source": [
    "import matplotlib.pyplot as plt\n",
    "\n",
    "# Crie o gráfico\n",
    "plt.plot(dfalha[\"Temperatura\"], dfalha[\"Real\"],color = \"purple\")\n",
    "\n",
    "# Calcule os limites superior e inferior com a margem de erro\n",
    "margem_erro = 100\n",
    "limite_superior = dfalha[\"Real\"] + margem_erro\n",
    "limite_inferior = dfalha[\"Real\"] - margem_erro\n",
    "\n",
    "# Adicione a margem de erro usando a função fill_between\n",
    "plt.fill_between(dfalha[\"Temperatura\"], limite_inferior, limite_superior, alpha=0.3)\n",
    "\n",
    "# Defina os limites personalizados para o eixo x e y\n",
    "\n",
    "\n",
    "# Configure os rótulos dos eixos\n",
    "plt.ylabel(\"Pressão (Pa)\")\n",
    "plt.xlabel(\"Temperatura (°C)\")\n",
    "\n",
    "# Exiba o gráfico\n",
    "plt.show()\n"
   ]
  },
  {
   "cell_type": "code",
   "execution_count": null,
   "id": "39ff1f62",
   "metadata": {},
   "outputs": [],
   "source": [
    "df.plot(\"Temperatura\", \"Real\")\n",
    "plt.ylabel(\"Pressão(Pa)\")\n",
    "plt.xlabel(\"Temperatura(°C)\")"
   ]
  },
  {
   "cell_type": "code",
   "execution_count": null,
   "id": "10bcdbae-0d69-43c9-85b4-1bf64df72742",
   "metadata": {},
   "outputs": [],
   "source": [
    "print(\"Subiu\",df[\"Real\"][1605]-df[\"Real\"][0],\"Pascal\")"
   ]
  },
  {
   "cell_type": "code",
   "execution_count": null,
   "id": "253a8562-3db2-4558-a682-2ff9baa58d5a",
   "metadata": {},
   "outputs": [],
   "source": [
    "ax = df.plot(\"Temperatura\", \"Real\")\n",
    "df.plot(\"Temperatura\", \"Ideal\", ax=ax)\n",
    "plt.ylabel(\"Pressão(Pa)\")\n",
    "plt.xlabel(\"Temperatura(°C)\")\n",
    "plt.show()"
   ]
  },
  {
   "cell_type": "code",
   "execution_count": null,
   "id": "e17a8f1c-1408-49cc-8713-cefb709bb1de",
   "metadata": {},
   "outputs": [],
   "source": [
    "import matplotlib.pyplot as plt\n",
    "\n",
    "\n",
    "# Crie o gráfico\n",
    "ax = df.plot(\"Temperatura\", \"Real\")\n",
    "df.plot(\"Temperatura\", \"Ideal\", ax=ax)\n",
    "\n",
    "# Adicione a margem de erro para \"Real\"\n",
    "margem_erro = 100  # Defina o valor da margem de erro aqui\n",
    "\n",
    "df[\"Real_sup\"] = df[\"Real\"] + margem_erro\n",
    "df[\"Real_inf\"] = df[\"Real\"] - margem_erro\n",
    "\n",
    "# Plote as linhas de margem de erro\n",
    "ax.fill_between(df[\"Temperatura\"], df[\"Real_sup\"], df[\"Real_inf\"], color='gray', alpha=0.3)\n",
    "\n",
    "# Configure os rótulos dos eixos\n",
    "plt.ylabel(\"Pressão (Pa)\")\n",
    "plt.xlabel(\"Temperatura (°C)\")\n",
    "\n",
    "# Exiba o gráfico\n",
    "plt.show()\n"
   ]
  },
  {
   "cell_type": "code",
   "execution_count": null,
   "id": "7d365963-ff62-488c-9fff-b4060b07fd8e",
   "metadata": {},
   "outputs": [],
   "source": [
    "import matplotlib.pyplot as plt\n",
    "\n",
    "# Crie o gráfico\n",
    "df.plot(x=\"Temperatura\", y=\"Real\")\n",
    "\n",
    "# Adicione a margem de erro\n",
    "margem_erro = 100\n",
    "df[\"Real_sup\"] = df[\"Real\"] + margem_erro\n",
    "df[\"Real_inf\"] = df[\"Real\"] - margem_erro\n",
    "\n",
    "# Preencha a área entre os limites superior e inferior com a cor cinza\n",
    "plt.fill_between(df[\"Temperatura\"], df[\"Real_sup\"], df[\"Real_inf\"], color='gray', alpha=0.3)\n",
    "\n",
    "# Configure os rótulos dos eixos\n",
    "plt.ylabel(\"Pressão (Pa)\")\n",
    "plt.xlabel(\"Temperatura (°C)\")\n",
    "\n",
    "# Exiba o gráfico\n",
    "plt.grid(True)\n",
    "\n",
    "plt.show()\n"
   ]
  },
  {
   "cell_type": "code",
   "execution_count": null,
   "id": "be669fb7-9082-47a7-8222-5dc4bbd1198e",
   "metadata": {},
   "outputs": [],
   "source": [
    "import matplotlib.pyplot as plt\n",
    "\n",
    "# Crie o gráfico\n",
    "df.plot(x=\"Temperatura\", y=\"Real\", color = \"Red\")\n",
    "\n",
    "# Adicione a margem de erro\n",
    "margem_erro = 100\n",
    "df[\"Real_sup\"] = df[\"Real\"] + margem_erro\n",
    "df[\"Real_inf\"] = df[\"Real\"] - margem_erro\n",
    "\n",
    "# Preencha a área entre os limites superior e inferior com a cor cinza\n",
    "plt.fill_between(df[\"Temperatura\"], df[\"Real_sup\"], df[\"Real_inf\"], color='gray', alpha=0.3)\n",
    "\n",
    "# Defina os limites personalizados para o eixo x e y\n",
    "plt.xlim(30, 50)\n",
    "plt.ylim(99000, 105000)\n",
    "\n",
    "# Configure os rótulos dos eixos\n",
    "plt.title(\"Pressão por temperatura\")\n",
    "plt.ylabel(\"Pressão (Pa)\")\n",
    "plt.xlabel(\"Temperatura (°C)\")\n",
    "plt.locator_params(axis='x', nbins=20)\n",
    "plt.locator_params(axis='y', nbins=20)\n",
    "# Exiba o gráfico\n",
    "plt.grid(True)\n",
    "plt.show()\n"
   ]
  },
  {
   "cell_type": "code",
   "execution_count": null,
   "id": "552f8b09-b046-4476-8c21-85dacadf9c9a",
   "metadata": {},
   "outputs": [],
   "source": [
    "df.plot(x=\"Temperatura\", y=\"Real\")\n",
    "margem_erro = 100\n",
    "\n",
    "df[\"Real_sup\"] = df[\"Real\"] + margem_erro\n",
    "df[\"Real_inf\"] = df[\"Real\"] - margem_erro\n",
    "\n",
    "ax.fill_between(df[\"Temperatura\"], df[\"Real_sup\"], df[\"Real_inf\"], color='gray', alpha=0.3)\n",
    "plt.xlim(30, 50)\n",
    "plt.ylim(bottom=99000, top=105000)\n",
    "plt.ylabel(\"Pressão(Pa)\")\n",
    "plt.xlabel(\"Temperatura(°C)\")\n",
    "plt.show()"
   ]
  }
 ],
 "metadata": {
  "kernelspec": {
   "display_name": "Python 3.10.8 64-bit",
   "language": "python",
   "name": "python3"
  },
  "language_info": {
   "codemirror_mode": {
    "name": "ipython",
    "version": 3
   },
   "file_extension": ".py",
   "mimetype": "text/x-python",
   "name": "python",
   "nbconvert_exporter": "python",
   "pygments_lexer": "ipython3",
   "version": "3.10.8"
  },
  "vscode": {
   "interpreter": {
    "hash": "26de051ba29f2982a8de78e945f0abaf191376122a1563185a90213a26c5da77"
   }
  }
 },
 "nbformat": 4,
 "nbformat_minor": 5
}
