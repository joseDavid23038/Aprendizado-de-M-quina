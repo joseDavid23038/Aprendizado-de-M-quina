{
 "cells": [
  {
   "cell_type": "markdown",
   "id": "cb580613",
   "metadata": {},
   "source": [
    "## **Familiarizando-se com os datasets didáticos** <br>\n",
    "**ID:** Dados 01\n",
    "\n",
    "**Proponente:** Diana Didatolov (diretora da Biblioteca Real)<br> A\n",
    "\n",
    "**Objetivo:** O módulo seaborn tem vários datasets didáticos embutidos nele. Veja a função load_dataset no link https://seaborn.pydata.org/generated/seaborn.load_dataset.html para se informar mais. Seu objetivo é explorar pelo menos 3 datasets deste repositório. Espera-se que os datasets sejam carregados, exibidos e que os dados contidos nos datasets seja explorados e discutidos tanto sobre seu significado quanto suas características (análise exploratória). <br>\n",
    "\n",
    "Pontuação máxima: 20 + 5 pontos."
   ]
  },
  {
   "cell_type": "markdown",
   "id": "c95b05cd",
   "metadata": {},
   "source": [
    "## Exploração dos datasets:\n",
    "\n",
    "Inicialmente, a biblioteca a ser utilizada para carregar os datasets é importada."
   ]
  },
  {
   "cell_type": "code",
   "execution_count": 4,
   "id": "8b134347",
   "metadata": {},
   "outputs": [],
   "source": [
    "import seaborn as sbn"
   ]
  },
  {
   "cell_type": "markdown",
   "id": "3fabc50d",
   "metadata": {},
   "source": [
    "A função get_dataset names é utilizada para exibir as etiquetas dos repositórios, as quais serão necessárias para carregá-los através da função load_data_set. <sup>[1]<sup>"
   ]
  },
  {
   "cell_type": "code",
   "execution_count": 5,
   "id": "4390db7c",
   "metadata": {},
   "outputs": [
    {
     "name": "stdout",
     "output_type": "stream",
     "text": [
      "['anagrams', 'anscombe', 'attention', 'brain_networks', 'car_crashes', 'diamonds', 'dots', 'dowjones', 'exercise', 'flights', 'fmri', 'geyser', 'glue', 'healthexp', 'iris', 'mpg', 'penguins', 'planets', 'seaice', 'taxis', 'tips', 'titanic']\n"
     ]
    }
   ],
   "source": [
    "print(sbn.get_dataset_names())"
   ]
  },
  {
   "cell_type": "code",
   "execution_count": 6,
   "id": "5e60acb1",
   "metadata": {},
   "outputs": [],
   "source": [
    "iris_plantas = sbn.load_dataset('iris', cache=True, data_home=None)\n",
    "planetas = sbn.load_dataset('planets', cache=True, data_home=None)\n",
    "pinguins = sbn.load_dataset('penguins', cache=True, data_home=None)"
   ]
  },
  {
   "cell_type": "markdown",
   "id": "d989dc7e",
   "metadata": {},
   "source": [
    "O primeiro datasets carrega é de nome \"iris\", o qual é referente a um conjunto de dados contém 3 classes de 50 instâncias cada, onde cada classe se refere a um tipo de planta íris. <sup>[5]</sup> Realizando a plotagem do dataframe por meio da função display, é notável que esse dataset exibe informações de comprimento e largura das petalas e sepalas de diferentes espécies de iris. Por meio do dtypes, foi possível notar que as variáveis as quatro primeiras colunas se tratam de \n",
    "\n"
   ]
  },
  {
   "cell_type": "code",
   "execution_count": 7,
   "id": "a7f9496e",
   "metadata": {},
   "outputs": [
    {
     "data": {
      "text/html": [
       "<div>\n",
       "<style scoped>\n",
       "    .dataframe tbody tr th:only-of-type {\n",
       "        vertical-align: middle;\n",
       "    }\n",
       "\n",
       "    .dataframe tbody tr th {\n",
       "        vertical-align: top;\n",
       "    }\n",
       "\n",
       "    .dataframe thead th {\n",
       "        text-align: right;\n",
       "    }\n",
       "</style>\n",
       "<table border=\"1\" class=\"dataframe\">\n",
       "  <thead>\n",
       "    <tr style=\"text-align: right;\">\n",
       "      <th></th>\n",
       "      <th>sepal_length</th>\n",
       "      <th>sepal_width</th>\n",
       "      <th>petal_length</th>\n",
       "      <th>petal_width</th>\n",
       "      <th>species</th>\n",
       "    </tr>\n",
       "  </thead>\n",
       "  <tbody>\n",
       "    <tr>\n",
       "      <th>0</th>\n",
       "      <td>5.1</td>\n",
       "      <td>3.5</td>\n",
       "      <td>1.4</td>\n",
       "      <td>0.2</td>\n",
       "      <td>setosa</td>\n",
       "    </tr>\n",
       "    <tr>\n",
       "      <th>1</th>\n",
       "      <td>4.9</td>\n",
       "      <td>3.0</td>\n",
       "      <td>1.4</td>\n",
       "      <td>0.2</td>\n",
       "      <td>setosa</td>\n",
       "    </tr>\n",
       "    <tr>\n",
       "      <th>2</th>\n",
       "      <td>4.7</td>\n",
       "      <td>3.2</td>\n",
       "      <td>1.3</td>\n",
       "      <td>0.2</td>\n",
       "      <td>setosa</td>\n",
       "    </tr>\n",
       "    <tr>\n",
       "      <th>3</th>\n",
       "      <td>4.6</td>\n",
       "      <td>3.1</td>\n",
       "      <td>1.5</td>\n",
       "      <td>0.2</td>\n",
       "      <td>setosa</td>\n",
       "    </tr>\n",
       "    <tr>\n",
       "      <th>4</th>\n",
       "      <td>5.0</td>\n",
       "      <td>3.6</td>\n",
       "      <td>1.4</td>\n",
       "      <td>0.2</td>\n",
       "      <td>setosa</td>\n",
       "    </tr>\n",
       "    <tr>\n",
       "      <th>...</th>\n",
       "      <td>...</td>\n",
       "      <td>...</td>\n",
       "      <td>...</td>\n",
       "      <td>...</td>\n",
       "      <td>...</td>\n",
       "    </tr>\n",
       "    <tr>\n",
       "      <th>145</th>\n",
       "      <td>6.7</td>\n",
       "      <td>3.0</td>\n",
       "      <td>5.2</td>\n",
       "      <td>2.3</td>\n",
       "      <td>virginica</td>\n",
       "    </tr>\n",
       "    <tr>\n",
       "      <th>146</th>\n",
       "      <td>6.3</td>\n",
       "      <td>2.5</td>\n",
       "      <td>5.0</td>\n",
       "      <td>1.9</td>\n",
       "      <td>virginica</td>\n",
       "    </tr>\n",
       "    <tr>\n",
       "      <th>147</th>\n",
       "      <td>6.5</td>\n",
       "      <td>3.0</td>\n",
       "      <td>5.2</td>\n",
       "      <td>2.0</td>\n",
       "      <td>virginica</td>\n",
       "    </tr>\n",
       "    <tr>\n",
       "      <th>148</th>\n",
       "      <td>6.2</td>\n",
       "      <td>3.4</td>\n",
       "      <td>5.4</td>\n",
       "      <td>2.3</td>\n",
       "      <td>virginica</td>\n",
       "    </tr>\n",
       "    <tr>\n",
       "      <th>149</th>\n",
       "      <td>5.9</td>\n",
       "      <td>3.0</td>\n",
       "      <td>5.1</td>\n",
       "      <td>1.8</td>\n",
       "      <td>virginica</td>\n",
       "    </tr>\n",
       "  </tbody>\n",
       "</table>\n",
       "<p>150 rows × 5 columns</p>\n",
       "</div>"
      ],
      "text/plain": [
       "     sepal_length  sepal_width  petal_length  petal_width    species\n",
       "0             5.1          3.5           1.4          0.2     setosa\n",
       "1             4.9          3.0           1.4          0.2     setosa\n",
       "2             4.7          3.2           1.3          0.2     setosa\n",
       "3             4.6          3.1           1.5          0.2     setosa\n",
       "4             5.0          3.6           1.4          0.2     setosa\n",
       "..            ...          ...           ...          ...        ...\n",
       "145           6.7          3.0           5.2          2.3  virginica\n",
       "146           6.3          2.5           5.0          1.9  virginica\n",
       "147           6.5          3.0           5.2          2.0  virginica\n",
       "148           6.2          3.4           5.4          2.3  virginica\n",
       "149           5.9          3.0           5.1          1.8  virginica\n",
       "\n",
       "[150 rows x 5 columns]"
      ]
     },
     "metadata": {},
     "output_type": "display_data"
    },
    {
     "name": "stdout",
     "output_type": "stream",
     "text": [
      "sepal_length    float64\n",
      "sepal_width     float64\n",
      "petal_length    float64\n",
      "petal_width     float64\n",
      "species          object\n",
      "dtype: object\n"
     ]
    }
   ],
   "source": [
    "display(iris_plantas)\n",
    "print(iris_plantas.dtypes)"
   ]
  },
  {
   "cell_type": "markdown",
   "id": "3dcc3fa4",
   "metadata": {},
   "source": [
    "Realizando o plotagem "
   ]
  },
  {
   "cell_type": "code",
   "execution_count": 8,
   "id": "5dedd4a5",
   "metadata": {},
   "outputs": [
    {
     "data": {
      "image/png": "[encoded data removed]",
      "text/plain": [
       "<Figure size 640x480 with 1 Axes>"
      ]
     },
     "metadata": {},
     "output_type": "display_data"
    }
   ],
   "source": [
    "ax = sbn.histplot(iris_plantas, x=\"petal_width\", hue='species')\n",
    "sbn.move_legend(ax, \"center right\")\n"
   ]
  },
  {
   "cell_type": "markdown",
   "id": "f6f07a62",
   "metadata": {},
   "source": [
    "[![alttext](https://s3.amazonaws.com/assets.datacamp.com/blog_assets/Machine+Learning+R/iris-machinelearning.png)](linkurl)"
   ]
  },
  {
   "cell_type": "markdown",
   "id": "3787f310",
   "metadata": {},
   "source": [
    "## Referências:\n",
    "\n",
    "[1] seaborn.load_dataset — seaborn 0.11.1 documentation. Disponível em: <https://seaborn.pydata.org/generated/seaborn.load_dataset.html>. Acesso em: 15 ago. 2023.\n",
    "\n",
    "‌[2] Use display() not print() to display a dataframe in a jupyter notebook! · Issue #342 · swcarpentry/python-novice-gapminder. Disponível em: <https://github.com/swcarpentry/python-novice-gapminder/issues/342>. Acesso em: 15 ago. 2023.\n",
    "\n",
    "‌[3] NAME, Y. How to use Pandas Count and Value_Counts. Disponível em: <https://kanoki.org/2020/03/09/how-to-use-pandas-count-and-value_counts/>. Acesso em: 15 ago. 2023.\n",
    "\n",
    "‌[4] SRIVANI, K. D. IRIS Flowers Classification Using Machine Learning. Disponível em: <https://www.analyticsvidhya.com/blog/2022/06/iris-flowers-classification-using-machine-learning/>. Acesso em: 15 ago. 2023.\n",
    "\n",
    "[5] UCI Machine Learning Repository. Disponível em: <https://archive.ics.uci.edu/dataset/53/iris>. Acesso em 15 ago. 2023.\n",
    "\n",
    "[6] Data Science Example - Iris dataset. Disponível em: <http://www.lac.inpe.br/~rafael.santos/Docs/CAP394/WholeStory-Iris.html>. Acesso em 15 ago. 2023.\n",
    "\n",
    "[7] seaborn.histplot — seaborn 0.11.2 documentation. Disponível em: <https://seaborn.pydata.org/generated/seaborn.histplot.html>. Acesso em 15 ago. 2023.\n",
    "\n",
    "‌\n",
    "\n",
    "‌\n",
    "\n",
    "‌\n",
    "‌"
   ]
  }
 ],
 "metadata": {
  "kernelspec": {
   "display_name": "Python 3.10.8 64-bit",
   "language": "python",
   "name": "python3"
  },
  "language_info": {
   "codemirror_mode": {
    "name": "ipython",
    "version": 3
   },
   "file_extension": ".py",
   "mimetype": "text/x-python",
   "name": "python",
   "nbconvert_exporter": "python",
   "pygments_lexer": "ipython3",
   "version": "3.10.8"
  },
  "vscode": {
   "interpreter": {
    "hash": "26de051ba29f2982a8de78e945f0abaf191376122a1563185a90213a26c5da77"
   }
  }
 },
 "nbformat": 4,
 "nbformat_minor": 5
}
