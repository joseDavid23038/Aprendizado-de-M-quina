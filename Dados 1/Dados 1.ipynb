{
 "cells": [
  {
   "cell_type": "markdown",
   "id": "cb580613",
   "metadata": {},
   "source": [
    "## **Familiarizando-se com os datasets didáticos** <br>\n",
    "**ID:** Dados 01\n",
    "\n",
    "**Proponente:** Diana Didatolov (diretora da Biblioteca Real)<br> A\n",
    "\n",
    "**Objetivo:** O módulo seaborn tem vários datasets didáticos embutidos nele. Veja a função load_dataset no link https://seaborn.pydata.org/generated/seaborn.load_dataset.html para se informar mais. Seu objetivo é explorar pelo menos 3 datasets deste repositório. Espera-se que os datasets sejam carregados, exibidos e que os dados contidos nos datasets seja explorados e discutidos tanto sobre seu significado quanto suas características (análise exploratória). <br>\n",
    "\n",
    "Pontuação máxima: 20 + 5 pontos."
   ]
  },
  {
   "cell_type": "markdown",
   "id": "c95b05cd",
   "metadata": {},
   "source": [
    "## Exploração dos datasets:\n",
    "\n",
    "Inicialmente, a biblioteca a ser utilizada para carrear os datasets é importada."
   ]
  },
  {
   "cell_type": "code",
   "execution_count": 1,
   "id": "8b134347",
   "metadata": {},
   "outputs": [],
   "source": [
    "import seaborn as sbn"
   ]
  },
  {
   "cell_type": "markdown",
   "id": "3fabc50d",
   "metadata": {},
   "source": [
    "A função get_dataset names é utilizada para exibir as etiquetas dos repositórios, as quais serão necessárias para carregá-los através da função load_data_set. <sup>[1]<sup>"
   ]
  },
  {
   "cell_type": "code",
   "execution_count": 2,
   "id": "4390db7c",
   "metadata": {},
   "outputs": [
    {
     "name": "stdout",
     "output_type": "stream",
     "text": [
      "['anagrams', 'anscombe', 'attention', 'brain_networks', 'car_crashes', 'diamonds', 'dots', 'dowjones', 'exercise', 'flights', 'fmri', 'geyser', 'glue', 'healthexp', 'iris', 'mpg', 'penguins', 'planets', 'seaice', 'taxis', 'tips', 'titanic']\n"
     ]
    }
   ],
   "source": [
    "print(sbn.get_dataset_names())"
   ]
  },
  {
   "cell_type": "code",
   "execution_count": 3,
   "id": "5e60acb1",
   "metadata": {},
   "outputs": [],
   "source": [
    "iris_plantas = sbn.load_dataset('iris', cache=True, data_home=None)\n",
    "planetas = sbn.load_dataset('planets', cache=True, data_home=None)\n",
    "pinguins = sbn.load_dataset('penguins', cache=True, data_home=None)"
   ]
  },
  {
   "cell_type": "markdown",
   "id": "d989dc7e",
   "metadata": {},
   "source": [
    "O primeiro datasets carrega é de nome \"iris\", o qual é referente a um conjunto de dados contém 3 classes de 50 instâncias cada, onde cada classe se refere a um tipo de planta íris. <sup>[5]</sup> Realizando a plotagem do dataframe por meio da função display<sup>[2]</sup>, é notável que esse dataset exibe informações de comprimento e largura das petalas e sepalas de diferentes espécies de iris. Por meio do dtypes, foi possível notar que as variáveis as quatro primeiras colunas se tratam de floats e a última de uma variável objeto, a qual engloba o string da espécie.\n",
    "\n"
   ]
  },
  {
   "cell_type": "code",
   "execution_count": 4,
   "id": "a7f9496e",
   "metadata": {},
   "outputs": [
    {
     "data": {
      "text/html": [
       "<div>\n",
       "<style scoped>\n",
       "    .dataframe tbody tr th:only-of-type {\n",
       "        vertical-align: middle;\n",
       "    }\n",
       "\n",
       "    .dataframe tbody tr th {\n",
       "        vertical-align: top;\n",
       "    }\n",
       "\n",
       "    .dataframe thead th {\n",
       "        text-align: right;\n",
       "    }\n",
       "</style>\n",
       "<table border=\"1\" class=\"dataframe\">\n",
       "  <thead>\n",
       "    <tr style=\"text-align: right;\">\n",
       "      <th></th>\n",
       "      <th>sepal_length</th>\n",
       "      <th>sepal_width</th>\n",
       "      <th>petal_length</th>\n",
       "      <th>petal_width</th>\n",
       "      <th>species</th>\n",
       "    </tr>\n",
       "  </thead>\n",
       "  <tbody>\n",
       "    <tr>\n",
       "      <th>0</th>\n",
       "      <td>5.1</td>\n",
       "      <td>3.5</td>\n",
       "      <td>1.4</td>\n",
       "      <td>0.2</td>\n",
       "      <td>setosa</td>\n",
       "    </tr>\n",
       "    <tr>\n",
       "      <th>1</th>\n",
       "      <td>4.9</td>\n",
       "      <td>3.0</td>\n",
       "      <td>1.4</td>\n",
       "      <td>0.2</td>\n",
       "      <td>setosa</td>\n",
       "    </tr>\n",
       "    <tr>\n",
       "      <th>2</th>\n",
       "      <td>4.7</td>\n",
       "      <td>3.2</td>\n",
       "      <td>1.3</td>\n",
       "      <td>0.2</td>\n",
       "      <td>setosa</td>\n",
       "    </tr>\n",
       "    <tr>\n",
       "      <th>3</th>\n",
       "      <td>4.6</td>\n",
       "      <td>3.1</td>\n",
       "      <td>1.5</td>\n",
       "      <td>0.2</td>\n",
       "      <td>setosa</td>\n",
       "    </tr>\n",
       "    <tr>\n",
       "      <th>4</th>\n",
       "      <td>5.0</td>\n",
       "      <td>3.6</td>\n",
       "      <td>1.4</td>\n",
       "      <td>0.2</td>\n",
       "      <td>setosa</td>\n",
       "    </tr>\n",
       "    <tr>\n",
       "      <th>...</th>\n",
       "      <td>...</td>\n",
       "      <td>...</td>\n",
       "      <td>...</td>\n",
       "      <td>...</td>\n",
       "      <td>...</td>\n",
       "    </tr>\n",
       "    <tr>\n",
       "      <th>145</th>\n",
       "      <td>6.7</td>\n",
       "      <td>3.0</td>\n",
       "      <td>5.2</td>\n",
       "      <td>2.3</td>\n",
       "      <td>virginica</td>\n",
       "    </tr>\n",
       "    <tr>\n",
       "      <th>146</th>\n",
       "      <td>6.3</td>\n",
       "      <td>2.5</td>\n",
       "      <td>5.0</td>\n",
       "      <td>1.9</td>\n",
       "      <td>virginica</td>\n",
       "    </tr>\n",
       "    <tr>\n",
       "      <th>147</th>\n",
       "      <td>6.5</td>\n",
       "      <td>3.0</td>\n",
       "      <td>5.2</td>\n",
       "      <td>2.0</td>\n",
       "      <td>virginica</td>\n",
       "    </tr>\n",
       "    <tr>\n",
       "      <th>148</th>\n",
       "      <td>6.2</td>\n",
       "      <td>3.4</td>\n",
       "      <td>5.4</td>\n",
       "      <td>2.3</td>\n",
       "      <td>virginica</td>\n",
       "    </tr>\n",
       "    <tr>\n",
       "      <th>149</th>\n",
       "      <td>5.9</td>\n",
       "      <td>3.0</td>\n",
       "      <td>5.1</td>\n",
       "      <td>1.8</td>\n",
       "      <td>virginica</td>\n",
       "    </tr>\n",
       "  </tbody>\n",
       "</table>\n",
       "<p>150 rows × 5 columns</p>\n",
       "</div>"
      ],
      "text/plain": [
       "     sepal_length  sepal_width  petal_length  petal_width    species\n",
       "0             5.1          3.5           1.4          0.2     setosa\n",
       "1             4.9          3.0           1.4          0.2     setosa\n",
       "2             4.7          3.2           1.3          0.2     setosa\n",
       "3             4.6          3.1           1.5          0.2     setosa\n",
       "4             5.0          3.6           1.4          0.2     setosa\n",
       "..            ...          ...           ...          ...        ...\n",
       "145           6.7          3.0           5.2          2.3  virginica\n",
       "146           6.3          2.5           5.0          1.9  virginica\n",
       "147           6.5          3.0           5.2          2.0  virginica\n",
       "148           6.2          3.4           5.4          2.3  virginica\n",
       "149           5.9          3.0           5.1          1.8  virginica\n",
       "\n",
       "[150 rows x 5 columns]"
      ]
     },
     "metadata": {},
     "output_type": "display_data"
    },
    {
     "name": "stdout",
     "output_type": "stream",
     "text": [
      "sepal_length    float64\n",
      "sepal_width     float64\n",
      "petal_length    float64\n",
      "petal_width     float64\n",
      "species          object\n",
      "dtype: object\n"
     ]
    }
   ],
   "source": [
    "display(iris_plantas)\n",
    "print(iris_plantas.dtypes)"
   ]
  },
  {
<<<<<<< HEAD
   "cell_type": "markdown",
   "id": "3dcc3fa4",
   "metadata": {},
   "source": [
    "Realizando o plotagem de um histograma<sup>[7]</sup> da quantidade de plantas com um um determinado comprimento de petala é perceptível que a setosa tende a ter o menor comprimento de petala, enquanto a versicolor tende a possuir um tamanho médio em relação a setosa e a virginica, a qual apresenta os maiores tamanhos. Essa distribuição de tamanhos que se diferem pela espécie pode ser facilmente notada na imagem 1 logo abaixo do histograma.   "
   ]
  },
  {
=======
>>>>>>> 06e4dc6424a51f3e0010f15453f346f885742abe
   "cell_type": "code",
   "execution_count": 5,
   "id": "5dedd4a5",
   "metadata": {},
   "outputs": [
    {
     "data": {
      "image/png": "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",
      "text/plain": [
       "<Figure size 640x480 with 1 Axes>"
      ]
     },
     "metadata": {},
     "output_type": "display_data"
    }
   ],
   "source": [
    "ax = sbn.histplot(iris_plantas, x=\"petal_width\", hue='species')\n",
    "sbn.move_legend(ax, \"center right\")\n"
   ]
  },
  {
   "cell_type": "markdown",
   "id": "34ade2ed",
   "metadata": {},
   "source": [
    "Imagem 1 - Diferente espécies de iris.<sup> [6]<sup>"
   ]
  },
  {
   "cell_type": "markdown",
   "id": "f6f07a62",
   "metadata": {},
   "source": [
    "[![alttext](https://s3.amazonaws.com/assets.datacamp.com/blog_assets/Machine+Learning+R/iris-machinelearning.png)](linkurl)"
   ]
  },
  {
   "cell_type": "markdown",
   "id": "3787f310",
   "metadata": {},
   "source": [
    "## Referências:\n",
    "\n",
    "[1] seaborn.load_dataset — seaborn 0.11.1 documentation. Disponível em: <https://seaborn.pydata.org/generated/seaborn.load_dataset.html>. Acesso em: 15 ago. 2023.\n",
    "\n",
    "‌[2] Use display() not print() to display a dataframe in a jupyter notebook! · Issue #342 · swcarpentry/python-novice-gapminder. Disponível em: <https://github.com/swcarpentry/python-novice-gapminder/issues/342>. Acesso em: 15 ago. 2023.\n",
    "\n",
    "‌[3] NAME, Y. How to use Pandas Count and Value_Counts. Disponível em: <https://kanoki.org/2020/03/09/how-to-use-pandas-count-and-value_counts/>. Acesso em: 15 ago. 2023.\n",
    "\n",
    "‌[4] SRIVANI, K. D. IRIS Flowers Classification Using Machine Learning. Disponível em: <https://www.analyticsvidhya.com/blog/2022/06/iris-flowers-classification-using-machine-learning/>. Acesso em: 15 ago. 2023.\n",
    "\n",
    "[5] UCI Machine Learning Repository. Disponível em: <https://archive.ics.uci.edu/dataset/53/iris>. Acesso em 15 ago. 2023.\n",
    "\n",
    "[6] Data Science Example - Iris dataset. Disponível em: <http://www.lac.inpe.br/~rafael.santos/Docs/CAP394/WholeStory-Iris.html>. Acesso em 15 ago. 2023.\n",
    "\n",
    "[7] seaborn.histplot — seaborn 0.11.2 documentation. Disponível em: <https://seaborn.pydata.org/generated/seaborn.histplot.html>. Acesso em 15 ago. 2023.\n",
    "\n",
    "‌\n",
    "\n",
    "‌\n",
    "\n",
    "‌\n",
    "‌"
   ]
  }
 ],
 "metadata": {
  "kernelspec": {
   "display_name": "Python 3.9.13 ('base')",
   "language": "python",
   "name": "python3"
  },
  "language_info": {
   "codemirror_mode": {
    "name": "ipython",
    "version": 3
   },
   "file_extension": ".py",
   "mimetype": "text/x-python",
   "name": "python",
   "nbconvert_exporter": "python",
   "pygments_lexer": "ipython3",
   "version": "3.9.13"
  },
  "vscode": {
   "interpreter": {
    "hash": "ad2bdc8ecc057115af97d19610ffacc2b4e99fae6737bb82f5d7fb13d2f2c186"
   }
  }
 },
 "nbformat": 4,
 "nbformat_minor": 5
}
