{
 "cells": [
  {
   "cell_type": "markdown",
   "metadata": {},
   "source": [
    "<!DOCTYPE html>\n",
    "<html>\n",
    "<head>\n",
    "    <title>Magos da Furadeira</title>\n",
    "</head>\n",
    "<body>\n",
    "    <div style=\"display: flex; align-items: center;\">\n",
    "        <img src=\"https://i.ibb.co/z490FF5/FUNDO-REMOVIDO.png\" alt=\"FUNDO REMOVIDO\">\n",
    "        <p style=\"margin-left: 40px; font-size: 24px; font-weight: bold; border-bottom: 1px solid black;\">José David e Gabriel Torquarto - <br> Magos da Furadeira Bosch de Impacto </p>\n",
    "    </div>\n",
    "</body>\n",
    "</html>\n",
    "\n"
   ]
  },
  {
   "cell_type": "markdown",
   "metadata": {},
   "source": [
    "### **Iterações… iterações em todos os lugares**\n",
    "**ID:** Módulos 01\n",
    "\n",
    "**Proponente:** Diana Didatolov (diretora da Biblioteca Real)\n",
    "\n",
    "**Objetivo:** Escreva um notebook de Jupyter mostrando como funciona módulo itertools do Python (https://docs.python.org/3/library/itertools.html). Em particular, não se esqueça de mostrar com iteradores de análise combinatória (product, permutations, combinations e combinations_with_replacement).\n",
    "\n",
    "**Pontuação máxima:** 10 + 5 pontos."
   ]
  },
  {
   "cell_type": "markdown",
   "metadata": {},
   "source": [
    "O módulo itertools do Python fornece uma série de funções de manipulação de iterações. "
   ]
  },
  {
   "cell_type": "code",
   "execution_count": 2,
   "metadata": {},
   "outputs": [],
   "source": [
    "import itertools"
   ]
  },
  {
   "cell_type": "markdown",
   "metadata": {},
   "source": []
  },
  {
   "cell_type": "markdown",
   "metadata": {},
   "source": [
    "A função count é um iterador que gera valores de forma inifnita. Ela recebe dois argumetos, um \"start\" e um \"step\", responsáveis, respectivamente, por indicar o valor inicial e o valor do passo. "
   ]
  },
  {
   "cell_type": "code",
   "execution_count": 22,
   "metadata": {},
   "outputs": [],
   "source": [
    "def contador(inicio, passo):\n",
    "    contagem = []\n",
    "    for i in itertools.count(inicio, passo):\n",
    "        contagem.append(i)\n",
    "        if i >10:\n",
    "            break\n",
    "\n",
    "    return contagem"
   ]
  },
  {
   "cell_type": "code",
   "execution_count": 27,
   "metadata": {},
   "outputs": [
    {
     "data": {
      "text/plain": [
       "[1, 2, 3, 4, 5, 6, 7, 8, 9, 10, 11]"
      ]
     },
     "metadata": {},
     "output_type": "display_data"
    },
    {
     "data": {
      "text/plain": [
       "[1, 3, 5, 7, 9, 11]"
      ]
     },
     "metadata": {},
     "output_type": "display_data"
    },
    {
     "data": {
      "text/plain": [
       "[2, 4, 6, 8, 10, 12]"
      ]
     },
     "metadata": {},
     "output_type": "display_data"
    }
   ],
   "source": [
    "display(contador(1,1))\n",
    "display(contador(1,2))\n",
    "display(contador(2,2))"
   ]
  },
  {
   "cell_type": "code",
   "execution_count": null,
   "metadata": {},
   "outputs": [],
   "source": []
  },
  {
   "cell_type": "markdown",
   "metadata": {},
   "source": []
  },
  {
   "cell_type": "markdown",
   "metadata": {},
   "source": [
    "## Referências:\n",
    "\n",
    "[1] itertools — Functions creating iterators for efficient looping — Python 3.9.1 documentation. Disponível em: <https://docs.python.org/3/library/itertools.html>. Acesso em: 20 ago. 2023.\n",
    "\n",
    "[2] Python Tutorial: Itertools Module - Iterator Functions for Efficient Looping. Disponível em: <https://youtu.be/Qu3dThVy6KQ>. Acesso em: 22 ago. 2023.\n",
    "\n",
    "‌‌"
   ]
  }
 ],
 "metadata": {
  "kernelspec": {
   "display_name": "Python 3.10.8 64-bit",
   "language": "python",
   "name": "python3"
  },
  "language_info": {
   "codemirror_mode": {
    "name": "ipython",
    "version": 3
   },
   "file_extension": ".py",
   "mimetype": "text/x-python",
   "name": "python",
   "nbconvert_exporter": "python",
   "pygments_lexer": "ipython3",
   "version": "3.10.8"
  },
  "orig_nbformat": 4,
  "vscode": {
   "interpreter": {
    "hash": "26de051ba29f2982a8de78e945f0abaf191376122a1563185a90213a26c5da77"
   }
  }
 },
 "nbformat": 4,
 "nbformat_minor": 2
}
