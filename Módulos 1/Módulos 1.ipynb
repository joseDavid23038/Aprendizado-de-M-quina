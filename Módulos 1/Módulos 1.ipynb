{
 "cells": [
  {
   "cell_type": "markdown",
   "metadata": {},
   "source": [
    "<!DOCTYPE html>\n",
    "<html>\n",
    "<head>\n",
    "    <title>Magos da Furadeira</title>\n",
    "</head>\n",
    "<body>\n",
    "    <div style=\"display: flex; align-items: center;\">\n",
    "        <img src=\"https://i.ibb.co/z490FF5/FUNDO-REMOVIDO.png\" alt=\"FUNDO REMOVIDO\">\n",
    "        <p style=\"margin-left: 40px; font-size: 24px; font-weight: bold; border-bottom: 1px solid black;\">José David e Gabriel Torquarto - <br> Magos da Furadeira Bosch de Impacto </p>\n",
    "    </div>\n",
    "</body>\n",
    "</html>\n",
    "\n"
   ]
  },
  {
   "cell_type": "markdown",
   "metadata": {},
   "source": [
    "### **Iterações… iterações em todos os lugares**\n",
    "**ID:** Módulos 01\n",
    "\n",
    "**Proponente:** Diana Didatolov (diretora da Biblioteca Real)\n",
    "\n",
    "**Objetivo:** Escreva um notebook de Jupyter mostrando como funciona módulo itertools do Python (https://docs.python.org/3/library/itertools.html). Em particular, não se esqueça de mostrar com iteradores de análise combinatória (product, permutations, combinations e combinations_with_replacement).\n",
    "\n",
    "**Pontuação máxima:** 10 + 5 pontos."
   ]
  },
  {
   "cell_type": "markdown",
   "metadata": {},
   "source": [
    "### **Itertools:**\n",
    "\n",
    "O módulo itertools do Python fornece uma série de funções de manipulação de iterações. Existem três tipos de iteteradores no módulo itertools:<sup>[3]</sup> <br>\n",
    "**Infinitos:** Geram sequências de forma continua. <br>\n",
    "**Combinatórios:** Lidam com arranja e contagem de objetos.<br>\n",
    "**De encerramento:** Processam entradas finitas. <br>"
   ]
  },
  {
   "cell_type": "code",
   "execution_count": 2,
   "metadata": {},
   "outputs": [],
   "source": [
    "import itertools"
   ]
  },
  {
   "cell_type": "markdown",
   "metadata": {},
   "source": [
    "#### Iteradores infinitos: <sup>[1]</sup>\n",
    " - Count;<br>\n",
    " - Cycle;<br>\n",
    "  - Repeat;<br>  "
   ]
  },
  {
   "cell_type": "markdown",
   "metadata": {},
   "source": [
    "O iterador count realiza uma contagem infinita partindo de um primeiro valor e seguindo infinitamente em um passo. Os argumentos recebidos são 2: o primeiro é obrigatório e referente a um valor inicial e o segundo é opcional e é referente ao passo com que a contagem é feita. Caso o argumento de passo \"step\" não seja colocado, é assimido o valor 1. Vale ressaltar que é importante criar um critério de parada em qualquer função que ele seja inserido para impedir que haja um loop infinito<sup>[1]</sup>.<br>\n",
    "A função abaixo é uma exemplificação do uso do iterador count. De forma resumida, a função recebe os argumetos que o count necessita, cria uma lista de contagem e para cada i dentro do count, é adicionado na lista  "
   ]
  },
  {
   "cell_type": "code",
   "execution_count": 11,
   "metadata": {},
   "outputs": [],
   "source": [
    "def contador(inicio, passo=1):\n",
    "    contagem = []\n",
    "    for i in itertools.count(inicio, passo):\n",
    "        contagem.append(i)\n",
    "        if i >+10:\n",
    "            break\n",
    "\n",
    "    return contagem"
   ]
  },
  {
   "cell_type": "markdown",
   "metadata": {},
   "source": [
    "Na célula abaixo, a função criada é utilizada, tendo seus valores de start e step alterados. A função limita até que o valor seja maior ou igual a 10"
   ]
  },
  {
   "cell_type": "code",
   "execution_count": 10,
   "metadata": {},
   "outputs": [
    {
     "data": {
      "text/plain": [
       "[1, 2, 3, 4, 5, 6, 7, 8, 9, 10, 11]"
      ]
     },
     "metadata": {},
     "output_type": "display_data"
    },
    {
     "data": {
      "text/plain": [
       "[1, 3, 5, 7, 9, 11]"
      ]
     },
     "metadata": {},
     "output_type": "display_data"
    },
    {
     "data": {
      "text/plain": [
       "[2, 4, 6, 8, 10, 12]"
      ]
     },
     "metadata": {},
     "output_type": "display_data"
    }
   ],
   "source": [
    "display(contador(1,1))\n",
    "display(contador(1,2))\n",
    "display(contador(2,2))"
   ]
  },
  {
   "cell_type": "markdown",
   "metadata": {},
   "source": [
    "O iterador cycle imprime todos os valores do parâmetro recebido. Ele reinicia a impressão novamente quando todos os elementos são impressos de maneira cíclica<sup>[1]</sup>. <br>\n",
    "A célula de código abaixo faz uso do cycle para imprimir a entrada infinitas vezes até que o número delimitado de ciclos. Caso não houvesse esssa limitação, a célula entraria em loop infinito."
   ]
  },
  {
   "cell_type": "code",
   "execution_count": 5,
   "metadata": {},
   "outputs": [
    {
     "name": "stdout",
     "output_type": "stream",
     "text": [
      "1 pi não é 3 . 1 pi não é 3 . 1 pi não é 3 . "
     ]
    }
   ],
   "source": [
    "ciclos = 0\n",
    "entrada = [1,\"pi\",\"não\",\"é\",3,\".\"]\n",
    "\n",
    "for i in itertools.cycle(entrada): \n",
    "    if ciclos >= len(entrada)*3:\n",
    "        break\n",
    "    else:\n",
    "        print(i,end=\" \" )\n",
    "        ciclos = ciclos+1  "
   ]
  },
  {
   "cell_type": "markdown",
   "metadata": {},
   "source": [
    "O iterador repeat recebe um ou dois argumentos, o "
   ]
  },
  {
   "cell_type": "code",
   "execution_count": 8,
   "metadata": {},
   "outputs": [
    {
     "data": {
      "text/plain": [
       "repeat(2, 3)"
      ]
     },
     "execution_count": 8,
     "metadata": {},
     "output_type": "execute_result"
    }
   ],
   "source": [
    "itertools.repeat(2,3)"
   ]
  },
  {
   "cell_type": "markdown",
   "metadata": {},
   "source": [
    "## Referências:\n",
    "\n",
    "[1] itertools — Functions creating iterators for efficient looping — Python 3.9.1 documentation. Disponível em: <https://docs.python.org/3/library/itertools.html>. Acesso em: 20 ago. 2023.\n",
    "\n",
    "[2] Python Tutorial: Itertools Module - Iterator Functions for Efficient Looping. Disponível em: <https://youtu.be/Qu3dThVy6KQ>. Acesso em: 22 ago. 2023.\n",
    "\n",
    "‌‌[3]Biblioteca itertools do Python. Disponível em: <https://pythonacademy.com.br/blog/a-biblioteca-itertools-do-python#iteradores-de-encerramento>. Acesso em: 22 ago. 2023.\n",
    "\n",
    "‌"
   ]
  }
 ],
 "metadata": {
  "kernelspec": {
   "display_name": "Python 3.10.8 64-bit",
   "language": "python",
   "name": "python3"
  },
  "language_info": {
   "codemirror_mode": {
    "name": "ipython",
    "version": 3
   },
   "file_extension": ".py",
   "mimetype": "text/x-python",
   "name": "python",
   "nbconvert_exporter": "python",
   "pygments_lexer": "ipython3",
   "version": "3.10.8"
  },
  "orig_nbformat": 4,
  "vscode": {
   "interpreter": {
    "hash": "26de051ba29f2982a8de78e945f0abaf191376122a1563185a90213a26c5da77"
   }
  }
 },
 "nbformat": 4,
 "nbformat_minor": 2
}
